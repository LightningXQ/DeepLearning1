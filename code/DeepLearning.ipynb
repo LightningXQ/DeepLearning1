{
  "cells": [
    {
      "cell_type": "markdown",
      "metadata": {
        "id": "kxf_XUrnBlwn"
      },
      "source": [
        "### Google Colab 환경에서 진행하였습니다.\n",
        "Korean Hate Speech Detection의 입력 텍스트에서 감정 벡터를 추출하기 위하여 Sentiment Analysis에서 학습(fine-tuning)한 모델을 활용하였습니다.  \n",
        "따라서 Sentiment Analysis를 진행한 이후에 Korean Hate Speech Detection을 진행하였습니다.  \n",
        "드라이브에 마운트하는 코드와 데이터셋을 가져오는 코드에서는 **데이터셋이 있는 디렉토리를 올바르게 지정**하여야 합니다.  \n",
        "또한 모델이 추론(inference)을 수행하는 코드에서는 **추론을 수행하고자 하는 모델 파일이 있는 디렉토리를 올바르게 지정**하여야 합니다.  \n",
        "Sentiment Analysis의 Model Training 코드에서는 early stopping 수행 여부에 따라 **두 블록의 학습 코드 중 하나만 실행**해야 합니다.\n",
        "\n"
      ]
    },
    {
      "cell_type": "markdown",
      "metadata": {
        "id": "zl0HOW1cLDzZ"
      },
      "source": [
        "# Environment settings"
      ]
    },
    {
      "cell_type": "markdown",
      "metadata": {
        "id": "gIwJ776uxPaT"
      },
      "source": [
        "### install modules"
      ]
    },
    {
      "cell_type": "code",
      "execution_count": 1,
      "metadata": {
        "colab": {
          "base_uri": "https://localhost:8080/"
        },
        "id": "cB9N7Xc-vb0V",
        "outputId": "d107bd1d-4b73-475e-ddfa-fbab661588da"
      },
      "outputs": [
        {
          "name": "stdout",
          "output_type": "stream",
          "text": [
            "\u001b[?25l   \u001b[90m━━━━━━━━━━━━━━━━━━━━━━━━━━━━━━━━━━━━━━━━\u001b[0m \u001b[32m0.0/433.8 kB\u001b[0m \u001b[31m?\u001b[0m eta \u001b[36m-:--:--\u001b[0m\r\u001b[2K   \u001b[91m━━━━━━━━━━━━━\u001b[0m\u001b[90m╺\u001b[0m\u001b[90m━━━━━━━━━━━━━━━━━━━━━━━━━━\u001b[0m \u001b[32m143.4/433.8 kB\u001b[0m \u001b[31m4.1 MB/s\u001b[0m eta \u001b[36m0:00:01\u001b[0m\r\u001b[2K   \u001b[90m━━━━━━━━━━━━━━━━━━━━━━━━━━━━━━━━━━━━━━━━\u001b[0m \u001b[32m433.8/433.8 kB\u001b[0m \u001b[31m6.5 MB/s\u001b[0m eta \u001b[36m0:00:00\u001b[0m\n",
            "\u001b[?25h"
          ]
        }
      ],
      "source": [
        "# 텍스트 이모지 전처리\n",
        "!pip install --quiet emoji==2.11.1"
      ]
    },
    {
      "cell_type": "markdown",
      "metadata": {
        "id": "XbxHKYMJQv7K"
      },
      "source": [
        "### import modules"
      ]
    },
    {
      "cell_type": "code",
      "execution_count": 2,
      "metadata": {
        "id": "cvptqBeLMmXU"
      },
      "outputs": [],
      "source": [
        "import numpy as np\n",
        "import pandas as pd\n",
        "import os                               # file system에 접근\n",
        "import re, html, unicodedata, emoji     # text preprocessing의 regular expression\n",
        "import gc                               # GPU memory cache 청소\n",
        "import time\n",
        "\n",
        "from transformers import AutoTokenizer, AutoConfig, AutoModelForSequenceClassification\n",
        "from transformers.optimization import get_scheduler\n",
        "from sklearn.model_selection import train_test_split\n",
        "from sklearn.metrics import accuracy_score, classification_report, f1_score\n",
        "from tqdm import tqdm                   # model training/validation/test에서 학습 과정을 시각화\n",
        "import torch\n",
        "import torch.nn as nn\n",
        "from torch.utils.data import Dataset, DataLoader\n",
        "from torch.optim import AdamW"
      ]
    },
    {
      "cell_type": "markdown",
      "metadata": {
        "id": "dbGjp7UrRFvK"
      },
      "source": [
        "### drive mount"
      ]
    },
    {
      "cell_type": "code",
      "execution_count": 3,
      "metadata": {
        "colab": {
          "base_uri": "https://localhost:8080/"
        },
        "id": "DOvCBqjpPJjm",
        "outputId": "e5561472-a021-43b7-ff43-8c5844881cb5"
      },
      "outputs": [
        {
          "name": "stdout",
          "output_type": "stream",
          "text": [
            "Mounted at /content/drive\n"
          ]
        }
      ],
      "source": [
        "from google.colab import drive\n",
        "drive.mount('/content/drive')"
      ]
    },
    {
      "cell_type": "code",
      "execution_count": 4,
      "metadata": {
        "colab": {
          "base_uri": "https://localhost:8080/"
        },
        "id": "kmN7KUvGMz65",
        "outputId": "f860b750-b282-450e-dff9-cfb39830df97"
      },
      "outputs": [
        {
          "name": "stdout",
          "output_type": "stream",
          "text": [
            "/content/drive/MyDrive/DeepLearning/test.tsv\n",
            "/content/drive/MyDrive/DeepLearning/validation.tsv\n",
            "/content/drive/MyDrive/DeepLearning/train.tsv\n",
            "/content/drive/MyDrive/DeepLearning/sentiment.csv\n",
            "/content/drive/MyDrive/DeepLearning/sentiment/snunlp/KR-Medium_20250612-153337/model/config.json\n",
            "/content/drive/MyDrive/DeepLearning/sentiment/snunlp/KR-Medium_20250612-153337/model/model.safetensors\n",
            "/content/drive/MyDrive/DeepLearning/sentiment/snunlp/KR-Medium_20250612-153337/tokenizer/tokenizer_config.json\n",
            "/content/drive/MyDrive/DeepLearning/sentiment/snunlp/KR-Medium_20250612-153337/tokenizer/special_tokens_map.json\n",
            "/content/drive/MyDrive/DeepLearning/sentiment/snunlp/KR-Medium_20250612-153337/tokenizer/vocab.txt\n",
            "/content/drive/MyDrive/DeepLearning/sentiment/snunlp/KR-Medium_20250612-153337/tokenizer/tokenizer.json\n",
            "/content/drive/MyDrive/DeepLearning/sentiment/snunlp/KR-Medium_20250612-154247/model/config.json\n",
            "/content/drive/MyDrive/DeepLearning/sentiment/snunlp/KR-Medium_20250612-154247/model/model.safetensors\n",
            "/content/drive/MyDrive/DeepLearning/sentiment/snunlp/KR-Medium_20250612-154247/tokenizer/tokenizer_config.json\n",
            "/content/drive/MyDrive/DeepLearning/sentiment/snunlp/KR-Medium_20250612-154247/tokenizer/special_tokens_map.json\n",
            "/content/drive/MyDrive/DeepLearning/sentiment/snunlp/KR-Medium_20250612-154247/tokenizer/vocab.txt\n",
            "/content/drive/MyDrive/DeepLearning/sentiment/snunlp/KR-Medium_20250612-154247/tokenizer/tokenizer.json\n",
            "/content/drive/MyDrive/DeepLearning/sentiment/snunlp/KR-Medium_20250612-154953/model/config.json\n",
            "/content/drive/MyDrive/DeepLearning/sentiment/snunlp/KR-Medium_20250612-154953/model/model.safetensors\n",
            "/content/drive/MyDrive/DeepLearning/sentiment/snunlp/KR-Medium_20250612-154953/tokenizer/tokenizer_config.json\n",
            "/content/drive/MyDrive/DeepLearning/sentiment/snunlp/KR-Medium_20250612-154953/tokenizer/special_tokens_map.json\n",
            "/content/drive/MyDrive/DeepLearning/sentiment/snunlp/KR-Medium_20250612-154953/tokenizer/vocab.txt\n",
            "/content/drive/MyDrive/DeepLearning/sentiment/snunlp/KR-Medium_20250612-154953/tokenizer/tokenizer.json\n",
            "/content/drive/MyDrive/DeepLearning/sentiment/lassl/bert-ko-small_20250612-162057/model/config.json\n",
            "/content/drive/MyDrive/DeepLearning/sentiment/lassl/bert-ko-small_20250612-162057/model/model.safetensors\n",
            "/content/drive/MyDrive/DeepLearning/sentiment/lassl/bert-ko-small_20250612-162057/tokenizer/tokenizer_config.json\n",
            "/content/drive/MyDrive/DeepLearning/sentiment/lassl/bert-ko-small_20250612-162057/tokenizer/special_tokens_map.json\n",
            "/content/drive/MyDrive/DeepLearning/sentiment/lassl/bert-ko-small_20250612-162057/tokenizer/vocab.txt\n",
            "/content/drive/MyDrive/DeepLearning/sentiment/lassl/bert-ko-small_20250612-162057/tokenizer/tokenizer.json\n",
            "/content/drive/MyDrive/DeepLearning/sentiment/lassl/bert-ko-small_20250612-162209/model/config.json\n",
            "/content/drive/MyDrive/DeepLearning/sentiment/lassl/bert-ko-small_20250612-162209/model/model.safetensors\n",
            "/content/drive/MyDrive/DeepLearning/sentiment/lassl/bert-ko-small_20250612-162209/tokenizer/tokenizer_config.json\n",
            "/content/drive/MyDrive/DeepLearning/sentiment/lassl/bert-ko-small_20250612-162209/tokenizer/special_tokens_map.json\n",
            "/content/drive/MyDrive/DeepLearning/sentiment/lassl/bert-ko-small_20250612-162209/tokenizer/vocab.txt\n",
            "/content/drive/MyDrive/DeepLearning/sentiment/lassl/bert-ko-small_20250612-162209/tokenizer/tokenizer.json\n",
            "/content/drive/MyDrive/DeepLearning/sentiment/lassl/bert-ko-small_20250612-162400/model/config.json\n",
            "/content/drive/MyDrive/DeepLearning/sentiment/lassl/bert-ko-small_20250612-162400/model/model.safetensors\n",
            "/content/drive/MyDrive/DeepLearning/sentiment/lassl/bert-ko-small_20250612-162400/tokenizer/tokenizer_config.json\n",
            "/content/drive/MyDrive/DeepLearning/sentiment/lassl/bert-ko-small_20250612-162400/tokenizer/special_tokens_map.json\n",
            "/content/drive/MyDrive/DeepLearning/sentiment/lassl/bert-ko-small_20250612-162400/tokenizer/vocab.txt\n",
            "/content/drive/MyDrive/DeepLearning/sentiment/lassl/bert-ko-small_20250612-162400/tokenizer/tokenizer.json\n",
            "/content/drive/MyDrive/DeepLearning/sentiment/lassl/bert-ko-small_20250613-011830/model/config.json\n",
            "/content/drive/MyDrive/DeepLearning/sentiment/lassl/bert-ko-small_20250613-011830/model/model.safetensors\n",
            "/content/drive/MyDrive/DeepLearning/sentiment/lassl/bert-ko-small_20250613-011830/tokenizer/tokenizer_config.json\n",
            "/content/drive/MyDrive/DeepLearning/sentiment/lassl/bert-ko-small_20250613-011830/tokenizer/special_tokens_map.json\n",
            "/content/drive/MyDrive/DeepLearning/sentiment/lassl/bert-ko-small_20250613-011830/tokenizer/vocab.txt\n",
            "/content/drive/MyDrive/DeepLearning/sentiment/lassl/bert-ko-small_20250613-011830/tokenizer/tokenizer.json\n",
            "/content/drive/MyDrive/DeepLearning/sentiment/lassl/bert-ko-small_20250613-011942/model/config.json\n",
            "/content/drive/MyDrive/DeepLearning/sentiment/lassl/bert-ko-small_20250613-011942/model/model.safetensors\n",
            "/content/drive/MyDrive/DeepLearning/sentiment/lassl/bert-ko-small_20250613-011942/tokenizer/tokenizer_config.json\n",
            "/content/drive/MyDrive/DeepLearning/sentiment/lassl/bert-ko-small_20250613-011942/tokenizer/special_tokens_map.json\n",
            "/content/drive/MyDrive/DeepLearning/sentiment/lassl/bert-ko-small_20250613-011942/tokenizer/vocab.txt\n",
            "/content/drive/MyDrive/DeepLearning/sentiment/lassl/bert-ko-small_20250613-011942/tokenizer/tokenizer.json\n",
            "/content/drive/MyDrive/DeepLearning/sentiment/lassl/bert-ko-small_20250613-012054/model/config.json\n",
            "/content/drive/MyDrive/DeepLearning/sentiment/lassl/bert-ko-small_20250613-012054/model/model.safetensors\n",
            "/content/drive/MyDrive/DeepLearning/sentiment/lassl/bert-ko-small_20250613-012054/tokenizer/tokenizer_config.json\n",
            "/content/drive/MyDrive/DeepLearning/sentiment/lassl/bert-ko-small_20250613-012054/tokenizer/special_tokens_map.json\n",
            "/content/drive/MyDrive/DeepLearning/sentiment/lassl/bert-ko-small_20250613-012054/tokenizer/vocab.txt\n",
            "/content/drive/MyDrive/DeepLearning/sentiment/lassl/bert-ko-small_20250613-012054/tokenizer/tokenizer.json\n",
            "/content/drive/MyDrive/DeepLearning/sentiment/lassl/bert-ko-small_20250613-012856/model/config.json\n",
            "/content/drive/MyDrive/DeepLearning/sentiment/lassl/bert-ko-small_20250613-012856/model/model.safetensors\n",
            "/content/drive/MyDrive/DeepLearning/sentiment/lassl/bert-ko-small_20250613-012856/tokenizer/tokenizer_config.json\n",
            "/content/drive/MyDrive/DeepLearning/sentiment/lassl/bert-ko-small_20250613-012856/tokenizer/special_tokens_map.json\n",
            "/content/drive/MyDrive/DeepLearning/sentiment/lassl/bert-ko-small_20250613-012856/tokenizer/vocab.txt\n",
            "/content/drive/MyDrive/DeepLearning/sentiment/lassl/bert-ko-small_20250613-012856/tokenizer/tokenizer.json\n",
            "/content/drive/MyDrive/DeepLearning/sentiment/lassl/bert-ko-small_20250613-013008/model/config.json\n",
            "/content/drive/MyDrive/DeepLearning/sentiment/lassl/bert-ko-small_20250613-013008/model/model.safetensors\n",
            "/content/drive/MyDrive/DeepLearning/sentiment/lassl/bert-ko-small_20250613-013008/tokenizer/tokenizer_config.json\n",
            "/content/drive/MyDrive/DeepLearning/sentiment/lassl/bert-ko-small_20250613-013008/tokenizer/special_tokens_map.json\n",
            "/content/drive/MyDrive/DeepLearning/sentiment/lassl/bert-ko-small_20250613-013008/tokenizer/vocab.txt\n",
            "/content/drive/MyDrive/DeepLearning/sentiment/lassl/bert-ko-small_20250613-013008/tokenizer/tokenizer.json\n",
            "/content/drive/MyDrive/DeepLearning/sentiment/lassl/bert-ko-small_20250613-013120/model/config.json\n",
            "/content/drive/MyDrive/DeepLearning/sentiment/lassl/bert-ko-small_20250613-013120/model/model.safetensors\n",
            "/content/drive/MyDrive/DeepLearning/sentiment/lassl/bert-ko-small_20250613-013120/tokenizer/tokenizer_config.json\n",
            "/content/drive/MyDrive/DeepLearning/sentiment/lassl/bert-ko-small_20250613-013120/tokenizer/special_tokens_map.json\n",
            "/content/drive/MyDrive/DeepLearning/sentiment/lassl/bert-ko-small_20250613-013120/tokenizer/vocab.txt\n",
            "/content/drive/MyDrive/DeepLearning/sentiment/lassl/bert-ko-small_20250613-013120/tokenizer/tokenizer.json\n",
            "/content/drive/MyDrive/DeepLearning/sentiment/bert-base-multilingual-cased_20250613-014851/model/config.json\n",
            "/content/drive/MyDrive/DeepLearning/sentiment/bert-base-multilingual-cased_20250613-014851/model/model.safetensors\n",
            "/content/drive/MyDrive/DeepLearning/sentiment/bert-base-multilingual-cased_20250613-014851/tokenizer/tokenizer_config.json\n",
            "/content/drive/MyDrive/DeepLearning/sentiment/bert-base-multilingual-cased_20250613-014851/tokenizer/special_tokens_map.json\n",
            "/content/drive/MyDrive/DeepLearning/sentiment/bert-base-multilingual-cased_20250613-014851/tokenizer/vocab.txt\n",
            "/content/drive/MyDrive/DeepLearning/sentiment/bert-base-multilingual-cased_20250613-014851/tokenizer/tokenizer.json\n",
            "/content/drive/MyDrive/DeepLearning/sentiment/bert-base-multilingual-cased_20250613-015631/model/config.json\n",
            "/content/drive/MyDrive/DeepLearning/sentiment/bert-base-multilingual-cased_20250613-015631/model/model.safetensors\n",
            "/content/drive/MyDrive/DeepLearning/sentiment/bert-base-multilingual-cased_20250613-015631/tokenizer/tokenizer_config.json\n",
            "/content/drive/MyDrive/DeepLearning/sentiment/bert-base-multilingual-cased_20250613-015631/tokenizer/special_tokens_map.json\n",
            "/content/drive/MyDrive/DeepLearning/sentiment/bert-base-multilingual-cased_20250613-015631/tokenizer/vocab.txt\n",
            "/content/drive/MyDrive/DeepLearning/sentiment/bert-base-multilingual-cased_20250613-015631/tokenizer/tokenizer.json\n",
            "/content/drive/MyDrive/DeepLearning/sentiment/bert-base-multilingual-cased_20250613-020412/model/config.json\n",
            "/content/drive/MyDrive/DeepLearning/sentiment/bert-base-multilingual-cased_20250613-020412/model/model.safetensors\n",
            "/content/drive/MyDrive/DeepLearning/sentiment/bert-base-multilingual-cased_20250613-020412/tokenizer/tokenizer_config.json\n",
            "/content/drive/MyDrive/DeepLearning/sentiment/bert-base-multilingual-cased_20250613-020412/tokenizer/special_tokens_map.json\n",
            "/content/drive/MyDrive/DeepLearning/sentiment/bert-base-multilingual-cased_20250613-020412/tokenizer/vocab.txt\n",
            "/content/drive/MyDrive/DeepLearning/sentiment/bert-base-multilingual-cased_20250613-020412/tokenizer/tokenizer.json\n",
            "/content/drive/MyDrive/DeepLearning/sentiment/bert-base-multilingual-cased_20250613-021155/model/config.json\n",
            "/content/drive/MyDrive/DeepLearning/sentiment/bert-base-multilingual-cased_20250613-021155/model/model.safetensors\n",
            "/content/drive/MyDrive/DeepLearning/sentiment/bert-base-multilingual-cased_20250613-021155/tokenizer/tokenizer_config.json\n",
            "/content/drive/MyDrive/DeepLearning/sentiment/bert-base-multilingual-cased_20250613-021155/tokenizer/special_tokens_map.json\n",
            "/content/drive/MyDrive/DeepLearning/sentiment/bert-base-multilingual-cased_20250613-021155/tokenizer/vocab.txt\n",
            "/content/drive/MyDrive/DeepLearning/sentiment/bert-base-multilingual-cased_20250613-021155/tokenizer/tokenizer.json\n",
            "/content/drive/MyDrive/DeepLearning/sentiment/skt/kobert-base-v1_20250613-023140/model/config.json\n",
            "/content/drive/MyDrive/DeepLearning/sentiment/skt/kobert-base-v1_20250613-023140/model/model.safetensors\n",
            "/content/drive/MyDrive/DeepLearning/sentiment/skt/kobert-base-v1_20250613-023140/tokenizer/tokenizer_config.json\n",
            "/content/drive/MyDrive/DeepLearning/sentiment/skt/kobert-base-v1_20250613-023140/tokenizer/special_tokens_map.json\n",
            "/content/drive/MyDrive/DeepLearning/sentiment/skt/kobert-base-v1_20250613-023140/tokenizer/spiece.model\n",
            "/content/drive/MyDrive/DeepLearning/sentiment/skt/kobert-base-v1_20250613-023140/tokenizer/tokenizer.json\n",
            "/content/drive/MyDrive/DeepLearning/sentiment/monologg/kobert_20250616-081359/model/config.json\n",
            "/content/drive/MyDrive/DeepLearning/sentiment/monologg/kobert_20250616-081359/model/model.safetensors\n",
            "/content/drive/MyDrive/DeepLearning/sentiment/monologg/kobert_20250616-081359/tokenizer/tokenizer_config.json\n",
            "/content/drive/MyDrive/DeepLearning/sentiment/monologg/kobert_20250616-081359/tokenizer/special_tokens_map.json\n",
            "/content/drive/MyDrive/DeepLearning/sentiment/monologg/kobert_20250616-081937/model/config.json\n",
            "/content/drive/MyDrive/DeepLearning/sentiment/monologg/kobert_20250616-081937/model/model.safetensors\n",
            "/content/drive/MyDrive/DeepLearning/sentiment/monologg/kobert_20250616-081937/tokenizer/tokenizer_config.json\n",
            "/content/drive/MyDrive/DeepLearning/sentiment/monologg/kobert_20250616-081937/tokenizer/special_tokens_map.json\n",
            "/content/drive/MyDrive/DeepLearning/sentiment/monologg/kobert_20250616-082056/model/config.json\n",
            "/content/drive/MyDrive/DeepLearning/sentiment/monologg/kobert_20250616-082056/model/model.safetensors\n",
            "/content/drive/MyDrive/DeepLearning/sentiment/monologg/kobert_20250616-082056/tokenizer/tokenizer_config.json\n",
            "/content/drive/MyDrive/DeepLearning/sentiment/monologg/kobert_20250616-082056/tokenizer/special_tokens_map.json\n",
            "/content/drive/MyDrive/DeepLearning/sentiment/monologg/kobert_20250616-082412/model/config.json\n",
            "/content/drive/MyDrive/DeepLearning/sentiment/monologg/kobert_20250616-082412/model/model.safetensors\n",
            "/content/drive/MyDrive/DeepLearning/sentiment/monologg/kobert_20250616-082412/tokenizer/tokenizer_config.json\n",
            "/content/drive/MyDrive/DeepLearning/sentiment/monologg/kobert_20250616-082412/tokenizer/special_tokens_map.json\n",
            "/content/drive/MyDrive/DeepLearning/sentiment/monologg/kobert_20250616-083026/model/config.json\n",
            "/content/drive/MyDrive/DeepLearning/sentiment/monologg/kobert_20250616-083026/model/model.safetensors\n",
            "/content/drive/MyDrive/DeepLearning/sentiment/monologg/kobert_20250616-083026/tokenizer/tokenizer_config.json\n",
            "/content/drive/MyDrive/DeepLearning/sentiment/monologg/kobert_20250616-083026/tokenizer/special_tokens_map.json\n",
            "/content/drive/MyDrive/DeepLearning/sentiment/monologg_kobert_20250616-083332/model/config.json\n",
            "/content/drive/MyDrive/DeepLearning/sentiment/monologg_kobert_20250616-083332/model/model.safetensors\n",
            "/content/drive/MyDrive/DeepLearning/sentiment/monologg_kobert_20250616-083332/tokenizer/tokenizer_config.json\n",
            "/content/drive/MyDrive/DeepLearning/sentiment/monologg_kobert_20250616-083332/tokenizer/special_tokens_map.json\n",
            "/content/drive/MyDrive/DeepLearning/sentiment/UICHEOL-HWANG_kobert_20250621-090110/model/config.json\n",
            "/content/drive/MyDrive/DeepLearning/sentiment/UICHEOL-HWANG_kobert_20250621-090110/model/model.safetensors\n",
            "/content/drive/MyDrive/DeepLearning/sentiment/UICHEOL-HWANG_kobert_20250621-090110/tokenizer/tokenizer_config.json\n",
            "/content/drive/MyDrive/DeepLearning/sentiment/UICHEOL-HWANG_kobert_20250621-090110/tokenizer/special_tokens_map.json\n",
            "/content/drive/MyDrive/DeepLearning/sentiment/UICHEOL-HWANG_kobert_20250621-091344/model/config.json\n",
            "/content/drive/MyDrive/DeepLearning/sentiment/UICHEOL-HWANG_kobert_20250621-091344/model/model.safetensors\n",
            "/content/drive/MyDrive/DeepLearning/sentiment/UICHEOL-HWANG_kobert_20250621-091344/tokenizer/tokenizer_78b3253a26.model\n",
            "/content/drive/MyDrive/DeepLearning/sentiment/UICHEOL-HWANG_kobert_20250621-091344/tokenizer/vocab.txt\n",
            "/content/drive/MyDrive/DeepLearning/sentiment/UICHEOL-HWANG_kobert_20250621-091344/tokenizer/tokenizer_config.json\n",
            "/content/drive/MyDrive/DeepLearning/sentiment/UICHEOL-HWANG_kobert_20250621-091519/model/config.json\n",
            "/content/drive/MyDrive/DeepLearning/sentiment/UICHEOL-HWANG_kobert_20250621-091519/model/model.safetensors\n",
            "/content/drive/MyDrive/DeepLearning/sentiment/UICHEOL-HWANG_kobert_20250621-093152/model/config.json\n",
            "/content/drive/MyDrive/DeepLearning/sentiment/UICHEOL-HWANG_kobert_20250621-093152/model/model.safetensors\n",
            "/content/drive/MyDrive/DeepLearning/sentiment/UICHEOL-HWANG_kobert_20250621-093152/tokenizer/tokenizer_78b3253a26.model\n",
            "/content/drive/MyDrive/DeepLearning/sentiment/UICHEOL-HWANG_kobert_20250621-093152/tokenizer/vocab.txt\n",
            "/content/drive/MyDrive/DeepLearning/sentiment/UICHEOL-HWANG_kobert_20250621-093152/tokenizer/tokenizer_config.json\n",
            "/content/drive/MyDrive/DeepLearning/sentiment/UICHEOL-HWANG_kobert_20250621-141144/model/config.json\n",
            "/content/drive/MyDrive/DeepLearning/sentiment/UICHEOL-HWANG_kobert_20250621-141144/model/model.safetensors\n",
            "/content/drive/MyDrive/DeepLearning/sentiment/UICHEOL-HWANG_kobert_20250621-141144/tokenizer/tokenizer_78b3253a26.model\n",
            "/content/drive/MyDrive/DeepLearning/sentiment/UICHEOL-HWANG_kobert_20250621-141144/tokenizer/vocab.txt\n",
            "/content/drive/MyDrive/DeepLearning/sentiment/UICHEOL-HWANG_kobert_20250621-141144/tokenizer/tokenizer_config.json\n",
            "/content/drive/MyDrive/DeepLearning/sentiment/UICHEOL-HWANG_kobert_20250621-150756/model/config.json\n",
            "/content/drive/MyDrive/DeepLearning/sentiment/UICHEOL-HWANG_kobert_20250621-150756/model/model.safetensors\n",
            "/content/drive/MyDrive/DeepLearning/sentiment/UICHEOL-HWANG_kobert_20250621-150756/tokenizer/tokenizer_78b3253a26.model\n",
            "/content/drive/MyDrive/DeepLearning/sentiment/UICHEOL-HWANG_kobert_20250621-150756/tokenizer/vocab.txt\n",
            "/content/drive/MyDrive/DeepLearning/sentiment/UICHEOL-HWANG_kobert_20250621-150756/tokenizer/tokenizer_config.json\n",
            "/content/drive/MyDrive/DeepLearning/sentiment/UICHEOL-HWANG_kobert_20250626-111637/model/config.json\n",
            "/content/drive/MyDrive/DeepLearning/sentiment/UICHEOL-HWANG_kobert_20250626-111637/model/model.safetensors\n",
            "/content/drive/MyDrive/DeepLearning/sentiment/UICHEOL-HWANG_kobert_20250626-111637/tokenizer/tokenizer_78b3253a26.model\n",
            "/content/drive/MyDrive/DeepLearning/sentiment/UICHEOL-HWANG_kobert_20250626-111637/tokenizer/vocab.txt\n",
            "/content/drive/MyDrive/DeepLearning/sentiment/UICHEOL-HWANG_kobert_20250626-111637/tokenizer/tokenizer_config.json\n",
            "/content/drive/MyDrive/DeepLearning/hate_speech/UICHEOL-HWANG_kobert_20250621-155603/model/pytorch_model.bin\n",
            "/content/drive/MyDrive/DeepLearning/hate_speech/UICHEOL-HWANG_kobert_20250621-155603/tokenizer/tokenizer_78b3253a26.model\n",
            "/content/drive/MyDrive/DeepLearning/hate_speech/UICHEOL-HWANG_kobert_20250621-155603/tokenizer/vocab.txt\n",
            "/content/drive/MyDrive/DeepLearning/hate_speech/UICHEOL-HWANG_kobert_20250621-155603/tokenizer/tokenizer_config.json\n"
          ]
        }
      ],
      "source": [
        "# directory check\n",
        "DIRECTORY = \"/content/drive/MyDrive/DeepLearning/\"\n",
        "for dirname, _, filenames in os.walk(DIRECTORY):\n",
        "    for filename in filenames:\n",
        "        print(os.path.join(dirname, filename))"
      ]
    },
    {
      "cell_type": "markdown",
      "metadata": {
        "id": "sBUqApGJRaL_"
      },
      "source": [
        "### cuda"
      ]
    },
    {
      "cell_type": "code",
      "execution_count": 5,
      "metadata": {
        "colab": {
          "base_uri": "https://localhost:8080/"
        },
        "id": "oRHvi6v0Ob9G",
        "outputId": "8ea2f29e-8a44-4848-d826-602e0701fc5b"
      },
      "outputs": [
        {
          "name": "stdout",
          "output_type": "stream",
          "text": [
            "현재 device: Tesla T4\n"
          ]
        }
      ],
      "source": [
        "# 런타임 - 런타임 유형 변경 - T4 GPU 선택 - 저장(저장 필수)\n",
        "if torch.cuda.is_available():\n",
        "    device = torch.device(\"cuda\")\n",
        "    print(f\"현재 device: {torch.cuda.get_device_name()}\")\n",
        "else:\n",
        "    device = torch.device(\"cpu\")\n",
        "    print(f\"현재 device: {device}\")\n",
        "    print(\"GPU 안 쓰면 학습 못함(진짜임)\")"
      ]
    },
    {
      "cell_type": "markdown",
      "metadata": {
        "id": "d7iiafktAc-d"
      },
      "source": [
        "# Pipeline: Sentiment Analysis"
      ]
    },
    {
      "cell_type": "code",
      "execution_count": 30,
      "metadata": {
        "id": "ZLk4dgXAPMSR"
      },
      "outputs": [],
      "source": [
        "# Label dictionary\n",
        "LABEL_2_ID = {\n",
        "    \"공포\": 0,\n",
        "    \"놀람\": 1,\n",
        "    \"분노\": 2,\n",
        "    \"슬픔\": 3,\n",
        "    \"중립\": 4,\n",
        "    \"행복\": 5,\n",
        "    \"혐오\": 6,\n",
        "}\n",
        "ID_2_LABEL = {value: key for key, value in LABEL_2_ID.items()}"
      ]
    },
    {
      "cell_type": "markdown",
      "metadata": {
        "id": "iEae5UWya5lQ"
      },
      "source": [
        "## Load Dataset"
      ]
    },
    {
      "cell_type": "code",
      "execution_count": 31,
      "metadata": {
        "id": "zOZCCrF-Nnb3"
      },
      "outputs": [],
      "source": [
        "df = pd.read_csv(os.path.join(DIRECTORY, 'sentiment.csv'))"
      ]
    },
    {
      "cell_type": "code",
      "execution_count": 32,
      "metadata": {
        "colab": {
          "base_uri": "https://localhost:8080/",
          "height": 423
        },
        "collapsed": true,
        "id": "vIXLnkkXNt2s",
        "outputId": "3a2ed144-dd47-4970-f712-9f279c7eced3"
      },
      "outputs": [
        {
          "data": {
            "application/vnd.google.colaboratory.intrinsic+json": {
              "summary": "{\n  \"name\": \"df\",\n  \"rows\": 38594,\n  \"fields\": [\n    {\n      \"column\": \"Sentence\",\n      \"properties\": {\n        \"dtype\": \"string\",\n        \"num_unique_values\": 38509,\n        \"samples\": [\n          \"\\uac00\\uc815\\uc6a9\\ub204\\uc9c4\\uc138\\ub85c \\ubb50\\ud574\\uccd0\\uba39\\uc744\\ub7ec\\uace0 \\uc804\\uae30\\ub8cc \\ube44\\uc2f8\\uac8c\\ubc1b\\uc544\\uba39\\uace0 \\ub204\\uc9c4\\uc138 \\ud3d0\\uc9c0\\ud558\\uba74 \\ub420\\uac83\\uc744 \\uc800\\ub807\\uac8c \\uc2f8\\uc6b0\\uace0\\uc788\\uace0\",\n          \" \\uc544\\ub2c8\\uba74 \\uc11c\\ub85c \\ub9de\\uc9c0 \\uc54a\\uc544\\uc11c \\uadf8\\ub7f0\\uac78\\uae4c\\uc694?\",\n          \" \\uba54\\ub974\\ub610- \\uac70\\ub9ac\\ub294\\ub370 \\uc5b4\\uca4c\\uba74 \\uc88b\\uc8e0\\ub3cc\\uc544\\ubc84\\ub9b4\\uac83 \\uac19\\uc74c0\"\n        ],\n        \"semantic_type\": \"\",\n        \"description\": \"\"\n      }\n    },\n    {\n      \"column\": \"Emotion\",\n      \"properties\": {\n        \"dtype\": \"category\",\n        \"num_unique_values\": 7,\n        \"samples\": [\n          \"\\uacf5\\ud3ec\",\n          \"\\ub180\\ub78c\",\n          \"\\ud589\\ubcf5\"\n        ],\n        \"semantic_type\": \"\",\n        \"description\": \"\"\n      }\n    }\n  ]\n}",
              "type": "dataframe",
              "variable_name": "df"
            },
            "text/html": [
              "\n",
              "  <div id=\"df-1be7607e-a61d-449e-b463-583ba79c257f\" class=\"colab-df-container\">\n",
              "    <div>\n",
              "<style scoped>\n",
              "    .dataframe tbody tr th:only-of-type {\n",
              "        vertical-align: middle;\n",
              "    }\n",
              "\n",
              "    .dataframe tbody tr th {\n",
              "        vertical-align: top;\n",
              "    }\n",
              "\n",
              "    .dataframe thead th {\n",
              "        text-align: right;\n",
              "    }\n",
              "</style>\n",
              "<table border=\"1\" class=\"dataframe\">\n",
              "  <thead>\n",
              "    <tr style=\"text-align: right;\">\n",
              "      <th></th>\n",
              "      <th>Sentence</th>\n",
              "      <th>Emotion</th>\n",
              "    </tr>\n",
              "  </thead>\n",
              "  <tbody>\n",
              "    <tr>\n",
              "      <th>0</th>\n",
              "      <td>언니 동생으로 부르는게 맞는 일인가요..??</td>\n",
              "      <td>공포</td>\n",
              "    </tr>\n",
              "    <tr>\n",
              "      <th>1</th>\n",
              "      <td>그냥 내 느낌일뿐겠지?</td>\n",
              "      <td>공포</td>\n",
              "    </tr>\n",
              "    <tr>\n",
              "      <th>2</th>\n",
              "      <td>아직너무초기라서 그런거죠?</td>\n",
              "      <td>공포</td>\n",
              "    </tr>\n",
              "    <tr>\n",
              "      <th>3</th>\n",
              "      <td>유치원버스 사고 낫다던데</td>\n",
              "      <td>공포</td>\n",
              "    </tr>\n",
              "    <tr>\n",
              "      <th>4</th>\n",
              "      <td>근데 원래이런거맞나요</td>\n",
              "      <td>공포</td>\n",
              "    </tr>\n",
              "    <tr>\n",
              "      <th>...</th>\n",
              "      <td>...</td>\n",
              "      <td>...</td>\n",
              "    </tr>\n",
              "    <tr>\n",
              "      <th>38589</th>\n",
              "      <td>솔직히 예보 제대로 못하는 데 세금이라도 아끼게 그냥 폐지해라..</td>\n",
              "      <td>혐오</td>\n",
              "    </tr>\n",
              "    <tr>\n",
              "      <th>38590</th>\n",
              "      <td>재미가 없으니 망하지</td>\n",
              "      <td>혐오</td>\n",
              "    </tr>\n",
              "    <tr>\n",
              "      <th>38591</th>\n",
              "      <td>공장 도시락 비우생적임 아르바이트했는데 화장실가성 손도 않씯고 재료 담고 바닥 떨어...</td>\n",
              "      <td>혐오</td>\n",
              "    </tr>\n",
              "    <tr>\n",
              "      <th>38592</th>\n",
              "      <td>코딱지 만한 나라에서 지들끼리 피터지게 싸우는 센징 클래스 ㅉㅉㅉ</td>\n",
              "      <td>혐오</td>\n",
              "    </tr>\n",
              "    <tr>\n",
              "      <th>38593</th>\n",
              "      <td>와이프도 그렇고 댓글 다 볼텐데 이휘재 좀 하차 하라고 전해주세요</td>\n",
              "      <td>혐오</td>\n",
              "    </tr>\n",
              "  </tbody>\n",
              "</table>\n",
              "<p>38594 rows × 2 columns</p>\n",
              "</div>\n",
              "    <div class=\"colab-df-buttons\">\n",
              "\n",
              "  <div class=\"colab-df-container\">\n",
              "    <button class=\"colab-df-convert\" onclick=\"convertToInteractive('df-1be7607e-a61d-449e-b463-583ba79c257f')\"\n",
              "            title=\"Convert this dataframe to an interactive table.\"\n",
              "            style=\"display:none;\">\n",
              "\n",
              "  <svg xmlns=\"http://www.w3.org/2000/svg\" height=\"24px\" viewBox=\"0 -960 960 960\">\n",
              "    <path d=\"M120-120v-720h720v720H120Zm60-500h600v-160H180v160Zm220 220h160v-160H400v160Zm0 220h160v-160H400v160ZM180-400h160v-160H180v160Zm440 0h160v-160H620v160ZM180-180h160v-160H180v160Zm440 0h160v-160H620v160Z\"/>\n",
              "  </svg>\n",
              "    </button>\n",
              "\n",
              "  <style>\n",
              "    .colab-df-container {\n",
              "      display:flex;\n",
              "      gap: 12px;\n",
              "    }\n",
              "\n",
              "    .colab-df-convert {\n",
              "      background-color: #E8F0FE;\n",
              "      border: none;\n",
              "      border-radius: 50%;\n",
              "      cursor: pointer;\n",
              "      display: none;\n",
              "      fill: #1967D2;\n",
              "      height: 32px;\n",
              "      padding: 0 0 0 0;\n",
              "      width: 32px;\n",
              "    }\n",
              "\n",
              "    .colab-df-convert:hover {\n",
              "      background-color: #E2EBFA;\n",
              "      box-shadow: 0px 1px 2px rgba(60, 64, 67, 0.3), 0px 1px 3px 1px rgba(60, 64, 67, 0.15);\n",
              "      fill: #174EA6;\n",
              "    }\n",
              "\n",
              "    .colab-df-buttons div {\n",
              "      margin-bottom: 4px;\n",
              "    }\n",
              "\n",
              "    [theme=dark] .colab-df-convert {\n",
              "      background-color: #3B4455;\n",
              "      fill: #D2E3FC;\n",
              "    }\n",
              "\n",
              "    [theme=dark] .colab-df-convert:hover {\n",
              "      background-color: #434B5C;\n",
              "      box-shadow: 0px 1px 3px 1px rgba(0, 0, 0, 0.15);\n",
              "      filter: drop-shadow(0px 1px 2px rgba(0, 0, 0, 0.3));\n",
              "      fill: #FFFFFF;\n",
              "    }\n",
              "  </style>\n",
              "\n",
              "    <script>\n",
              "      const buttonEl =\n",
              "        document.querySelector('#df-1be7607e-a61d-449e-b463-583ba79c257f button.colab-df-convert');\n",
              "      buttonEl.style.display =\n",
              "        google.colab.kernel.accessAllowed ? 'block' : 'none';\n",
              "\n",
              "      async function convertToInteractive(key) {\n",
              "        const element = document.querySelector('#df-1be7607e-a61d-449e-b463-583ba79c257f');\n",
              "        const dataTable =\n",
              "          await google.colab.kernel.invokeFunction('convertToInteractive',\n",
              "                                                    [key], {});\n",
              "        if (!dataTable) return;\n",
              "\n",
              "        const docLinkHtml = 'Like what you see? Visit the ' +\n",
              "          '<a target=\"_blank\" href=https://colab.research.google.com/notebooks/data_table.ipynb>data table notebook</a>'\n",
              "          + ' to learn more about interactive tables.';\n",
              "        element.innerHTML = '';\n",
              "        dataTable['output_type'] = 'display_data';\n",
              "        await google.colab.output.renderOutput(dataTable, element);\n",
              "        const docLink = document.createElement('div');\n",
              "        docLink.innerHTML = docLinkHtml;\n",
              "        element.appendChild(docLink);\n",
              "      }\n",
              "    </script>\n",
              "  </div>\n",
              "\n",
              "\n",
              "    <div id=\"df-465fecc9-68e8-4280-bd47-4549f0500157\">\n",
              "      <button class=\"colab-df-quickchart\" onclick=\"quickchart('df-465fecc9-68e8-4280-bd47-4549f0500157')\"\n",
              "                title=\"Suggest charts\"\n",
              "                style=\"display:none;\">\n",
              "\n",
              "<svg xmlns=\"http://www.w3.org/2000/svg\" height=\"24px\"viewBox=\"0 0 24 24\"\n",
              "     width=\"24px\">\n",
              "    <g>\n",
              "        <path d=\"M19 3H5c-1.1 0-2 .9-2 2v14c0 1.1.9 2 2 2h14c1.1 0 2-.9 2-2V5c0-1.1-.9-2-2-2zM9 17H7v-7h2v7zm4 0h-2V7h2v10zm4 0h-2v-4h2v4z\"/>\n",
              "    </g>\n",
              "</svg>\n",
              "      </button>\n",
              "\n",
              "<style>\n",
              "  .colab-df-quickchart {\n",
              "      --bg-color: #E8F0FE;\n",
              "      --fill-color: #1967D2;\n",
              "      --hover-bg-color: #E2EBFA;\n",
              "      --hover-fill-color: #174EA6;\n",
              "      --disabled-fill-color: #AAA;\n",
              "      --disabled-bg-color: #DDD;\n",
              "  }\n",
              "\n",
              "  [theme=dark] .colab-df-quickchart {\n",
              "      --bg-color: #3B4455;\n",
              "      --fill-color: #D2E3FC;\n",
              "      --hover-bg-color: #434B5C;\n",
              "      --hover-fill-color: #FFFFFF;\n",
              "      --disabled-bg-color: #3B4455;\n",
              "      --disabled-fill-color: #666;\n",
              "  }\n",
              "\n",
              "  .colab-df-quickchart {\n",
              "    background-color: var(--bg-color);\n",
              "    border: none;\n",
              "    border-radius: 50%;\n",
              "    cursor: pointer;\n",
              "    display: none;\n",
              "    fill: var(--fill-color);\n",
              "    height: 32px;\n",
              "    padding: 0;\n",
              "    width: 32px;\n",
              "  }\n",
              "\n",
              "  .colab-df-quickchart:hover {\n",
              "    background-color: var(--hover-bg-color);\n",
              "    box-shadow: 0 1px 2px rgba(60, 64, 67, 0.3), 0 1px 3px 1px rgba(60, 64, 67, 0.15);\n",
              "    fill: var(--button-hover-fill-color);\n",
              "  }\n",
              "\n",
              "  .colab-df-quickchart-complete:disabled,\n",
              "  .colab-df-quickchart-complete:disabled:hover {\n",
              "    background-color: var(--disabled-bg-color);\n",
              "    fill: var(--disabled-fill-color);\n",
              "    box-shadow: none;\n",
              "  }\n",
              "\n",
              "  .colab-df-spinner {\n",
              "    border: 2px solid var(--fill-color);\n",
              "    border-color: transparent;\n",
              "    border-bottom-color: var(--fill-color);\n",
              "    animation:\n",
              "      spin 1s steps(1) infinite;\n",
              "  }\n",
              "\n",
              "  @keyframes spin {\n",
              "    0% {\n",
              "      border-color: transparent;\n",
              "      border-bottom-color: var(--fill-color);\n",
              "      border-left-color: var(--fill-color);\n",
              "    }\n",
              "    20% {\n",
              "      border-color: transparent;\n",
              "      border-left-color: var(--fill-color);\n",
              "      border-top-color: var(--fill-color);\n",
              "    }\n",
              "    30% {\n",
              "      border-color: transparent;\n",
              "      border-left-color: var(--fill-color);\n",
              "      border-top-color: var(--fill-color);\n",
              "      border-right-color: var(--fill-color);\n",
              "    }\n",
              "    40% {\n",
              "      border-color: transparent;\n",
              "      border-right-color: var(--fill-color);\n",
              "      border-top-color: var(--fill-color);\n",
              "    }\n",
              "    60% {\n",
              "      border-color: transparent;\n",
              "      border-right-color: var(--fill-color);\n",
              "    }\n",
              "    80% {\n",
              "      border-color: transparent;\n",
              "      border-right-color: var(--fill-color);\n",
              "      border-bottom-color: var(--fill-color);\n",
              "    }\n",
              "    90% {\n",
              "      border-color: transparent;\n",
              "      border-bottom-color: var(--fill-color);\n",
              "    }\n",
              "  }\n",
              "</style>\n",
              "\n",
              "      <script>\n",
              "        async function quickchart(key) {\n",
              "          const quickchartButtonEl =\n",
              "            document.querySelector('#' + key + ' button');\n",
              "          quickchartButtonEl.disabled = true;  // To prevent multiple clicks.\n",
              "          quickchartButtonEl.classList.add('colab-df-spinner');\n",
              "          try {\n",
              "            const charts = await google.colab.kernel.invokeFunction(\n",
              "                'suggestCharts', [key], {});\n",
              "          } catch (error) {\n",
              "            console.error('Error during call to suggestCharts:', error);\n",
              "          }\n",
              "          quickchartButtonEl.classList.remove('colab-df-spinner');\n",
              "          quickchartButtonEl.classList.add('colab-df-quickchart-complete');\n",
              "        }\n",
              "        (() => {\n",
              "          let quickchartButtonEl =\n",
              "            document.querySelector('#df-465fecc9-68e8-4280-bd47-4549f0500157 button');\n",
              "          quickchartButtonEl.style.display =\n",
              "            google.colab.kernel.accessAllowed ? 'block' : 'none';\n",
              "        })();\n",
              "      </script>\n",
              "    </div>\n",
              "\n",
              "  <div id=\"id_b10dbe59-7e7a-42f5-aa67-0fca1c53c98f\">\n",
              "    <style>\n",
              "      .colab-df-generate {\n",
              "        background-color: #E8F0FE;\n",
              "        border: none;\n",
              "        border-radius: 50%;\n",
              "        cursor: pointer;\n",
              "        display: none;\n",
              "        fill: #1967D2;\n",
              "        height: 32px;\n",
              "        padding: 0 0 0 0;\n",
              "        width: 32px;\n",
              "      }\n",
              "\n",
              "      .colab-df-generate:hover {\n",
              "        background-color: #E2EBFA;\n",
              "        box-shadow: 0px 1px 2px rgba(60, 64, 67, 0.3), 0px 1px 3px 1px rgba(60, 64, 67, 0.15);\n",
              "        fill: #174EA6;\n",
              "      }\n",
              "\n",
              "      [theme=dark] .colab-df-generate {\n",
              "        background-color: #3B4455;\n",
              "        fill: #D2E3FC;\n",
              "      }\n",
              "\n",
              "      [theme=dark] .colab-df-generate:hover {\n",
              "        background-color: #434B5C;\n",
              "        box-shadow: 0px 1px 3px 1px rgba(0, 0, 0, 0.15);\n",
              "        filter: drop-shadow(0px 1px 2px rgba(0, 0, 0, 0.3));\n",
              "        fill: #FFFFFF;\n",
              "      }\n",
              "    </style>\n",
              "    <button class=\"colab-df-generate\" onclick=\"generateWithVariable('df')\"\n",
              "            title=\"Generate code using this dataframe.\"\n",
              "            style=\"display:none;\">\n",
              "\n",
              "  <svg xmlns=\"http://www.w3.org/2000/svg\" height=\"24px\"viewBox=\"0 0 24 24\"\n",
              "       width=\"24px\">\n",
              "    <path d=\"M7,19H8.4L18.45,9,17,7.55,7,17.6ZM5,21V16.75L18.45,3.32a2,2,0,0,1,2.83,0l1.4,1.43a1.91,1.91,0,0,1,.58,1.4,1.91,1.91,0,0,1-.58,1.4L9.25,21ZM18.45,9,17,7.55Zm-12,3A5.31,5.31,0,0,0,4.9,8.1,5.31,5.31,0,0,0,1,6.5,5.31,5.31,0,0,0,4.9,4.9,5.31,5.31,0,0,0,6.5,1,5.31,5.31,0,0,0,8.1,4.9,5.31,5.31,0,0,0,12,6.5,5.46,5.46,0,0,0,6.5,12Z\"/>\n",
              "  </svg>\n",
              "    </button>\n",
              "    <script>\n",
              "      (() => {\n",
              "      const buttonEl =\n",
              "        document.querySelector('#id_b10dbe59-7e7a-42f5-aa67-0fca1c53c98f button.colab-df-generate');\n",
              "      buttonEl.style.display =\n",
              "        google.colab.kernel.accessAllowed ? 'block' : 'none';\n",
              "\n",
              "      buttonEl.onclick = () => {\n",
              "        google.colab.notebook.generateWithVariable('df');\n",
              "      }\n",
              "      })();\n",
              "    </script>\n",
              "  </div>\n",
              "\n",
              "    </div>\n",
              "  </div>\n"
            ],
            "text/plain": [
              "                                                Sentence Emotion\n",
              "0                               언니 동생으로 부르는게 맞는 일인가요..??      공포\n",
              "1                                           그냥 내 느낌일뿐겠지?      공포\n",
              "2                                         아직너무초기라서 그런거죠?      공포\n",
              "3                                          유치원버스 사고 낫다던데      공포\n",
              "4                                            근데 원래이런거맞나요      공포\n",
              "...                                                  ...     ...\n",
              "38589               솔직히 예보 제대로 못하는 데 세금이라도 아끼게 그냥 폐지해라..      혐오\n",
              "38590                                        재미가 없으니 망하지      혐오\n",
              "38591  공장 도시락 비우생적임 아르바이트했는데 화장실가성 손도 않씯고 재료 담고 바닥 떨어...      혐오\n",
              "38592               코딱지 만한 나라에서 지들끼리 피터지게 싸우는 센징 클래스 ㅉㅉㅉ      혐오\n",
              "38593               와이프도 그렇고 댓글 다 볼텐데 이휘재 좀 하차 하라고 전해주세요      혐오\n",
              "\n",
              "[38594 rows x 2 columns]"
            ]
          },
          "metadata": {},
          "output_type": "display_data"
        }
      ],
      "source": [
        "display(df)"
      ]
    },
    {
      "cell_type": "markdown",
      "metadata": {
        "id": "RT3tcXtGO0fo"
      },
      "source": [
        "## Text Preprocessing"
      ]
    },
    {
      "cell_type": "markdown",
      "metadata": {
        "id": "kNP5tkdRR18A"
      },
      "source": [
        "### checking missing data"
      ]
    },
    {
      "cell_type": "code",
      "execution_count": 33,
      "metadata": {
        "colab": {
          "base_uri": "https://localhost:8080/"
        },
        "id": "S7CkfILGOyTJ",
        "outputId": "e90c897e-0845-4493-81e1-1984e0fb84b0"
      },
      "outputs": [
        {
          "name": "stdout",
          "output_type": "stream",
          "text": [
            "no missing data\n"
          ]
        }
      ],
      "source": [
        "# checking missing data\n",
        "mask = (df[\"Sentence\"].fillna('').str.len() == 0) | (~df[\"Emotion\"].isin(LABEL_2_ID))\n",
        "if mask.any(): print(f\"{mask.sum()} missing datas\")\n",
        "else: print(\"no missing data\")"
      ]
    },
    {
      "cell_type": "code",
      "execution_count": 34,
      "metadata": {
        "colab": {
          "base_uri": "https://localhost:8080/"
        },
        "id": "vhk-imWR-gqZ",
        "outputId": "f61f2495-9b81-452d-8f5d-e45858ef63d5"
      },
      "outputs": [
        {
          "name": "stdout",
          "output_type": "stream",
          "text": [
            "{'행복': 6037, '놀람': 5898, '분노': 5665, '공포': 5468, '혐오': 5429, '슬픔': 5267, '중립': 4830}\n"
          ]
        }
      ],
      "source": [
        "emotion_counts_dict = df['Emotion'].value_counts().to_dict()\n",
        "print(emotion_counts_dict)"
      ]
    },
    {
      "cell_type": "markdown",
      "metadata": {
        "id": "-jdd-XqQR8e2"
      },
      "source": [
        "### outliar processing"
      ]
    },
    {
      "cell_type": "code",
      "execution_count": 35,
      "metadata": {
        "id": "VsvvuRwvPzgX"
      },
      "outputs": [],
      "source": [
        "URL_PAT = re.compile(r'https?://\\S+')\n",
        "HTML_PAT = re.compile(r'<[^>]+>')\n",
        "REPEAT_PAT = re.compile(r'(.)\\1{2,}')                       # 3회 이상 연속된 글자(ㅋㅋㅋ, ㅠㅠㅠ 등) → 2회로 축약\n",
        "SPEC_PAT = re.compile(r'[^ㄱ-ㅎ가-힣a-zA-Z0-9\\s\\.\\,\\!\\?]+') # 허용 문자: 한글, 영문, 숫자, 공백, 주요 punctuation\n",
        "MULTI_SP = re.compile(r'\\s+')\n",
        "\n",
        "def clean_text(text):\n",
        "    text = html.unescape(text)                          # &quot; → \"\n",
        "    text = URL_PAT.sub(' URL ', text)                   # URL 토큰화\n",
        "    text = HTML_PAT.sub(' ', text)                      # HTML tag 제거\n",
        "    text = emoji.demojize(text, delimiters=(' ', ' '))  # 😀 → :grinning_face:\n",
        "    text = REPEAT_PAT.sub(r'\\1\\1', text)                # ㅋㅋㅋㅋ → ㅋㅋ\n",
        "    text = SPEC_PAT.sub(' ', text)                      # 특수문자 제거\n",
        "    text = unicodedata.normalize('NFKC', text)          # Unicode 정규화\n",
        "    text = MULTI_SP.sub(' ', text).strip()              # 다중 공백 정규화\n",
        "    return text\n",
        "\n",
        "df[\"Sentence\"] = df[\"Sentence\"].apply(clean_text)"
      ]
    },
    {
      "cell_type": "markdown",
      "metadata": {
        "id": "s-6AEU1FSp6o"
      },
      "source": [
        "### dataset balancing"
      ]
    },
    {
      "cell_type": "code",
      "execution_count": 36,
      "metadata": {
        "colab": {
          "base_uri": "https://localhost:8080/"
        },
        "id": "7qFKt6sKSqTB",
        "outputId": "dfe7c65b-0dd3-4f80-baa9-03e458ee9bc6"
      },
      "outputs": [
        {
          "name": "stderr",
          "output_type": "stream",
          "text": [
            "/tmp/ipython-input-36-349119925.py:3: DeprecationWarning: DataFrameGroupBy.apply operated on the grouping columns. This behavior is deprecated, and in a future version of pandas the grouping columns will be excluded from the operation. Either pass `include_groups=False` to exclude the groupings or explicitly select the grouping columns after groupby to silence this warning.\n",
            "  .apply(lambda x: x.sample(n=df[\"Emotion\"].value_counts().min(), random_state=42))   # down-sampling\n"
          ]
        }
      ],
      "source": [
        "df = (\n",
        "    df.groupby(\"Emotion\")\n",
        "    .apply(lambda x: x.sample(n=df[\"Emotion\"].value_counts().min(), random_state=42))   # down-sampling\n",
        "    .reset_index(drop=True)                                                             # multi-index 방지\n",
        "    .sample(frac=1, random_state=42)\n",
        "    .reset_index(drop=True)\n",
        ")"
      ]
    },
    {
      "cell_type": "markdown",
      "metadata": {
        "id": "c0OP6H_dSKrQ"
      },
      "source": [
        "### target digitize"
      ]
    },
    {
      "cell_type": "code",
      "execution_count": 37,
      "metadata": {
        "colab": {
          "base_uri": "https://localhost:8080/"
        },
        "id": "D6zINkDQSKzM",
        "outputId": "86b3d901-196c-482b-909a-52467dd3313a"
      },
      "outputs": [
        {
          "name": "stderr",
          "output_type": "stream",
          "text": [
            "/tmp/ipython-input-37-3228976304.py:2: FutureWarning: Downcasting behavior in `replace` is deprecated and will be removed in a future version. To retain the old behavior, explicitly call `result.infer_objects(copy=False)`. To opt-in to the future behavior, set `pd.set_option('future.no_silent_downcasting', True)`\n",
            "  df[\"Emotion\"] = df[\"Emotion\"].replace(LABEL_2_ID)\n"
          ]
        }
      ],
      "source": [
        "# [\"공포\", \"놀람\", \"분노\", ...] => [0, 1, 2, ...]\n",
        "df[\"Emotion\"] = df[\"Emotion\"].replace(LABEL_2_ID)"
      ]
    },
    {
      "cell_type": "markdown",
      "metadata": {
        "id": "ql00GoPtVkX7"
      },
      "source": [
        "### dataset slicing"
      ]
    },
    {
      "cell_type": "code",
      "execution_count": 38,
      "metadata": {
        "id": "DwikQ4TCVjs3"
      },
      "outputs": [],
      "source": [
        "# colab의 GPU 메모리/연산 할당량 제한으로 인해 dataset의 일부만 학습에 사용\n",
        "df = df.iloc[:30000]"
      ]
    },
    {
      "cell_type": "code",
      "execution_count": 39,
      "metadata": {
        "colab": {
          "base_uri": "https://localhost:8080/",
          "height": 423
        },
        "collapsed": true,
        "id": "nYspxI3Pln0m",
        "outputId": "ecd04308-e1c3-415a-8590-68a398ecad89"
      },
      "outputs": [
        {
          "data": {
            "application/vnd.google.colaboratory.intrinsic+json": {
              "summary": "{\n  \"name\": \"df\",\n  \"rows\": 30000,\n  \"fields\": [\n    {\n      \"column\": \"Sentence\",\n      \"properties\": {\n        \"dtype\": \"string\",\n        \"num_unique_values\": 29902,\n        \"samples\": [\n          \"\\uc8fd\\uc744\\uac83 \\uac19\\ub2e4\",\n          \"\\uc11c\\uc7a5\\ud6c8 \\ub3c4\\ub300\\uccb4 \\uc774\\uac8c \\ubb34\\uc2a8 \\uc758\\ubbf8\\uac00 \\uc788\\uc2b5\\ub2c8\\uae4c\",\n          \"\\uc131\\uc870\\uae30\\ub294 \\uc65c \\ud754\\ub4e4\\uace0 \\ub09c\\ub9ac\\uc57c!!\"\n        ],\n        \"semantic_type\": \"\",\n        \"description\": \"\"\n      }\n    },\n    {\n      \"column\": \"Emotion\",\n      \"properties\": {\n        \"dtype\": \"number\",\n        \"std\": 1,\n        \"min\": 0,\n        \"max\": 6,\n        \"num_unique_values\": 7,\n        \"samples\": [\n          0,\n          5,\n          2\n        ],\n        \"semantic_type\": \"\",\n        \"description\": \"\"\n      }\n    }\n  ]\n}",
              "type": "dataframe",
              "variable_name": "df"
            },
            "text/html": [
              "\n",
              "  <div id=\"df-0c9517cd-fc91-4a55-b699-35fe650c0b11\" class=\"colab-df-container\">\n",
              "    <div>\n",
              "<style scoped>\n",
              "    .dataframe tbody tr th:only-of-type {\n",
              "        vertical-align: middle;\n",
              "    }\n",
              "\n",
              "    .dataframe tbody tr th {\n",
              "        vertical-align: top;\n",
              "    }\n",
              "\n",
              "    .dataframe thead th {\n",
              "        text-align: right;\n",
              "    }\n",
              "</style>\n",
              "<table border=\"1\" class=\"dataframe\">\n",
              "  <thead>\n",
              "    <tr style=\"text-align: right;\">\n",
              "      <th></th>\n",
              "      <th>Sentence</th>\n",
              "      <th>Emotion</th>\n",
              "    </tr>\n",
              "  </thead>\n",
              "  <tbody>\n",
              "    <tr>\n",
              "      <th>0</th>\n",
              "      <td>이건 잘하는것 같은데 말이다.</td>\n",
              "      <td>0</td>\n",
              "    </tr>\n",
              "    <tr>\n",
              "      <th>1</th>\n",
              "      <td>그치만 타이밍이 문제네요..</td>\n",
              "      <td>0</td>\n",
              "    </tr>\n",
              "    <tr>\n",
              "      <th>2</th>\n",
              "      <td>대박??</td>\n",
              "      <td>5</td>\n",
              "    </tr>\n",
              "    <tr>\n",
              "      <th>3</th>\n",
              "      <td>시급 1600원 로봇 시급이 헐?</td>\n",
              "      <td>1</td>\n",
              "    </tr>\n",
              "    <tr>\n",
              "      <th>4</th>\n",
              "      <td>오늘 지진 대박이다</td>\n",
              "      <td>1</td>\n",
              "    </tr>\n",
              "    <tr>\n",
              "      <th>...</th>\n",
              "      <td>...</td>\n",
              "      <td>...</td>\n",
              "    </tr>\n",
              "    <tr>\n",
              "      <th>29995</th>\n",
              "      <td>진짜 네이트온만해야해?ᄏᄏ</td>\n",
              "      <td>0</td>\n",
              "    </tr>\n",
              "    <tr>\n",
              "      <th>29996</th>\n",
              "      <td>뭘해도 집중이안돼..힘들어</td>\n",
              "      <td>0</td>\n",
              "    </tr>\n",
              "    <tr>\n",
              "      <th>29997</th>\n",
              "      <td>올해 한국시리즈는 최순실이한테 묻혀서 조용히 끝났네..</td>\n",
              "      <td>6</td>\n",
              "    </tr>\n",
              "    <tr>\n",
              "      <th>29998</th>\n",
              "      <td>덕분에 새댁이 헤매지 않을 수 있게 되었어요</td>\n",
              "      <td>5</td>\n",
              "    </tr>\n",
              "    <tr>\n",
              "      <th>29999</th>\n",
              "      <td>알바하면서 취업 준비 잘 할 수 있을까요?</td>\n",
              "      <td>0</td>\n",
              "    </tr>\n",
              "  </tbody>\n",
              "</table>\n",
              "<p>30000 rows × 2 columns</p>\n",
              "</div>\n",
              "    <div class=\"colab-df-buttons\">\n",
              "\n",
              "  <div class=\"colab-df-container\">\n",
              "    <button class=\"colab-df-convert\" onclick=\"convertToInteractive('df-0c9517cd-fc91-4a55-b699-35fe650c0b11')\"\n",
              "            title=\"Convert this dataframe to an interactive table.\"\n",
              "            style=\"display:none;\">\n",
              "\n",
              "  <svg xmlns=\"http://www.w3.org/2000/svg\" height=\"24px\" viewBox=\"0 -960 960 960\">\n",
              "    <path d=\"M120-120v-720h720v720H120Zm60-500h600v-160H180v160Zm220 220h160v-160H400v160Zm0 220h160v-160H400v160ZM180-400h160v-160H180v160Zm440 0h160v-160H620v160ZM180-180h160v-160H180v160Zm440 0h160v-160H620v160Z\"/>\n",
              "  </svg>\n",
              "    </button>\n",
              "\n",
              "  <style>\n",
              "    .colab-df-container {\n",
              "      display:flex;\n",
              "      gap: 12px;\n",
              "    }\n",
              "\n",
              "    .colab-df-convert {\n",
              "      background-color: #E8F0FE;\n",
              "      border: none;\n",
              "      border-radius: 50%;\n",
              "      cursor: pointer;\n",
              "      display: none;\n",
              "      fill: #1967D2;\n",
              "      height: 32px;\n",
              "      padding: 0 0 0 0;\n",
              "      width: 32px;\n",
              "    }\n",
              "\n",
              "    .colab-df-convert:hover {\n",
              "      background-color: #E2EBFA;\n",
              "      box-shadow: 0px 1px 2px rgba(60, 64, 67, 0.3), 0px 1px 3px 1px rgba(60, 64, 67, 0.15);\n",
              "      fill: #174EA6;\n",
              "    }\n",
              "\n",
              "    .colab-df-buttons div {\n",
              "      margin-bottom: 4px;\n",
              "    }\n",
              "\n",
              "    [theme=dark] .colab-df-convert {\n",
              "      background-color: #3B4455;\n",
              "      fill: #D2E3FC;\n",
              "    }\n",
              "\n",
              "    [theme=dark] .colab-df-convert:hover {\n",
              "      background-color: #434B5C;\n",
              "      box-shadow: 0px 1px 3px 1px rgba(0, 0, 0, 0.15);\n",
              "      filter: drop-shadow(0px 1px 2px rgba(0, 0, 0, 0.3));\n",
              "      fill: #FFFFFF;\n",
              "    }\n",
              "  </style>\n",
              "\n",
              "    <script>\n",
              "      const buttonEl =\n",
              "        document.querySelector('#df-0c9517cd-fc91-4a55-b699-35fe650c0b11 button.colab-df-convert');\n",
              "      buttonEl.style.display =\n",
              "        google.colab.kernel.accessAllowed ? 'block' : 'none';\n",
              "\n",
              "      async function convertToInteractive(key) {\n",
              "        const element = document.querySelector('#df-0c9517cd-fc91-4a55-b699-35fe650c0b11');\n",
              "        const dataTable =\n",
              "          await google.colab.kernel.invokeFunction('convertToInteractive',\n",
              "                                                    [key], {});\n",
              "        if (!dataTable) return;\n",
              "\n",
              "        const docLinkHtml = 'Like what you see? Visit the ' +\n",
              "          '<a target=\"_blank\" href=https://colab.research.google.com/notebooks/data_table.ipynb>data table notebook</a>'\n",
              "          + ' to learn more about interactive tables.';\n",
              "        element.innerHTML = '';\n",
              "        dataTable['output_type'] = 'display_data';\n",
              "        await google.colab.output.renderOutput(dataTable, element);\n",
              "        const docLink = document.createElement('div');\n",
              "        docLink.innerHTML = docLinkHtml;\n",
              "        element.appendChild(docLink);\n",
              "      }\n",
              "    </script>\n",
              "  </div>\n",
              "\n",
              "\n",
              "    <div id=\"df-32ed46bb-e831-454b-8b31-409cfa243027\">\n",
              "      <button class=\"colab-df-quickchart\" onclick=\"quickchart('df-32ed46bb-e831-454b-8b31-409cfa243027')\"\n",
              "                title=\"Suggest charts\"\n",
              "                style=\"display:none;\">\n",
              "\n",
              "<svg xmlns=\"http://www.w3.org/2000/svg\" height=\"24px\"viewBox=\"0 0 24 24\"\n",
              "     width=\"24px\">\n",
              "    <g>\n",
              "        <path d=\"M19 3H5c-1.1 0-2 .9-2 2v14c0 1.1.9 2 2 2h14c1.1 0 2-.9 2-2V5c0-1.1-.9-2-2-2zM9 17H7v-7h2v7zm4 0h-2V7h2v10zm4 0h-2v-4h2v4z\"/>\n",
              "    </g>\n",
              "</svg>\n",
              "      </button>\n",
              "\n",
              "<style>\n",
              "  .colab-df-quickchart {\n",
              "      --bg-color: #E8F0FE;\n",
              "      --fill-color: #1967D2;\n",
              "      --hover-bg-color: #E2EBFA;\n",
              "      --hover-fill-color: #174EA6;\n",
              "      --disabled-fill-color: #AAA;\n",
              "      --disabled-bg-color: #DDD;\n",
              "  }\n",
              "\n",
              "  [theme=dark] .colab-df-quickchart {\n",
              "      --bg-color: #3B4455;\n",
              "      --fill-color: #D2E3FC;\n",
              "      --hover-bg-color: #434B5C;\n",
              "      --hover-fill-color: #FFFFFF;\n",
              "      --disabled-bg-color: #3B4455;\n",
              "      --disabled-fill-color: #666;\n",
              "  }\n",
              "\n",
              "  .colab-df-quickchart {\n",
              "    background-color: var(--bg-color);\n",
              "    border: none;\n",
              "    border-radius: 50%;\n",
              "    cursor: pointer;\n",
              "    display: none;\n",
              "    fill: var(--fill-color);\n",
              "    height: 32px;\n",
              "    padding: 0;\n",
              "    width: 32px;\n",
              "  }\n",
              "\n",
              "  .colab-df-quickchart:hover {\n",
              "    background-color: var(--hover-bg-color);\n",
              "    box-shadow: 0 1px 2px rgba(60, 64, 67, 0.3), 0 1px 3px 1px rgba(60, 64, 67, 0.15);\n",
              "    fill: var(--button-hover-fill-color);\n",
              "  }\n",
              "\n",
              "  .colab-df-quickchart-complete:disabled,\n",
              "  .colab-df-quickchart-complete:disabled:hover {\n",
              "    background-color: var(--disabled-bg-color);\n",
              "    fill: var(--disabled-fill-color);\n",
              "    box-shadow: none;\n",
              "  }\n",
              "\n",
              "  .colab-df-spinner {\n",
              "    border: 2px solid var(--fill-color);\n",
              "    border-color: transparent;\n",
              "    border-bottom-color: var(--fill-color);\n",
              "    animation:\n",
              "      spin 1s steps(1) infinite;\n",
              "  }\n",
              "\n",
              "  @keyframes spin {\n",
              "    0% {\n",
              "      border-color: transparent;\n",
              "      border-bottom-color: var(--fill-color);\n",
              "      border-left-color: var(--fill-color);\n",
              "    }\n",
              "    20% {\n",
              "      border-color: transparent;\n",
              "      border-left-color: var(--fill-color);\n",
              "      border-top-color: var(--fill-color);\n",
              "    }\n",
              "    30% {\n",
              "      border-color: transparent;\n",
              "      border-left-color: var(--fill-color);\n",
              "      border-top-color: var(--fill-color);\n",
              "      border-right-color: var(--fill-color);\n",
              "    }\n",
              "    40% {\n",
              "      border-color: transparent;\n",
              "      border-right-color: var(--fill-color);\n",
              "      border-top-color: var(--fill-color);\n",
              "    }\n",
              "    60% {\n",
              "      border-color: transparent;\n",
              "      border-right-color: var(--fill-color);\n",
              "    }\n",
              "    80% {\n",
              "      border-color: transparent;\n",
              "      border-right-color: var(--fill-color);\n",
              "      border-bottom-color: var(--fill-color);\n",
              "    }\n",
              "    90% {\n",
              "      border-color: transparent;\n",
              "      border-bottom-color: var(--fill-color);\n",
              "    }\n",
              "  }\n",
              "</style>\n",
              "\n",
              "      <script>\n",
              "        async function quickchart(key) {\n",
              "          const quickchartButtonEl =\n",
              "            document.querySelector('#' + key + ' button');\n",
              "          quickchartButtonEl.disabled = true;  // To prevent multiple clicks.\n",
              "          quickchartButtonEl.classList.add('colab-df-spinner');\n",
              "          try {\n",
              "            const charts = await google.colab.kernel.invokeFunction(\n",
              "                'suggestCharts', [key], {});\n",
              "          } catch (error) {\n",
              "            console.error('Error during call to suggestCharts:', error);\n",
              "          }\n",
              "          quickchartButtonEl.classList.remove('colab-df-spinner');\n",
              "          quickchartButtonEl.classList.add('colab-df-quickchart-complete');\n",
              "        }\n",
              "        (() => {\n",
              "          let quickchartButtonEl =\n",
              "            document.querySelector('#df-32ed46bb-e831-454b-8b31-409cfa243027 button');\n",
              "          quickchartButtonEl.style.display =\n",
              "            google.colab.kernel.accessAllowed ? 'block' : 'none';\n",
              "        })();\n",
              "      </script>\n",
              "    </div>\n",
              "\n",
              "  <div id=\"id_206c701b-2db4-497a-adfd-29969e206887\">\n",
              "    <style>\n",
              "      .colab-df-generate {\n",
              "        background-color: #E8F0FE;\n",
              "        border: none;\n",
              "        border-radius: 50%;\n",
              "        cursor: pointer;\n",
              "        display: none;\n",
              "        fill: #1967D2;\n",
              "        height: 32px;\n",
              "        padding: 0 0 0 0;\n",
              "        width: 32px;\n",
              "      }\n",
              "\n",
              "      .colab-df-generate:hover {\n",
              "        background-color: #E2EBFA;\n",
              "        box-shadow: 0px 1px 2px rgba(60, 64, 67, 0.3), 0px 1px 3px 1px rgba(60, 64, 67, 0.15);\n",
              "        fill: #174EA6;\n",
              "      }\n",
              "\n",
              "      [theme=dark] .colab-df-generate {\n",
              "        background-color: #3B4455;\n",
              "        fill: #D2E3FC;\n",
              "      }\n",
              "\n",
              "      [theme=dark] .colab-df-generate:hover {\n",
              "        background-color: #434B5C;\n",
              "        box-shadow: 0px 1px 3px 1px rgba(0, 0, 0, 0.15);\n",
              "        filter: drop-shadow(0px 1px 2px rgba(0, 0, 0, 0.3));\n",
              "        fill: #FFFFFF;\n",
              "      }\n",
              "    </style>\n",
              "    <button class=\"colab-df-generate\" onclick=\"generateWithVariable('df')\"\n",
              "            title=\"Generate code using this dataframe.\"\n",
              "            style=\"display:none;\">\n",
              "\n",
              "  <svg xmlns=\"http://www.w3.org/2000/svg\" height=\"24px\"viewBox=\"0 0 24 24\"\n",
              "       width=\"24px\">\n",
              "    <path d=\"M7,19H8.4L18.45,9,17,7.55,7,17.6ZM5,21V16.75L18.45,3.32a2,2,0,0,1,2.83,0l1.4,1.43a1.91,1.91,0,0,1,.58,1.4,1.91,1.91,0,0,1-.58,1.4L9.25,21ZM18.45,9,17,7.55Zm-12,3A5.31,5.31,0,0,0,4.9,8.1,5.31,5.31,0,0,0,1,6.5,5.31,5.31,0,0,0,4.9,4.9,5.31,5.31,0,0,0,6.5,1,5.31,5.31,0,0,0,8.1,4.9,5.31,5.31,0,0,0,12,6.5,5.46,5.46,0,0,0,6.5,12Z\"/>\n",
              "  </svg>\n",
              "    </button>\n",
              "    <script>\n",
              "      (() => {\n",
              "      const buttonEl =\n",
              "        document.querySelector('#id_206c701b-2db4-497a-adfd-29969e206887 button.colab-df-generate');\n",
              "      buttonEl.style.display =\n",
              "        google.colab.kernel.accessAllowed ? 'block' : 'none';\n",
              "\n",
              "      buttonEl.onclick = () => {\n",
              "        google.colab.notebook.generateWithVariable('df');\n",
              "      }\n",
              "      })();\n",
              "    </script>\n",
              "  </div>\n",
              "\n",
              "    </div>\n",
              "  </div>\n"
            ],
            "text/plain": [
              "                             Sentence  Emotion\n",
              "0                    이건 잘하는것 같은데 말이다.        0\n",
              "1                     그치만 타이밍이 문제네요..        0\n",
              "2                                대박??        5\n",
              "3                  시급 1600원 로봇 시급이 헐?        1\n",
              "4                          오늘 지진 대박이다        1\n",
              "...                               ...      ...\n",
              "29995                  진짜 네이트온만해야해?ᄏᄏ        0\n",
              "29996                  뭘해도 집중이안돼..힘들어        0\n",
              "29997  올해 한국시리즈는 최순실이한테 묻혀서 조용히 끝났네..        6\n",
              "29998        덕분에 새댁이 헤매지 않을 수 있게 되었어요        5\n",
              "29999         알바하면서 취업 준비 잘 할 수 있을까요?        0\n",
              "\n",
              "[30000 rows x 2 columns]"
            ]
          },
          "metadata": {},
          "output_type": "display_data"
        }
      ],
      "source": [
        "display(df)"
      ]
    },
    {
      "cell_type": "markdown",
      "metadata": {
        "id": "mxwCMCu1WqZA"
      },
      "source": [
        "### dataset split"
      ]
    },
    {
      "cell_type": "code",
      "execution_count": 40,
      "metadata": {
        "id": "OQif8Yq4WplB"
      },
      "outputs": [],
      "source": [
        "# feature와 target 분리\n",
        "texts = df[\"Sentence\"].tolist()\n",
        "labels = df[\"Emotion\"].tolist()\n",
        "\n",
        "# train/validation/test split\n",
        "train_texts, test_texts, train_labels, test_labels = train_test_split(\n",
        "    texts, labels,\n",
        "    test_size=0.2, random_state=42, stratify=labels\n",
        ")\n",
        "train_texts, val_texts, train_labels, val_labels = train_test_split(\n",
        "    train_texts, train_labels,\n",
        "    test_size=0.25, random_state=42, stratify=train_labels\n",
        ")"
      ]
    },
    {
      "cell_type": "markdown",
      "metadata": {
        "id": "RgDC4yOKXgcb"
      },
      "source": [
        "## Text Tokenize"
      ]
    },
    {
      "cell_type": "code",
      "execution_count": 41,
      "metadata": {
        "id": "Fi7medmLw2rw"
      },
      "outputs": [],
      "source": [
        "MODEL_NAME = \"UICHEOL-HWANG/kobert\"\n",
        "BATCH_SIZE = 16"
      ]
    },
    {
      "cell_type": "markdown",
      "metadata": {
        "id": "1l2QlNbkw2z6"
      },
      "source": [
        "### Text Tokenize"
      ]
    },
    {
      "cell_type": "code",
      "execution_count": 42,
      "metadata": {
        "id": "ZVsStWoNXgjv"
      },
      "outputs": [],
      "source": [
        "class EmotionDataset(Dataset):\n",
        "    \"\"\"\n",
        "    문장과 라벨을 읽어\n",
        "    Transformer 토크나이저로 encoding\n",
        "    \"\"\"\n",
        "    def __init__(self, texts, labels, tokenizer, max_length=64):\n",
        "        self.texts = texts\n",
        "        self.labels = labels\n",
        "        self.tokenizer = tokenizer\n",
        "        self.max_length = max_length\n",
        "\n",
        "    def __len__(self):\n",
        "        return len(self.labels)\n",
        "\n",
        "    def __getitem__(self, index):\n",
        "        text = self.texts[index]\n",
        "        label = self.labels[index]\n",
        "\n",
        "        encoding = self.tokenizer(\n",
        "            text,\n",
        "            padding=\"max_length\",\n",
        "            truncation=True,\n",
        "            max_length=self.max_length,\n",
        "            return_tensors=\"pt\"\n",
        "        )\n",
        "\n",
        "        return {\n",
        "            \"input_ids\": encoding[\"input_ids\"].squeeze(0),\n",
        "            \"attention_mask\": encoding[\"attention_mask\"].squeeze(0),\n",
        "            \"labels\": torch.tensor(label, dtype=torch.long),\n",
        "        }\n",
        "\n",
        "tokenizer = AutoTokenizer.from_pretrained(MODEL_NAME, trust_remote_code=True)\n",
        "\n",
        "# Dataset의 역할 (GPT 주)\n",
        "# abstraction: “샘플 하나”를 가져오는 표준 interface(__len__, __getitem__)를 정의\n",
        "# encapsulation: tokenization·label 변환·augmentation 등을 on-the-fly로 처리\n",
        "train_dataset = EmotionDataset(train_texts, train_labels, tokenizer)\n",
        "val_dataset = EmotionDataset(val_texts, val_labels, tokenizer)\n",
        "test_dataset = EmotionDataset(test_texts, test_labels, tokenizer)\n",
        "\n",
        "# DataLoader의 역할 (GPT 주)\n",
        "# batch·shuffle·parallel I/O·pin-memory 등의 running engine 기능 담당\n",
        "# GPU pipeline을 병렬화하여 I/O bottleneck 최소화\n",
        "train_loader = DataLoader(train_dataset, batch_size=BATCH_SIZE, shuffle=True)\n",
        "val_loader = DataLoader(val_dataset, batch_size=BATCH_SIZE, shuffle=True)\n",
        "test_loader = DataLoader(test_dataset, batch_size=BATCH_SIZE, shuffle=True)"
      ]
    },
    {
      "cell_type": "markdown",
      "metadata": {
        "id": "L_HBI8I6cCVt"
      },
      "source": [
        "## Model Training"
      ]
    },
    {
      "cell_type": "code",
      "execution_count": 43,
      "metadata": {
        "id": "ZARga2pdcIxl"
      },
      "outputs": [],
      "source": [
        "# GPU 메모리 캐시 정리\n",
        "gc.collect()\n",
        "torch.cuda.empty_cache()"
      ]
    },
    {
      "cell_type": "markdown",
      "metadata": {
        "id": "RYAfdYCKShVh"
      },
      "source": [
        "### Model Hyperparams"
      ]
    },
    {
      "cell_type": "code",
      "execution_count": 44,
      "metadata": {
        "id": "i4O9KvAhSg3w"
      },
      "outputs": [],
      "source": [
        "MODEL_NAME = \"UICHEOL-HWANG/kobert\"\n",
        "NUM_LABELS = 7\n",
        "BATCH_SIZE = 16\n",
        "NUM_EPOCHS = 20\n",
        "LEARNING_RATE = 3e-5\n",
        "WARMUP_DECAY_RATE = 0.1 # 학습률 증가 => 감소\n",
        "PATIENCE = 3            # Early stopping을 위한 patience 값"
      ]
    },
    {
      "cell_type": "markdown",
      "metadata": {
        "id": "72u3j150cVm4"
      },
      "source": [
        "### Pre-Training"
      ]
    },
    {
      "cell_type": "code",
      "execution_count": 45,
      "metadata": {
        "id": "7C08c1_YcNz4"
      },
      "outputs": [],
      "source": [
        "config = AutoConfig.from_pretrained(\n",
        "    MODEL_NAME,\n",
        "    num_labels=NUM_LABELS,\n",
        "    id2label=ID_2_LABEL,\n",
        "    label2id=LABEL_2_ID,\n",
        ")\n",
        "\n",
        "model = AutoModelForSequenceClassification.from_pretrained(\n",
        "    MODEL_NAME,\n",
        "    config=config,\n",
        "    ignore_mismatched_sizes=True  # classification head 크기가 달라도 자동 교체\n",
        ")\n",
        "\n",
        "model.to(device)  # 모델을 디바이스로 이동\n",
        "\n",
        "optimizer = AdamW(model.parameters(), lr=LEARNING_RATE)\n",
        "num_training_steps = NUM_EPOCHS * len(train_loader)\n",
        "num_warmup_steps = int(WARMUP_DECAY_RATE * num_training_steps)\n",
        "\n",
        "lr_scheduler = get_scheduler(\n",
        "    \"linear\",\n",
        "    optimizer=optimizer,\n",
        "    num_warmup_steps=num_warmup_steps,\n",
        "    num_training_steps=num_training_steps\n",
        ")"
      ]
    },
    {
      "cell_type": "markdown",
      "metadata": {
        "id": "25twEcpLeTW7"
      },
      "source": [
        "### Training (fine-tuning)"
      ]
    },
    {
      "cell_type": "code",
      "execution_count": 46,
      "metadata": {
        "colab": {
          "base_uri": "https://localhost:8080/"
        },
        "id": "NiW_q-0_eJBV",
        "outputId": "cc77451e-55a4-4d3c-901d-c73f18952898"
      },
      "outputs": [
        {
          "name": "stderr",
          "output_type": "stream",
          "text": [
            "Epoch 1 [Training]: 100%|██████████| 1125/1125 [03:17<00:00,  5.69it/s]\n"
          ]
        },
        {
          "name": "stdout",
          "output_type": "stream",
          "text": [
            "Epoch 1 Training Loss: 1.0349 | Training Accuracy: 0.6156 | Training Macro F1: 0.6144\n"
          ]
        },
        {
          "name": "stderr",
          "output_type": "stream",
          "text": [
            "Epoch 1 [Validation]: 100%|██████████| 375/375 [00:22<00:00, 16.67it/s]\n"
          ]
        },
        {
          "name": "stdout",
          "output_type": "stream",
          "text": [
            "Epoch 1 Validation Loss: 1.0045 | Validation Accuracy: 0.6283 | Validation Macro F1: 0.6173\n"
          ]
        },
        {
          "name": "stderr",
          "output_type": "stream",
          "text": [
            "Epoch 2 [Training]: 100%|██████████| 1125/1125 [03:19<00:00,  5.64it/s]\n"
          ]
        },
        {
          "name": "stdout",
          "output_type": "stream",
          "text": [
            "Epoch 2 Training Loss: 1.0255 | Training Accuracy: 0.6168 | Training Macro F1: 0.6161\n"
          ]
        },
        {
          "name": "stderr",
          "output_type": "stream",
          "text": [
            "Epoch 2 [Validation]: 100%|██████████| 375/375 [00:20<00:00, 18.27it/s]\n"
          ]
        },
        {
          "name": "stdout",
          "output_type": "stream",
          "text": [
            "Epoch 2 Validation Loss: 1.0861 | Validation Accuracy: 0.5910 | Validation Macro F1: 0.5879\n",
            "Validation accuracy did not improve. Patience counter: 1/3\n"
          ]
        },
        {
          "name": "stderr",
          "output_type": "stream",
          "text": [
            "Epoch 3 [Training]: 100%|██████████| 1125/1125 [03:16<00:00,  5.74it/s]\n"
          ]
        },
        {
          "name": "stdout",
          "output_type": "stream",
          "text": [
            "Epoch 3 Training Loss: 0.8822 | Training Accuracy: 0.6716 | Training Macro F1: 0.6710\n"
          ]
        },
        {
          "name": "stderr",
          "output_type": "stream",
          "text": [
            "Epoch 3 [Validation]: 100%|██████████| 375/375 [00:20<00:00, 18.34it/s]\n"
          ]
        },
        {
          "name": "stdout",
          "output_type": "stream",
          "text": [
            "Epoch 3 Validation Loss: 1.1819 | Validation Accuracy: 0.5745 | Validation Macro F1: 0.5637\n",
            "Validation accuracy did not improve. Patience counter: 2/3\n"
          ]
        },
        {
          "name": "stderr",
          "output_type": "stream",
          "text": [
            "Epoch 4 [Training]: 100%|██████████| 1125/1125 [03:16<00:00,  5.74it/s]\n"
          ]
        },
        {
          "name": "stdout",
          "output_type": "stream",
          "text": [
            "Epoch 4 Training Loss: 0.6570 | Training Accuracy: 0.7591 | Training Macro F1: 0.7589\n"
          ]
        },
        {
          "name": "stderr",
          "output_type": "stream",
          "text": [
            "Epoch 4 [Validation]: 100%|██████████| 375/375 [00:20<00:00, 18.05it/s]"
          ]
        },
        {
          "name": "stdout",
          "output_type": "stream",
          "text": [
            "Epoch 4 Validation Loss: 1.2498 | Validation Accuracy: 0.5715 | Validation Macro F1: 0.5668\n",
            "Validation accuracy did not improve. Patience counter: 3/3\n",
            "Early stopping triggered.\n"
          ]
        },
        {
          "name": "stderr",
          "output_type": "stream",
          "text": [
            "\n"
          ]
        }
      ],
      "source": [
        "#--------------------------------------------------------------------------------------------------------------------------------\n",
        "# !!! 중요 !!!\n",
        "#\n",
        "# 이 코드는 모델의 검증 과정에서 early-stopping을 수행합니다.\n",
        "#\n",
        "# early-stopping 없이 학습하고자 한다면, 이 코드 블록을 **실행하지 마시고** 바로 아래에 있는 코드 블록을 실행하십시오.\n",
        "#\n",
        "#--------------------------------------------------------------------------------------------------------------------------------\n",
        "\n",
        "# Early Stopping 변수\n",
        "best_val_f1 = 0\n",
        "patience_counter = 0\n",
        "\n",
        "# 전체 데이터를 {NUM_EPOCHS}회 순회하며 학습\n",
        "for epoch in range(NUM_EPOCHS):\n",
        "\n",
        "    ### 학습 과정(train)\n",
        "\n",
        "    # 모델을 학습 모드로 전환\n",
        "    model.train()\n",
        "\n",
        "    train_loss = 0\n",
        "    train_labels = []\n",
        "    train_preds = []\n",
        "\n",
        "    # 배치 단위로 학습 수행\n",
        "    for batch in tqdm(train_loader, desc=f\"Epoch {epoch + 1} [Training]\"):\n",
        "\n",
        "        # 1. 입력을 GPU에 전달\n",
        "        inputs = {\n",
        "            \"input_ids\": batch[\"input_ids\"].to(device),\n",
        "            \"attention_mask\": batch[\"attention_mask\"].to(device),\n",
        "            \"labels\": batch[\"labels\"].to(device)\n",
        "        }\n",
        "\n",
        "        # 2. gradient 초기화\n",
        "        optimizer.zero_grad()\n",
        "\n",
        "        # 3. forward pass\n",
        "        outputs = model(**inputs)\n",
        "\n",
        "        # 4. 예측값 집계\n",
        "        logits = outputs.logits\n",
        "        preds = torch.argmax(logits, dim=1)\n",
        "\n",
        "        # 5. 손실 집계\n",
        "        loss = outputs.loss\n",
        "        train_loss += loss.item()\n",
        "        train_labels.extend(inputs[\"labels\"].cpu().numpy())\n",
        "        train_preds.extend(preds.cpu().numpy())\n",
        "\n",
        "        # 6. 모델 파라미터 갱신(backward pass; back propagation)\n",
        "        loss.backward()\n",
        "        optimizer.step()\n",
        "        lr_scheduler.step()\n",
        "\n",
        "    ### 학습 단계에서의 손실 및 metric 계산\n",
        "    avg_train_loss = train_loss / len(train_loader)\n",
        "    train_accuracy = accuracy_score(train_labels, train_preds)\n",
        "    train_f1 = f1_score(train_labels, train_preds, average='macro')\n",
        "    print(\n",
        "        f\"Epoch {epoch + 1} \"\n",
        "        f\"Training Loss: {avg_train_loss:.4f} | \"\n",
        "        f\"Training Accuracy: {train_accuracy:.4f} | \"\n",
        "        f\"Training Macro F1: {train_f1:.4f}\"\n",
        "    )\n",
        "\n",
        "    ### 검증 과정(validation)\n",
        "\n",
        "    # 모델을 검증/평가/추론 모드로 전환\n",
        "    model.eval()\n",
        "\n",
        "    val_loss = 0\n",
        "    val_labels = []\n",
        "    val_preds = []\n",
        "\n",
        "    # 검증 과정에서는 gradient 연산을 생략하여 연산량 및 오버헤드를 줄임\n",
        "    with torch.no_grad():\n",
        "\n",
        "        # 배치 단위로 검증 수행\n",
        "        for batch in tqdm(val_loader, desc=f\"Epoch {epoch + 1} [Validation]\"):\n",
        "\n",
        "            # 1. 입력을 GPU에 전달\n",
        "            inputs = {\n",
        "                \"input_ids\": batch[\"input_ids\"].to(device),\n",
        "                \"attention_mask\": batch[\"attention_mask\"].to(device),\n",
        "                \"labels\": batch[\"labels\"].to(device)\n",
        "            }\n",
        "\n",
        "            # 2. forward pass\n",
        "            outputs = model(**inputs)\n",
        "\n",
        "            # 3. 예측값 집계\n",
        "            logits = outputs.logits\n",
        "            preds = torch.argmax(logits, dim=1)\n",
        "\n",
        "            # 4. 손실 집계\n",
        "            loss = outputs.loss\n",
        "            val_loss += loss.item()\n",
        "            val_labels.extend(inputs[\"labels\"].cpu().numpy())\n",
        "            val_preds.extend(preds.cpu().numpy())\n",
        "\n",
        "    ### 검증 단계에서의 손실 및 metric 계산\n",
        "    avg_val_loss = val_loss / len(val_loader)\n",
        "    val_accuracy = accuracy_score(val_labels, val_preds)\n",
        "    val_f1 = f1_score(val_labels, val_preds, average='macro')\n",
        "    print(\n",
        "        f\"Epoch {epoch + 1} \"\n",
        "        f\"Validation Loss: {avg_val_loss:.4f} | \"\n",
        "        f\"Validation Accuracy: {val_accuracy:.4f} | \"\n",
        "        f\"Validation Macro F1: {val_f1:.4f}\"\n",
        "    )\n",
        "\n",
        "    ### Early Stopping 여부 확인\n",
        "    if val_f1 > best_val_f1:                # 가장 높은 정확도를 기록하면\n",
        "        best_val_f1 = val_f1                # 정확도 기준을 갱신\n",
        "        patience_counter = 0                # patience 초기화\n",
        "\n",
        "        # 모델 및 토크나이저 저장\n",
        "\n",
        "        ## 경로 설정\n",
        "        timestamp = time.strftime(\"%Y%m%d-%H%M%S\")\n",
        "        save_path = os.path.join(DIRECTORY, \"sentiment\", f\"{MODEL_NAME.replace('/', '_')}_{timestamp}\")\n",
        "        model_path = os.path.join(save_path, \"model\")\n",
        "        tokenizer_path = os.path.join(save_path, \"tokenizer\")\n",
        "\n",
        "        ## 모델 저장\n",
        "        model.save_pretrained(model_path)\n",
        "\n",
        "        ## 토크나이저 저장 (KoBertTokenizer는 save_pretrained()를 지원하지 않기에 직접 저장)\n",
        "        ## 사실 KoBertTokenizer를 그대로 써도 됨...\n",
        "\n",
        "        ### 디렉토리 생성\n",
        "        os.makedirs(tokenizer_path, exist_ok=True)\n",
        "\n",
        "        ### vocab.txt 저장\n",
        "        tokenizer.save_vocabulary(tokenizer_path)\n",
        "\n",
        "        ### config.json 저장\n",
        "        with open(os.path.join(tokenizer_path, \"tokenizer_config.json\"), \"w\", encoding=\"utf-8\") as f:\n",
        "            import json\n",
        "            json.dump({\n",
        "                \"do_lower_case\": False,\n",
        "                \"unk_token\": \"[UNK]\",\n",
        "                \"sep_token\": \"[SEP]\",\n",
        "                \"pad_token\": \"[PAD]\",\n",
        "                \"cls_token\": \"[CLS]\",\n",
        "                \"mask_token\": \"[MASK]\"\n",
        "            }, f, indent=4)\n",
        "    else:                                   # 그렇지 못하면\n",
        "        patience_counter += 1               # patience 값을 1 증가\n",
        "        print(\n",
        "            f\"Validation accuracy did not improve. \"\n",
        "            f\"Patience counter: {patience_counter}/{PATIENCE}\"\n",
        "        )\n",
        "\n",
        "    if patience_counter >= PATIENCE:        # 일정 epoch을 순회할 때까지 정확도 기준을 갱신하지 못하면\n",
        "        print(\"Early stopping triggered.\")  #\n",
        "        break                               # 학습 종료"
      ]
    },
    {
      "cell_type": "code",
      "execution_count": null,
      "metadata": {
        "id": "QaEgiZcrPhw_"
      },
      "outputs": [],
      "source": [
        "#--------------------------------------------------------------------------------------------------------------------------------\n",
        "# !!! 중요 !!!\n",
        "#\n",
        "# 이 코드는 모델의 검증 과정에서 early-stopping을 수행하지 않습니다.\n",
        "#\n",
        "# early-stopping 여부를 확인하며 학습하고자 한다면, 이 코드 블록을 **실행하지 마시고** 바로 위에 있는 코드 블록을 실행하십시오.\n",
        "#\n",
        "#--------------------------------------------------------------------------------------------------------------------------------\n",
        "\n",
        "# 전체 데이터를 {NUM_EPOCHS}회 순회하며 학습\n",
        "for epoch in range(NUM_EPOCHS):\n",
        "\n",
        "    ### 학습 과정(train)\n",
        "\n",
        "    # 모델을 학습 모드로 전환\n",
        "    model.train()\n",
        "\n",
        "    train_loss = 0\n",
        "    train_labels = []\n",
        "    train_preds = []\n",
        "\n",
        "    # 배치 단위로 학습 수행\n",
        "    for batch in tqdm(train_loader, desc=f\"Epoch {epoch + 1} [Training]\"):\n",
        "\n",
        "        # 1. 입력을 GPU에 전달\n",
        "        inputs = {\n",
        "            \"input_ids\": batch[\"input_ids\"].to(device),\n",
        "            \"attention_mask\": batch[\"attention_mask\"].to(device),\n",
        "            \"labels\": batch[\"labels\"].to(device)\n",
        "        }\n",
        "\n",
        "        # 2. gradient 초기화\n",
        "        optimizer.zero_grad()\n",
        "\n",
        "        # 3. forward pass\n",
        "        outputs = model(**inputs)\n",
        "\n",
        "        # 4. 예측값 집계\n",
        "        logits = outputs.logits\n",
        "        preds = torch.argmax(logits, dim=1)\n",
        "\n",
        "        # 5. 손실 집계\n",
        "        loss = outputs.loss\n",
        "        train_loss += loss.item()\n",
        "        train_labels.extend(inputs[\"labels\"].cpu().numpy())\n",
        "        train_preds.extend(preds.cpu().numpy())\n",
        "\n",
        "        # 6. 모델 파라미터 갱신(backward pass; back propagation)\n",
        "        loss.backward()\n",
        "        optimizer.step()\n",
        "        lr_scheduler.step()\n",
        "\n",
        "    ### 학습 단계에서의 손실 및 metric 계산\n",
        "    avg_train_loss = train_loss / len(train_loader)\n",
        "    train_accuracy = accuracy_score(train_labels, train_preds)\n",
        "    train_f1 = f1_score(train_labels, train_preds, average='macro')\n",
        "    print(\n",
        "        f\"Epoch {epoch + 1} \"\n",
        "        f\"Training Loss: {avg_train_loss:.4f} | \"\n",
        "        f\"Training Accuracy: {train_accuracy:.4f} | \"\n",
        "        f\"Training Macro F1: {train_f1:.4f}\"\n",
        "    )\n",
        "\n",
        "    ### 검증 과정(validation)\n",
        "\n",
        "    # 모델을 검증/평가/추론 모드로 전환\n",
        "    model.eval()\n",
        "\n",
        "    val_loss = 0\n",
        "    val_labels = []\n",
        "    val_preds = []\n",
        "\n",
        "    # 검증 과정에서는 gradient 연산을 생략하여 연산량 및 오버헤드를 줄임\n",
        "    with torch.no_grad():\n",
        "\n",
        "        # 배치 단위로 검증 수행\n",
        "        for batch in tqdm(val_loader, desc=f\"Epoch {epoch + 1} [Validation]\"):\n",
        "\n",
        "            # 1. 입력을 GPU에 전달\n",
        "            inputs = {\n",
        "                \"input_ids\": batch[\"input_ids\"].to(device),\n",
        "                \"attention_mask\": batch[\"attention_mask\"].to(device),\n",
        "                \"labels\": batch[\"labels\"].to(device)\n",
        "            }\n",
        "\n",
        "            # 2. forward pass\n",
        "            outputs = model(**inputs)\n",
        "\n",
        "            # 3. 예측값 집계\n",
        "            logits = outputs.logits\n",
        "            preds = torch.argmax(logits, dim=1)\n",
        "\n",
        "            # 4. 손실 집계\n",
        "            loss = outputs.loss\n",
        "            val_loss += loss.item()\n",
        "            val_labels.extend(inputs[\"labels\"].cpu().numpy())\n",
        "            val_preds.extend(preds.cpu().numpy())\n",
        "\n",
        "    ### 검증 단계에서의 손실 및 metric 계산\n",
        "    avg_val_loss = val_loss / len(val_loader)\n",
        "    val_accuracy = accuracy_score(val_labels, val_preds)\n",
        "    val_f1 = f1_score(val_labels, val_preds, average='macro')\n",
        "    print(\n",
        "        f\"Epoch {epoch + 1} \"\n",
        "        f\"Validation Loss: {avg_val_loss:.4f} | \"\n",
        "        f\"Validation Accuracy: {val_accuracy:.4f} | \"\n",
        "        f\"Validation Macro F1: {val_f1:.4f}\"\n",
        "    )\n",
        "\n",
        "# 모델 및 토크나이저 저장\n",
        "\n",
        "## 경로 설정\n",
        "timestamp = time.strftime(\"%Y%m%d-%H%M%S\")\n",
        "save_path = os.path.join(DIRECTORY, \"sentiment\", f\"{MODEL_NAME.replace('/', '_')}_{timestamp}\")\n",
        "model_path = os.path.join(save_path, \"model\")\n",
        "tokenizer_path = os.path.join(save_path, \"tokenizer\")\n",
        "\n",
        "## 모델 저장\n",
        "model.save_pretrained(model_path)\n",
        "\n",
        "## 토크나이저 저장 (KoBertTokenizer는 save_pretrained()를 지원하지 않기에 직접 저장)\n",
        "## 사실 KoBertTokenizer를 그대로 써도 됨...\n",
        "\n",
        "### 디렉토리 생성\n",
        "os.makedirs(tokenizer_path, exist_ok=True)\n",
        "\n",
        "### vocab.txt 저장\n",
        "tokenizer.save_vocabulary(tokenizer_path)\n",
        "\n",
        "### config.json 저장\n",
        "with open(os.path.join(tokenizer_path, \"tokenizer_config.json\"), \"w\", encoding=\"utf-8\") as f:\n",
        "    import json\n",
        "    json.dump({\n",
        "        \"do_lower_case\": False,\n",
        "        \"unk_token\": \"[UNK]\",\n",
        "        \"sep_token\": \"[SEP]\",\n",
        "        \"pad_token\": \"[PAD]\",\n",
        "        \"cls_token\": \"[CLS]\",\n",
        "        \"mask_token\": \"[MASK]\"\n",
        "    }, f, indent=4)"
      ]
    },
    {
      "cell_type": "markdown",
      "metadata": {
        "id": "x0NXa6Achqua"
      },
      "source": [
        "## Evaluation"
      ]
    },
    {
      "cell_type": "code",
      "execution_count": 47,
      "metadata": {
        "id": "FtqQXafV6tQS"
      },
      "outputs": [],
      "source": [
        "# Label dictionary\n",
        "LABEL_2_ID = {\n",
        "    \"공포\": 0,\n",
        "    \"놀람\": 1,\n",
        "    \"분노\": 2,\n",
        "    \"슬픔\": 3,\n",
        "    \"중립\": 4,\n",
        "    \"행복\": 5,\n",
        "    \"혐오\": 6,\n",
        "}\n",
        "ID_2_LABEL = {value: key for key, value in LABEL_2_ID.items()}"
      ]
    },
    {
      "cell_type": "markdown",
      "metadata": {
        "id": "dgqaF3oBH5dZ"
      },
      "source": [
        "### Load Pre-trained Model"
      ]
    },
    {
      "cell_type": "code",
      "execution_count": 48,
      "metadata": {
        "colab": {
          "base_uri": "https://localhost:8080/"
        },
        "collapsed": true,
        "id": "6np5eb_WH5rA",
        "outputId": "6144b6b5-1c92-4801-d1b7-dadd17cc1775"
      },
      "outputs": [
        {
          "data": {
            "text/plain": [
              "BertForSequenceClassification(\n",
              "  (bert): BertModel(\n",
              "    (embeddings): BertEmbeddings(\n",
              "      (word_embeddings): Embedding(8002, 768, padding_idx=1)\n",
              "      (position_embeddings): Embedding(512, 768)\n",
              "      (token_type_embeddings): Embedding(2, 768)\n",
              "      (LayerNorm): LayerNorm((768,), eps=1e-12, elementwise_affine=True)\n",
              "      (dropout): Dropout(p=0.1, inplace=False)\n",
              "    )\n",
              "    (encoder): BertEncoder(\n",
              "      (layer): ModuleList(\n",
              "        (0-11): 12 x BertLayer(\n",
              "          (attention): BertAttention(\n",
              "            (self): BertSdpaSelfAttention(\n",
              "              (query): Linear(in_features=768, out_features=768, bias=True)\n",
              "              (key): Linear(in_features=768, out_features=768, bias=True)\n",
              "              (value): Linear(in_features=768, out_features=768, bias=True)\n",
              "              (dropout): Dropout(p=0.1, inplace=False)\n",
              "            )\n",
              "            (output): BertSelfOutput(\n",
              "              (dense): Linear(in_features=768, out_features=768, bias=True)\n",
              "              (LayerNorm): LayerNorm((768,), eps=1e-12, elementwise_affine=True)\n",
              "              (dropout): Dropout(p=0.1, inplace=False)\n",
              "            )\n",
              "          )\n",
              "          (intermediate): BertIntermediate(\n",
              "            (dense): Linear(in_features=768, out_features=3072, bias=True)\n",
              "            (intermediate_act_fn): GELUActivation()\n",
              "          )\n",
              "          (output): BertOutput(\n",
              "            (dense): Linear(in_features=3072, out_features=768, bias=True)\n",
              "            (LayerNorm): LayerNorm((768,), eps=1e-12, elementwise_affine=True)\n",
              "            (dropout): Dropout(p=0.1, inplace=False)\n",
              "          )\n",
              "        )\n",
              "      )\n",
              "    )\n",
              "    (pooler): BertPooler(\n",
              "      (dense): Linear(in_features=768, out_features=768, bias=True)\n",
              "      (activation): Tanh()\n",
              "    )\n",
              "  )\n",
              "  (dropout): Dropout(p=0.1, inplace=False)\n",
              "  (classifier): Linear(in_features=768, out_features=7, bias=True)\n",
              ")"
            ]
          },
          "execution_count": 48,
          "metadata": {},
          "output_type": "execute_result"
        }
      ],
      "source": [
        "# 기학습 모델의 경로\n",
        "path = \"/content/drive/MyDrive/DeepLearning/sentiment/UICHEOL-HWANG_kobert_20250626-111637\"\n",
        "\n",
        "config = AutoConfig.from_pretrained(\n",
        "    os.path.join(path, \"model\")\n",
        ")\n",
        "\n",
        "model = AutoModelForSequenceClassification.from_pretrained(\n",
        "    os.path.join(path, \"model\"),\n",
        "    config=config,\n",
        "    ignore_mismatched_sizes=True\n",
        ")\n",
        "\n",
        "model.to(device)"
      ]
    },
    {
      "cell_type": "code",
      "execution_count": 50,
      "metadata": {
        "colab": {
          "base_uri": "https://localhost:8080/"
        },
        "collapsed": true,
        "id": "tOhazhyV80kj",
        "outputId": "bc540b06-98c8-4aae-cb43-e9d57a1a358e"
      },
      "outputs": [
        {
          "data": {
            "text/plain": [
              "BertForSequenceClassification(\n",
              "  (bert): BertModel(\n",
              "    (embeddings): BertEmbeddings(\n",
              "      (word_embeddings): Embedding(8002, 768, padding_idx=1)\n",
              "      (position_embeddings): Embedding(512, 768)\n",
              "      (token_type_embeddings): Embedding(2, 768)\n",
              "      (LayerNorm): LayerNorm((768,), eps=1e-12, elementwise_affine=True)\n",
              "      (dropout): Dropout(p=0.1, inplace=False)\n",
              "    )\n",
              "    (encoder): BertEncoder(\n",
              "      (layer): ModuleList(\n",
              "        (0-11): 12 x BertLayer(\n",
              "          (attention): BertAttention(\n",
              "            (self): BertSdpaSelfAttention(\n",
              "              (query): Linear(in_features=768, out_features=768, bias=True)\n",
              "              (key): Linear(in_features=768, out_features=768, bias=True)\n",
              "              (value): Linear(in_features=768, out_features=768, bias=True)\n",
              "              (dropout): Dropout(p=0.1, inplace=False)\n",
              "            )\n",
              "            (output): BertSelfOutput(\n",
              "              (dense): Linear(in_features=768, out_features=768, bias=True)\n",
              "              (LayerNorm): LayerNorm((768,), eps=1e-12, elementwise_affine=True)\n",
              "              (dropout): Dropout(p=0.1, inplace=False)\n",
              "            )\n",
              "          )\n",
              "          (intermediate): BertIntermediate(\n",
              "            (dense): Linear(in_features=768, out_features=3072, bias=True)\n",
              "            (intermediate_act_fn): GELUActivation()\n",
              "          )\n",
              "          (output): BertOutput(\n",
              "            (dense): Linear(in_features=3072, out_features=768, bias=True)\n",
              "            (LayerNorm): LayerNorm((768,), eps=1e-12, elementwise_affine=True)\n",
              "            (dropout): Dropout(p=0.1, inplace=False)\n",
              "          )\n",
              "        )\n",
              "      )\n",
              "    )\n",
              "    (pooler): BertPooler(\n",
              "      (dense): Linear(in_features=768, out_features=768, bias=True)\n",
              "      (activation): Tanh()\n",
              "    )\n",
              "  )\n",
              "  (dropout): Dropout(p=0.1, inplace=False)\n",
              "  (classifier): Linear(in_features=768, out_features=7, bias=True)\n",
              ")"
            ]
          },
          "execution_count": 50,
          "metadata": {},
          "output_type": "execute_result"
        }
      ],
      "source": [
        "# baseline model\n",
        "# model = \"UICHEOL-HWANG/kobert\"\n",
        "\n",
        "# config = AutoConfig.from_pretrained(\n",
        "#     model\n",
        "# )\n",
        "\n",
        "# model = AutoModelForSequenceClassification.from_pretrained(\n",
        "#     model,\n",
        "#     config=config,\n",
        "#     ignore_mismatched_sizes=True\n",
        "# )\n",
        "\n",
        "# model.to(device)"
      ]
    },
    {
      "cell_type": "markdown",
      "metadata": {
        "id": "GNvzvvCOH53T"
      },
      "source": [
        "### Evaluation"
      ]
    },
    {
      "cell_type": "code",
      "execution_count": 51,
      "metadata": {
        "colab": {
          "base_uri": "https://localhost:8080/"
        },
        "id": "zjcfk_q5hyNG",
        "outputId": "fb971aa0-6f9f-4144-bbc1-4a8737448b39"
      },
      "outputs": [
        {
          "name": "stderr",
          "output_type": "stream",
          "text": [
            "[Test]: 100%|██████████| 375/375 [00:21<00:00, 17.57it/s]\n"
          ]
        },
        {
          "name": "stdout",
          "output_type": "stream",
          "text": [
            "Test Loss: 0.9792 | Test Accuracy: 0.6440 | Test Macro F1: 0.6383\n",
            "              precision    recall  f1-score   support\n",
            "\n",
            "          공포       0.69      0.72      0.70       858\n",
            "          놀람       0.55      0.76      0.64       859\n",
            "          분노       0.55      0.63      0.59       855\n",
            "          슬픔       0.78      0.70      0.73       860\n",
            "          중립       0.63      0.50      0.55       858\n",
            "          행복       0.84      0.86      0.85       854\n",
            "          혐오       0.49      0.34      0.40       856\n",
            "\n",
            "    accuracy                           0.64      6000\n",
            "   macro avg       0.64      0.64      0.64      6000\n",
            "weighted avg       0.64      0.64      0.64      6000\n",
            "\n"
          ]
        }
      ],
      "source": [
        "model.eval()  # 모델을 검증/평가/추론 모드로 전환\n",
        "\n",
        "# 테스트\n",
        "test_loss = 0.0\n",
        "test_labels = []\n",
        "test_preds = []\n",
        "\n",
        "with torch.no_grad():\n",
        "    for batch in tqdm(test_loader, desc=\"[Test]\"):\n",
        "\n",
        "        # 입력을 GPU로 전달\n",
        "        inputs = {\n",
        "            \"input_ids\": batch[\"input_ids\"].to(device),\n",
        "            \"attention_mask\": batch[\"attention_mask\"].to(device),\n",
        "            \"labels\": batch[\"labels\"].to(device)\n",
        "        }\n",
        "\n",
        "        # forward pass\n",
        "        outputs = model(**inputs)\n",
        "\n",
        "        # 예측값 집계\n",
        "        logits = outputs.logits\n",
        "        preds = torch.argmax(logits, dim=1)\n",
        "\n",
        "        # 손실 집계\n",
        "        loss  = outputs.loss\n",
        "        test_loss += loss.item()\n",
        "        test_labels.extend(inputs[\"labels\"].cpu().numpy())\n",
        "        test_preds.extend(preds.cpu().numpy())\n",
        "\n",
        "# metric 계산\n",
        "avg_test_loss = test_loss / len(test_loader)\n",
        "test_accuracy = accuracy_score(test_labels, test_preds)\n",
        "test_f1 = f1_score(test_labels, test_preds, average=\"macro\")\n",
        "\n",
        "print(f\"Test Loss: {avg_test_loss:.4f} | \"\n",
        "      f\"Test Accuracy: {test_accuracy:.4f} | \"\n",
        "      f\"Test Macro F1: {test_f1:.4f}\")\n",
        "\n",
        "print(classification_report(test_labels, test_preds, target_names=LABEL_2_ID.keys()))"
      ]
    },
    {
      "cell_type": "markdown",
      "metadata": {
        "id": "wYWhHQ2pKDvj"
      },
      "source": [
        "## Inference Test"
      ]
    },
    {
      "cell_type": "code",
      "execution_count": null,
      "metadata": {
        "id": "-r5Zg3htj9Ok"
      },
      "outputs": [],
      "source": [
        "# Label dictionary\n",
        "LABEL_2_ID = {\n",
        "    \"공포\": 0,\n",
        "    \"놀람\": 1,\n",
        "    \"분노\": 2,\n",
        "    \"슬픔\": 3,\n",
        "    \"중립\": 4,\n",
        "    \"행복\": 5,\n",
        "    \"혐오\": 6,\n",
        "}\n",
        "ID_2_LABEL = {value: key for key, value in LABEL_2_ID.items()}"
      ]
    },
    {
      "cell_type": "code",
      "execution_count": null,
      "metadata": {
        "id": "oGs0jNsrAe0s"
      },
      "outputs": [],
      "source": [
        "# 텍스트 클리닝 함수 정의\n",
        "URL_PAT = re.compile(r'https?://\\S+')\n",
        "HTML_PAT = re.compile(r'<[^>]+>')\n",
        "REPEAT_PAT = re.compile(r'(.)\\1{2,}')                       # 3회 이상 연속된 글자(ㅋㅋㅋ, ㅠㅠㅠ 등) → 2회로 축약\n",
        "SPEC_PAT = re.compile(r'[^ㄱ-ㅎ가-힣a-zA-Z0-9\\s\\.\\,\\!\\?]+') # 허용 문자: 한글, 영문, 숫자, 공백, 주요 punctuation\n",
        "MULTI_SP = re.compile(r'\\s+')\n",
        "\n",
        "def clean_text(text):\n",
        "    text = html.unescape(text)                          # &quot; → \"\n",
        "    text = URL_PAT.sub(' URL ', text)                   # URL 토큰화\n",
        "    text = HTML_PAT.sub(' ', text)                      # HTML tag 제거\n",
        "    text = emoji.demojize(text, delimiters=(' ', ' '))  # 😀 → :grinning_face:\n",
        "    text = REPEAT_PAT.sub(r'\\1\\1', text)                # ㅋㅋㅋㅋ → ㅋㅋ\n",
        "    text = SPEC_PAT.sub(' ', text)                      # 특수문자 제거\n",
        "    text = unicodedata.normalize('NFKC', text)          # Unicode 정규화\n",
        "    text = MULTI_SP.sub(' ', text).strip()              # 다중 공백 정규화\n",
        "    return text"
      ]
    },
    {
      "cell_type": "code",
      "execution_count": null,
      "metadata": {
        "collapsed": true,
        "id": "CXkesxFxhd-1"
      },
      "outputs": [],
      "source": [
        "# 모델 정의 및 초기화\n",
        "\n",
        "# 기학습 모델의 경로\n",
        "path = \"/content/drive/MyDrive/DeepLearning/sentiment/UICHEOL-HWANG_kobert_20250621-093152\"\n",
        "\n",
        "config = AutoConfig.from_pretrained(\n",
        "    os.path.join(path, \"model\")\n",
        ")\n",
        "\n",
        "model = AutoModelForSequenceClassification.from_pretrained(\n",
        "    os.path.join(path, \"model\"),\n",
        "    config=config,\n",
        "    ignore_mismatched_sizes=True\n",
        ")\n",
        "\n",
        "model.to(device)"
      ]
    },
    {
      "cell_type": "code",
      "execution_count": null,
      "metadata": {
        "id": "b8JyVIp8KHbi"
      },
      "outputs": [],
      "source": [
        "# 입력 텍스트\n",
        "text = [\n",
        "    \"Hello Mr. my yesterday\",\n",
        "    \"전해주지 않을래\",\n",
        "    \"꿈이 이루어지는 그때 꼭 다시 만나자고\",\n",
        "    \"미치도록 내달려도 앞이 보이지 않아\",\n",
        "    \"덩그러니 홀로 남겨져 길 위에 털썩\",\n",
        "    \"주저앉아 애써 눈물을 참으려 했어\",\n",
        "    \"초라한 내가 싫어서...\",\n",
        "    \"Hello Mr. my yesterday\",\n",
        "    \"타임머신을 타고\",\n",
        "    \"꿈을 쫓는 어제의 내게 전해야 될 얘기\",\n",
        "    \"내 전부를 걸고 맹세할게 삶이 끝난다 해도\",\n",
        "    \"꿈이 이뤄질 그때 너를 맞이하러 가겠어\"\n",
        "]\n",
        "\n",
        "# 텍스트 전처리\n",
        "preprocessed_text = [clean_text(t) for t in text]\n",
        "\n",
        "# 토크나이저 정의\n",
        "MODEL_NAME = \"UICHEOL-HWANG/kobert\"\n",
        "tokenizer = AutoTokenizer.from_pretrained(MODEL_NAME, trust_remote_code=True)\n",
        "\n",
        "# 텍스트 토큰화\n",
        "tokenized_text = tokenizer(\n",
        "    preprocessed_text,\n",
        "    padding=\"max_length\",\n",
        "    truncation=True,\n",
        "    max_length=128,\n",
        "    return_tensors=\"pt\"\n",
        ")\n",
        "\n",
        "# 모델을 GPU로 이동\n",
        "model.to(device)\n",
        "\n",
        "# 모델을 검증/평가/추론 모드로 전환\n",
        "model.eval()\n",
        "\n",
        "# 추론\n",
        "with torch.no_grad():\n",
        "\n",
        "    # 입력을 GPU에 전달\n",
        "    inputs = {\n",
        "        \"input_ids\": tokenized_text[\"input_ids\"].to(device),\n",
        "        \"attention_mask\": tokenized_text[\"attention_mask\"].to(device)\n",
        "    }\n",
        "\n",
        "    # 추론\n",
        "    outputs = model(**inputs)\n",
        "    logits = outputs.logits\n",
        "    preds = torch.argmax(logits, dim=1)\n",
        "\n",
        "for text, logit, pred in zip(text, logits, preds):\n",
        "    print(f\"입력 텍스트: {text}\")\n",
        "    print(f\"감정 벡터: {[round(num.item(), 3) for num in logit.cpu().numpy()]}\")\n",
        "    print(f\"예측된 감정: {ID_2_LABEL[int(pred)]}\")\n",
        "    print()"
      ]
    },
    {
      "cell_type": "markdown",
      "metadata": {
        "id": "l24qaePWP0AM"
      },
      "source": [
        "# Pipeline: Korean Hate Speech Detection"
      ]
    },
    {
      "cell_type": "code",
      "execution_count": 6,
      "metadata": {
        "id": "zTqeMHUsj5r6"
      },
      "outputs": [],
      "source": [
        "# Label dictionary\n",
        "LABEL_2_ID = {\n",
        "    0: 0,\n",
        "    1: 1,\n",
        "}\n",
        "ID_2_LABEL = {value: key for key, value in LABEL_2_ID.items()}"
      ]
    },
    {
      "cell_type": "markdown",
      "metadata": {
        "id": "En59iIE3k1Et"
      },
      "source": [
        "## Load Datasets"
      ]
    },
    {
      "cell_type": "code",
      "execution_count": 7,
      "metadata": {
        "id": "hV3vfdMkk3Pq"
      },
      "outputs": [],
      "source": [
        "df_train = pd.read_csv(os.path.join(DIRECTORY, 'train.tsv'), sep='\\t')\n",
        "df_validation = pd.read_csv(os.path.join(DIRECTORY, 'validation.tsv'), sep='\\t')\n",
        "df_test = pd.read_csv(os.path.join(DIRECTORY, 'test.tsv'), sep='\\t')"
      ]
    },
    {
      "cell_type": "code",
      "execution_count": 8,
      "metadata": {
        "id": "aWlg2fKTQtFF"
      },
      "outputs": [],
      "source": [
        "# dataset 병합\n",
        "df = pd.concat([df_train, df_validation, df_test])"
      ]
    },
    {
      "cell_type": "code",
      "execution_count": null,
      "metadata": {
        "colab": {
          "base_uri": "https://localhost:8080/",
          "height": 423
        },
        "collapsed": true,
        "id": "Q-Qdu7Q5mNE3",
        "outputId": "6030d4e8-794b-4929-87b3-023ee1ca3f2f"
      },
      "outputs": [
        {
          "data": {
            "application/vnd.google.colaboratory.intrinsic+json": {
              "type": "dataframe",
              "variable_name": "df"
            },
            "text/html": [
              "\n",
              "  <div id=\"df-ff667791-2ec2-490b-a4a4-d674607c3214\" class=\"colab-df-container\">\n",
              "    <div>\n",
              "<style scoped>\n",
              "    .dataframe tbody tr th:only-of-type {\n",
              "        vertical-align: middle;\n",
              "    }\n",
              "\n",
              "    .dataframe tbody tr th {\n",
              "        vertical-align: top;\n",
              "    }\n",
              "\n",
              "    .dataframe thead th {\n",
              "        text-align: right;\n",
              "    }\n",
              "</style>\n",
              "<table border=\"1\" class=\"dataframe\">\n",
              "  <thead>\n",
              "    <tr style=\"text-align: right;\">\n",
              "      <th></th>\n",
              "      <th>text</th>\n",
              "      <th>label</th>\n",
              "    </tr>\n",
              "  </thead>\n",
              "  <tbody>\n",
              "    <tr>\n",
              "      <th>0</th>\n",
              "      <td>언니 화면멈췄어</td>\n",
              "      <td>0</td>\n",
              "    </tr>\n",
              "    <tr>\n",
              "      <th>1</th>\n",
              "      <td>디피씨 박제요????</td>\n",
              "      <td>0</td>\n",
              "    </tr>\n",
              "    <tr>\n",
              "      <th>2</th>\n",
              "      <td>철팽씨가 저를 카트로 암살했어유..(?)</td>\n",
              "      <td>0</td>\n",
              "    </tr>\n",
              "    <tr>\n",
              "      <th>3</th>\n",
              "      <td>타우러스 몇센치 옆에 맞아놓고</td>\n",
              "      <td>0</td>\n",
              "    </tr>\n",
              "    <tr>\n",
              "      <th>4</th>\n",
              "      <td>팀버그가</td>\n",
              "      <td>0</td>\n",
              "    </tr>\n",
              "    <tr>\n",
              "      <th>...</th>\n",
              "      <td>...</td>\n",
              "      <td>...</td>\n",
              "    </tr>\n",
              "    <tr>\n",
              "      <th>499995</th>\n",
              "      <td>너무 속보이잖아ㅋㅋ</td>\n",
              "      <td>0</td>\n",
              "    </tr>\n",
              "    <tr>\n",
              "      <th>499996</th>\n",
              "      <td>아파서 조퇴함</td>\n",
              "      <td>0</td>\n",
              "    </tr>\n",
              "    <tr>\n",
              "      <th>499997</th>\n",
              "      <td>&lt;@981538220909133885&gt; 돌아오쇼</td>\n",
              "      <td>0</td>\n",
              "    </tr>\n",
              "    <tr>\n",
              "      <th>499998</th>\n",
              "      <td>넌 골을 넣고 미국 혁명이라고 공포했지</td>\n",
              "      <td>0</td>\n",
              "    </tr>\n",
              "    <tr>\n",
              "      <th>499999</th>\n",
              "      <td>아이유 짭임?</td>\n",
              "      <td>0</td>\n",
              "    </tr>\n",
              "  </tbody>\n",
              "</table>\n",
              "<p>5000000 rows × 2 columns</p>\n",
              "</div>\n",
              "    <div class=\"colab-df-buttons\">\n",
              "\n",
              "  <div class=\"colab-df-container\">\n",
              "    <button class=\"colab-df-convert\" onclick=\"convertToInteractive('df-ff667791-2ec2-490b-a4a4-d674607c3214')\"\n",
              "            title=\"Convert this dataframe to an interactive table.\"\n",
              "            style=\"display:none;\">\n",
              "\n",
              "  <svg xmlns=\"http://www.w3.org/2000/svg\" height=\"24px\" viewBox=\"0 -960 960 960\">\n",
              "    <path d=\"M120-120v-720h720v720H120Zm60-500h600v-160H180v160Zm220 220h160v-160H400v160Zm0 220h160v-160H400v160ZM180-400h160v-160H180v160Zm440 0h160v-160H620v160ZM180-180h160v-160H180v160Zm440 0h160v-160H620v160Z\"/>\n",
              "  </svg>\n",
              "    </button>\n",
              "\n",
              "  <style>\n",
              "    .colab-df-container {\n",
              "      display:flex;\n",
              "      gap: 12px;\n",
              "    }\n",
              "\n",
              "    .colab-df-convert {\n",
              "      background-color: #E8F0FE;\n",
              "      border: none;\n",
              "      border-radius: 50%;\n",
              "      cursor: pointer;\n",
              "      display: none;\n",
              "      fill: #1967D2;\n",
              "      height: 32px;\n",
              "      padding: 0 0 0 0;\n",
              "      width: 32px;\n",
              "    }\n",
              "\n",
              "    .colab-df-convert:hover {\n",
              "      background-color: #E2EBFA;\n",
              "      box-shadow: 0px 1px 2px rgba(60, 64, 67, 0.3), 0px 1px 3px 1px rgba(60, 64, 67, 0.15);\n",
              "      fill: #174EA6;\n",
              "    }\n",
              "\n",
              "    .colab-df-buttons div {\n",
              "      margin-bottom: 4px;\n",
              "    }\n",
              "\n",
              "    [theme=dark] .colab-df-convert {\n",
              "      background-color: #3B4455;\n",
              "      fill: #D2E3FC;\n",
              "    }\n",
              "\n",
              "    [theme=dark] .colab-df-convert:hover {\n",
              "      background-color: #434B5C;\n",
              "      box-shadow: 0px 1px 3px 1px rgba(0, 0, 0, 0.15);\n",
              "      filter: drop-shadow(0px 1px 2px rgba(0, 0, 0, 0.3));\n",
              "      fill: #FFFFFF;\n",
              "    }\n",
              "  </style>\n",
              "\n",
              "    <script>\n",
              "      const buttonEl =\n",
              "        document.querySelector('#df-ff667791-2ec2-490b-a4a4-d674607c3214 button.colab-df-convert');\n",
              "      buttonEl.style.display =\n",
              "        google.colab.kernel.accessAllowed ? 'block' : 'none';\n",
              "\n",
              "      async function convertToInteractive(key) {\n",
              "        const element = document.querySelector('#df-ff667791-2ec2-490b-a4a4-d674607c3214');\n",
              "        const dataTable =\n",
              "          await google.colab.kernel.invokeFunction('convertToInteractive',\n",
              "                                                    [key], {});\n",
              "        if (!dataTable) return;\n",
              "\n",
              "        const docLinkHtml = 'Like what you see? Visit the ' +\n",
              "          '<a target=\"_blank\" href=https://colab.research.google.com/notebooks/data_table.ipynb>data table notebook</a>'\n",
              "          + ' to learn more about interactive tables.';\n",
              "        element.innerHTML = '';\n",
              "        dataTable['output_type'] = 'display_data';\n",
              "        await google.colab.output.renderOutput(dataTable, element);\n",
              "        const docLink = document.createElement('div');\n",
              "        docLink.innerHTML = docLinkHtml;\n",
              "        element.appendChild(docLink);\n",
              "      }\n",
              "    </script>\n",
              "  </div>\n",
              "\n",
              "\n",
              "    <div id=\"df-1aaa5bed-769b-4a1e-9e2e-e4cefd3939a8\">\n",
              "      <button class=\"colab-df-quickchart\" onclick=\"quickchart('df-1aaa5bed-769b-4a1e-9e2e-e4cefd3939a8')\"\n",
              "                title=\"Suggest charts\"\n",
              "                style=\"display:none;\">\n",
              "\n",
              "<svg xmlns=\"http://www.w3.org/2000/svg\" height=\"24px\"viewBox=\"0 0 24 24\"\n",
              "     width=\"24px\">\n",
              "    <g>\n",
              "        <path d=\"M19 3H5c-1.1 0-2 .9-2 2v14c0 1.1.9 2 2 2h14c1.1 0 2-.9 2-2V5c0-1.1-.9-2-2-2zM9 17H7v-7h2v7zm4 0h-2V7h2v10zm4 0h-2v-4h2v4z\"/>\n",
              "    </g>\n",
              "</svg>\n",
              "      </button>\n",
              "\n",
              "<style>\n",
              "  .colab-df-quickchart {\n",
              "      --bg-color: #E8F0FE;\n",
              "      --fill-color: #1967D2;\n",
              "      --hover-bg-color: #E2EBFA;\n",
              "      --hover-fill-color: #174EA6;\n",
              "      --disabled-fill-color: #AAA;\n",
              "      --disabled-bg-color: #DDD;\n",
              "  }\n",
              "\n",
              "  [theme=dark] .colab-df-quickchart {\n",
              "      --bg-color: #3B4455;\n",
              "      --fill-color: #D2E3FC;\n",
              "      --hover-bg-color: #434B5C;\n",
              "      --hover-fill-color: #FFFFFF;\n",
              "      --disabled-bg-color: #3B4455;\n",
              "      --disabled-fill-color: #666;\n",
              "  }\n",
              "\n",
              "  .colab-df-quickchart {\n",
              "    background-color: var(--bg-color);\n",
              "    border: none;\n",
              "    border-radius: 50%;\n",
              "    cursor: pointer;\n",
              "    display: none;\n",
              "    fill: var(--fill-color);\n",
              "    height: 32px;\n",
              "    padding: 0;\n",
              "    width: 32px;\n",
              "  }\n",
              "\n",
              "  .colab-df-quickchart:hover {\n",
              "    background-color: var(--hover-bg-color);\n",
              "    box-shadow: 0 1px 2px rgba(60, 64, 67, 0.3), 0 1px 3px 1px rgba(60, 64, 67, 0.15);\n",
              "    fill: var(--button-hover-fill-color);\n",
              "  }\n",
              "\n",
              "  .colab-df-quickchart-complete:disabled,\n",
              "  .colab-df-quickchart-complete:disabled:hover {\n",
              "    background-color: var(--disabled-bg-color);\n",
              "    fill: var(--disabled-fill-color);\n",
              "    box-shadow: none;\n",
              "  }\n",
              "\n",
              "  .colab-df-spinner {\n",
              "    border: 2px solid var(--fill-color);\n",
              "    border-color: transparent;\n",
              "    border-bottom-color: var(--fill-color);\n",
              "    animation:\n",
              "      spin 1s steps(1) infinite;\n",
              "  }\n",
              "\n",
              "  @keyframes spin {\n",
              "    0% {\n",
              "      border-color: transparent;\n",
              "      border-bottom-color: var(--fill-color);\n",
              "      border-left-color: var(--fill-color);\n",
              "    }\n",
              "    20% {\n",
              "      border-color: transparent;\n",
              "      border-left-color: var(--fill-color);\n",
              "      border-top-color: var(--fill-color);\n",
              "    }\n",
              "    30% {\n",
              "      border-color: transparent;\n",
              "      border-left-color: var(--fill-color);\n",
              "      border-top-color: var(--fill-color);\n",
              "      border-right-color: var(--fill-color);\n",
              "    }\n",
              "    40% {\n",
              "      border-color: transparent;\n",
              "      border-right-color: var(--fill-color);\n",
              "      border-top-color: var(--fill-color);\n",
              "    }\n",
              "    60% {\n",
              "      border-color: transparent;\n",
              "      border-right-color: var(--fill-color);\n",
              "    }\n",
              "    80% {\n",
              "      border-color: transparent;\n",
              "      border-right-color: var(--fill-color);\n",
              "      border-bottom-color: var(--fill-color);\n",
              "    }\n",
              "    90% {\n",
              "      border-color: transparent;\n",
              "      border-bottom-color: var(--fill-color);\n",
              "    }\n",
              "  }\n",
              "</style>\n",
              "\n",
              "      <script>\n",
              "        async function quickchart(key) {\n",
              "          const quickchartButtonEl =\n",
              "            document.querySelector('#' + key + ' button');\n",
              "          quickchartButtonEl.disabled = true;  // To prevent multiple clicks.\n",
              "          quickchartButtonEl.classList.add('colab-df-spinner');\n",
              "          try {\n",
              "            const charts = await google.colab.kernel.invokeFunction(\n",
              "                'suggestCharts', [key], {});\n",
              "          } catch (error) {\n",
              "            console.error('Error during call to suggestCharts:', error);\n",
              "          }\n",
              "          quickchartButtonEl.classList.remove('colab-df-spinner');\n",
              "          quickchartButtonEl.classList.add('colab-df-quickchart-complete');\n",
              "        }\n",
              "        (() => {\n",
              "          let quickchartButtonEl =\n",
              "            document.querySelector('#df-1aaa5bed-769b-4a1e-9e2e-e4cefd3939a8 button');\n",
              "          quickchartButtonEl.style.display =\n",
              "            google.colab.kernel.accessAllowed ? 'block' : 'none';\n",
              "        })();\n",
              "      </script>\n",
              "    </div>\n",
              "\n",
              "  <div id=\"id_a8888c95-713f-423c-9770-46bd2ccf800b\">\n",
              "    <style>\n",
              "      .colab-df-generate {\n",
              "        background-color: #E8F0FE;\n",
              "        border: none;\n",
              "        border-radius: 50%;\n",
              "        cursor: pointer;\n",
              "        display: none;\n",
              "        fill: #1967D2;\n",
              "        height: 32px;\n",
              "        padding: 0 0 0 0;\n",
              "        width: 32px;\n",
              "      }\n",
              "\n",
              "      .colab-df-generate:hover {\n",
              "        background-color: #E2EBFA;\n",
              "        box-shadow: 0px 1px 2px rgba(60, 64, 67, 0.3), 0px 1px 3px 1px rgba(60, 64, 67, 0.15);\n",
              "        fill: #174EA6;\n",
              "      }\n",
              "\n",
              "      [theme=dark] .colab-df-generate {\n",
              "        background-color: #3B4455;\n",
              "        fill: #D2E3FC;\n",
              "      }\n",
              "\n",
              "      [theme=dark] .colab-df-generate:hover {\n",
              "        background-color: #434B5C;\n",
              "        box-shadow: 0px 1px 3px 1px rgba(0, 0, 0, 0.15);\n",
              "        filter: drop-shadow(0px 1px 2px rgba(0, 0, 0, 0.3));\n",
              "        fill: #FFFFFF;\n",
              "      }\n",
              "    </style>\n",
              "    <button class=\"colab-df-generate\" onclick=\"generateWithVariable('df')\"\n",
              "            title=\"Generate code using this dataframe.\"\n",
              "            style=\"display:none;\">\n",
              "\n",
              "  <svg xmlns=\"http://www.w3.org/2000/svg\" height=\"24px\"viewBox=\"0 0 24 24\"\n",
              "       width=\"24px\">\n",
              "    <path d=\"M7,19H8.4L18.45,9,17,7.55,7,17.6ZM5,21V16.75L18.45,3.32a2,2,0,0,1,2.83,0l1.4,1.43a1.91,1.91,0,0,1,.58,1.4,1.91,1.91,0,0,1-.58,1.4L9.25,21ZM18.45,9,17,7.55Zm-12,3A5.31,5.31,0,0,0,4.9,8.1,5.31,5.31,0,0,0,1,6.5,5.31,5.31,0,0,0,4.9,4.9,5.31,5.31,0,0,0,6.5,1,5.31,5.31,0,0,0,8.1,4.9,5.31,5.31,0,0,0,12,6.5,5.46,5.46,0,0,0,6.5,12Z\"/>\n",
              "  </svg>\n",
              "    </button>\n",
              "    <script>\n",
              "      (() => {\n",
              "      const buttonEl =\n",
              "        document.querySelector('#id_a8888c95-713f-423c-9770-46bd2ccf800b button.colab-df-generate');\n",
              "      buttonEl.style.display =\n",
              "        google.colab.kernel.accessAllowed ? 'block' : 'none';\n",
              "\n",
              "      buttonEl.onclick = () => {\n",
              "        google.colab.notebook.generateWithVariable('df');\n",
              "      }\n",
              "      })();\n",
              "    </script>\n",
              "  </div>\n",
              "\n",
              "    </div>\n",
              "  </div>\n"
            ],
            "text/plain": [
              "                              text  label\n",
              "0                         언니 화면멈췄어      0\n",
              "1                      디피씨 박제요????      0\n",
              "2           철팽씨가 저를 카트로 암살했어유..(?)      0\n",
              "3                 타우러스 몇센치 옆에 맞아놓고      0\n",
              "4                             팀버그가      0\n",
              "...                            ...    ...\n",
              "499995                  너무 속보이잖아ㅋㅋ      0\n",
              "499996                     아파서 조퇴함      0\n",
              "499997  <@981538220909133885> 돌아오쇼      0\n",
              "499998       넌 골을 넣고 미국 혁명이라고 공포했지      0\n",
              "499999                     아이유 짭임?      0\n",
              "\n",
              "[5000000 rows x 2 columns]"
            ]
          },
          "metadata": {},
          "output_type": "display_data"
        }
      ],
      "source": [
        "display(df)"
      ]
    },
    {
      "cell_type": "markdown",
      "metadata": {
        "id": "PBATQhQfbAXm"
      },
      "source": [
        "## Text Preprocessing"
      ]
    },
    {
      "cell_type": "markdown",
      "metadata": {
        "id": "LI-FtdNVmmaO"
      },
      "source": [
        "### checking missing data"
      ]
    },
    {
      "cell_type": "code",
      "execution_count": 9,
      "metadata": {
        "colab": {
          "base_uri": "https://localhost:8080/"
        },
        "id": "WZrOY1ZF9us8",
        "outputId": "8a5d6293-5cf2-4f30-86e2-0aa965f3d0c3"
      },
      "outputs": [
        {
          "name": "stdout",
          "output_type": "stream",
          "text": [
            "no missing data\n"
          ]
        }
      ],
      "source": [
        "mask = (df[\"text\"].fillna('').str.len() == 0) | (~df[\"label\"].isin(LABEL_2_ID))\n",
        "if mask.any(): print(f\"{mask.sum()} missing datas\")\n",
        "else: print(\"no missing data\")"
      ]
    },
    {
      "cell_type": "code",
      "execution_count": null,
      "metadata": {
        "id": "w8tmo00SWOBm"
      },
      "outputs": [],
      "source": [
        "hate_counts_dict = df[\"label\"].value_counts().to_dict()\n",
        "print(hate_counts_dict)"
      ]
    },
    {
      "cell_type": "markdown",
      "metadata": {
        "id": "ZXxtSppwoMO_"
      },
      "source": [
        "### dataset balancing"
      ]
    },
    {
      "cell_type": "code",
      "execution_count": 10,
      "metadata": {
        "colab": {
          "base_uri": "https://localhost:8080/"
        },
        "id": "cEju_cfZoOpH",
        "outputId": "0a51a771-117b-4197-d25f-99bc77fe2e31"
      },
      "outputs": [
        {
          "name": "stderr",
          "output_type": "stream",
          "text": [
            "/tmp/ipython-input-10-1052033161.py:3: DeprecationWarning: DataFrameGroupBy.apply operated on the grouping columns. This behavior is deprecated, and in a future version of pandas the grouping columns will be excluded from the operation. Either pass `include_groups=False` to exclude the groupings or explicitly select the grouping columns after groupby to silence this warning.\n",
            "  .apply(lambda x: x.sample(n=df[\"label\"].value_counts().min(), random_state=42)) # down-sampling\n"
          ]
        }
      ],
      "source": [
        "df = (\n",
        "    df.groupby(\"label\")\n",
        "    .apply(lambda x: x.sample(n=df[\"label\"].value_counts().min(), random_state=42)) # down-sampling\n",
        "    .reset_index(drop=True)                                                         # multi-index 방지\n",
        "    .sample(frac=1, random_state=42)\n",
        "    .reset_index(drop=True)\n",
        ")"
      ]
    },
    {
      "cell_type": "markdown",
      "metadata": {
        "id": "qe27Wm24n4vc"
      },
      "source": [
        "### outliar processing"
      ]
    },
    {
      "cell_type": "code",
      "execution_count": 11,
      "metadata": {
        "collapsed": true,
        "id": "N9bXJNRpVL0U"
      },
      "outputs": [],
      "source": [
        "# Sentiment Analysis의 outliar processing과 동일한 필터링 함수를 가짐\n",
        "URL_PAT = re.compile(r'https?://\\S+')\n",
        "HTML_PAT = re.compile(r'<[^>]+>')\n",
        "REPEAT_PAT = re.compile(r'(.)\\1{2,}')                       # 3회 이상 연속된 글자(ㅋㅋㅋ, ㅠㅠㅠ 등) → 2회로 축약\n",
        "SPEC_PAT = re.compile(r'[^ㄱ-ㅎ가-힣a-zA-Z0-9\\s\\.\\,\\!\\?]+') # 허용 문자: 한글, 영문, 숫자, 공백, 주요 punctuation\n",
        "MULTI_SP = re.compile(r'\\s+')\n",
        "\n",
        "def clean_text(text):\n",
        "    text = html.unescape(text)                          # &quot; → \"\n",
        "    text = URL_PAT.sub(' URL ', text)                   # URL 토큰화\n",
        "    text = HTML_PAT.sub(' ', text)                      # HTML tag 제거\n",
        "    text = emoji.demojize(text, delimiters=(' ', ' '))  # 😀 → :grinning_face:\n",
        "    text = REPEAT_PAT.sub(r'\\1\\1', text)                # ㅋㅋㅋㅋ → ㅋㅋ\n",
        "    text = SPEC_PAT.sub(' ', text)                      # 특수문자 제거\n",
        "    text = unicodedata.normalize('NFKC', text)          # Unicode 정규화\n",
        "    text = MULTI_SP.sub(' ', text).strip()              # 다중 공백 정규화\n",
        "    return text\n",
        "\n",
        "df[\"text\"] = df[\"text\"].apply(clean_text)"
      ]
    },
    {
      "cell_type": "markdown",
      "metadata": {
        "id": "zaw_WaJzo69L"
      },
      "source": [
        "### dataset slicing"
      ]
    },
    {
      "cell_type": "code",
      "execution_count": 12,
      "metadata": {
        "id": "NSIOT83F4K_C"
      },
      "outputs": [],
      "source": [
        "# colab의 GPU 메모리 제한으로 인해 dataset의 일부만 학습에 사용\n",
        "df = df.iloc[:30000]"
      ]
    },
    {
      "cell_type": "markdown",
      "metadata": {
        "id": "AoqWYP3KpJ9w"
      },
      "source": [
        "### dataset split"
      ]
    },
    {
      "cell_type": "code",
      "execution_count": 13,
      "metadata": {
        "id": "yFf85HxOpKFK"
      },
      "outputs": [],
      "source": [
        "# feature와 target 분리\n",
        "texts = df[\"text\"].tolist()\n",
        "labels = df[\"label\"].tolist()\n",
        "\n",
        "# train/validation/test split\n",
        "train_texts, test_texts, train_labels, test_labels = train_test_split(\n",
        "    texts, labels,\n",
        "    test_size=0.2, random_state=42, stratify=labels\n",
        ")\n",
        "train_texts, val_texts, train_labels, val_labels = train_test_split(\n",
        "    train_texts, train_labels,\n",
        "    test_size=0.25, random_state=42, stratify=train_labels\n",
        ")"
      ]
    },
    {
      "cell_type": "markdown",
      "metadata": {
        "id": "Nb_-t647Tafu"
      },
      "source": [
        "## Text Tokenize"
      ]
    },
    {
      "cell_type": "code",
      "execution_count": 14,
      "metadata": {
        "id": "WyB1NH8AozoF"
      },
      "outputs": [],
      "source": [
        "MODEL_NAME = \"UICHEOL-HWANG/kobert\"\n",
        "BATCH_SIZE = 16"
      ]
    },
    {
      "cell_type": "code",
      "execution_count": 15,
      "metadata": {
        "colab": {
          "base_uri": "https://localhost:8080/",
          "height": 353,
          "referenced_widgets": [
            "948a9293d16e411a9efe47e7e4b6891d",
            "d21132c7373c4bf097cc2aff61fa7261",
            "096323b734264cacabe44526da3ba55c",
            "4ec63e40c8114c6b895eb9b47d3fa86a",
            "12940c90a802432dadc28cb4e0ba9515",
            "77323b6fd5494bc59de7ba082d62d302",
            "bc0697571e674452aee0826189f4e3d2",
            "4560aff5047548ba819d5c6b89f52391",
            "f88ef7dd60a5469f8221f7c2bfc690e1",
            "7661a1712e3a4e35bd0bc30b09f310da",
            "a62c38874ae94d829651be54184b1365",
            "08e06e7a204d4d028dcfc47119eecc26",
            "fc359db8ac6d49c3809e022253c06f82",
            "e629bbec0721426f82acf1ce0a2fd2c7",
            "5514132ca5b94a4fa1a45e877d6cc8e0",
            "84829c0dadf14d78bbac708186563437",
            "7952cd7fffb8488cabb449053e7b3d2c",
            "1a49a6a80d5a4759956032032da2c141",
            "f51442c36e8142d3a417cf6be0afbdf5",
            "821b142bb8f54467b02e23d2fad235b9",
            "b9e0ee9672394224befb632cd9635ebe",
            "e1b6ecdbf4cc4e2ea43c4b0539eac920",
            "56ccb94613b1471aa99bcb5effe76aaf",
            "e7aebcf398624c2cadc83b9b3c1c3994",
            "adbd24dfe76f4f17a4bc75a10072af73",
            "b67c187a1fd54159a559fa536e15ab46",
            "6692edf55d0e43078eec3a0455d118c5",
            "ca84b5d94f254b51b3463865978b7866",
            "849e0d0550cd4445a597d35e4982b750",
            "457149bd07514cb5923c0b17aa382bac",
            "71d351e3c7c242b2830af84201db74df",
            "58d8ab3acea04428b4bfcbd6a695b6c9",
            "3c03f815d7574a7f8ccc7dfc20a45e60",
            "e70d09576fe94361a6f3fa48829ce9ba",
            "bb708e0105ff4047a3971b95b633efdb",
            "f6bde9d98979490ba8e6cad1e36cbb37",
            "fde7d5a82b1b4b1fb27dab0c83270e60",
            "a327f46bda5d4a7da3e4ef05e4a26a03",
            "3ddd31ce9d22467cb384e11e3f4b867f",
            "96e30a5517b3430ab66fb9d60fb9aeb7",
            "9eae616e7adf46cd9c25e2c585ebe32b",
            "a8fce39c8cb242f5a845d44d20783776",
            "b3d1e9c6ff784b4b818117d2900a2aa9",
            "4a4b47f8d1964925ba2e3be5bf814a23",
            "d9e7ef98d5994d1cb979ff0c48780a87",
            "ddc09a24274d4c30869d7be3767163c3",
            "7b7a164b694a4724b6fc82739158de64",
            "a3f42c7b39e942e6886a1df4d4468b9f",
            "df6bc3b0776b47de8a5c28e0ae06664e",
            "09a4b4cbb341462a898fd5bd792c4ff4",
            "8da396d2125e406c81735ee77e7813ac",
            "0de9c42a17cb49e9b64d384aff4c82f0",
            "48d99dcd29bd45499d3fc63c90b30398",
            "34bb088ff3e14b6b98de001ecb990121",
            "b549809e16e1434e806906cb68b1ec43"
          ]
        },
        "id": "8f176pBbTann",
        "outputId": "c4e10968-2980-413b-8a60-05c02e3f54f1"
      },
      "outputs": [
        {
          "name": "stderr",
          "output_type": "stream",
          "text": [
            "/usr/local/lib/python3.11/dist-packages/huggingface_hub/utils/_auth.py:94: UserWarning: \n",
            "The secret `HF_TOKEN` does not exist in your Colab secrets.\n",
            "To authenticate with the Hugging Face Hub, create a token in your settings tab (https://huggingface.co/settings/tokens), set it as secret in your Google Colab and restart your session.\n",
            "You will be able to reuse this secret in all of your notebooks.\n",
            "Please note that authentication is recommended but still optional to access public models or datasets.\n",
            "  warnings.warn(\n"
          ]
        },
        {
          "data": {
            "application/vnd.jupyter.widget-view+json": {
              "model_id": "948a9293d16e411a9efe47e7e4b6891d",
              "version_major": 2,
              "version_minor": 0
            },
            "text/plain": [
              "tokenizer_config.json: 0.00B [00:00, ?B/s]"
            ]
          },
          "metadata": {},
          "output_type": "display_data"
        },
        {
          "data": {
            "application/vnd.jupyter.widget-view+json": {
              "model_id": "08e06e7a204d4d028dcfc47119eecc26",
              "version_major": 2,
              "version_minor": 0
            },
            "text/plain": [
              "tokenization_kobert.py: 0.00B [00:00, ?B/s]"
            ]
          },
          "metadata": {},
          "output_type": "display_data"
        },
        {
          "name": "stderr",
          "output_type": "stream",
          "text": [
            "A new version of the following files was downloaded from https://huggingface.co/monologg/kobert:\n",
            "- tokenization_kobert.py\n",
            ". Make sure to double-check they do not contain any added malicious code. To avoid downloading new versions of the code file, you can pin a revision.\n"
          ]
        },
        {
          "data": {
            "application/vnd.jupyter.widget-view+json": {
              "model_id": "56ccb94613b1471aa99bcb5effe76aaf",
              "version_major": 2,
              "version_minor": 0
            },
            "text/plain": [
              "tokenizer_78b3253a26.model:   0%|          | 0.00/371k [00:00<?, ?B/s]"
            ]
          },
          "metadata": {},
          "output_type": "display_data"
        },
        {
          "data": {
            "application/vnd.jupyter.widget-view+json": {
              "model_id": "e70d09576fe94361a6f3fa48829ce9ba",
              "version_major": 2,
              "version_minor": 0
            },
            "text/plain": [
              "vocab.txt: 0.00B [00:00, ?B/s]"
            ]
          },
          "metadata": {},
          "output_type": "display_data"
        },
        {
          "data": {
            "application/vnd.jupyter.widget-view+json": {
              "model_id": "d9e7ef98d5994d1cb979ff0c48780a87",
              "version_major": 2,
              "version_minor": 0
            },
            "text/plain": [
              "special_tokens_map.json:   0%|          | 0.00/695 [00:00<?, ?B/s]"
            ]
          },
          "metadata": {},
          "output_type": "display_data"
        }
      ],
      "source": [
        "# 이전에 정의한 클래스, 생략 가능\n",
        "class EmotionDataset(Dataset):\n",
        "    \"\"\"\n",
        "    문장과 라벨을 읽어\n",
        "    Transformer 토크나이저로 encoding\n",
        "    \"\"\"\n",
        "    def __init__(self, texts, labels, tokenizer, max_length=128):\n",
        "        self.texts = texts\n",
        "        self.labels = labels\n",
        "        self.tokenizer = tokenizer\n",
        "        self.max_length = max_length\n",
        "\n",
        "    def __len__(self):\n",
        "        return len(self.labels)\n",
        "\n",
        "    def __getitem__(self, index):\n",
        "        text = self.texts[index]\n",
        "        label = self.labels[index]\n",
        "\n",
        "        encoding = self.tokenizer(\n",
        "            text,\n",
        "            padding=\"max_length\",\n",
        "            truncation=True,\n",
        "            max_length=self.max_length,\n",
        "            return_tensors=\"pt\"\n",
        "        )\n",
        "\n",
        "        return {\n",
        "            \"input_ids\": encoding[\"input_ids\"].squeeze(0),\n",
        "            \"attention_mask\": encoding[\"attention_mask\"].squeeze(0),\n",
        "            \"labels\": torch.tensor(label, dtype=torch.long),\n",
        "        }\n",
        "\n",
        "tokenizer = AutoTokenizer.from_pretrained(MODEL_NAME, trust_remote_code=True)\n",
        "\n",
        "train_dataset = EmotionDataset(train_texts, train_labels, tokenizer)\n",
        "val_dataset = EmotionDataset(val_texts, val_labels, tokenizer)\n",
        "test_dataset = EmotionDataset(test_texts, test_labels, tokenizer)\n",
        "\n",
        "train_loader = DataLoader(train_dataset, batch_size=BATCH_SIZE, shuffle=True)\n",
        "val_loader = DataLoader(val_dataset, batch_size=BATCH_SIZE, shuffle=True)\n",
        "test_loader = DataLoader(test_dataset, batch_size=BATCH_SIZE, shuffle=True)"
      ]
    },
    {
      "cell_type": "markdown",
      "metadata": {
        "id": "dQu7wUGsq4Te"
      },
      "source": [
        "## Text Vectorize - Sentiment Model Inference"
      ]
    },
    {
      "cell_type": "code",
      "execution_count": 16,
      "metadata": {
        "id": "ycVGrD2o7fDH"
      },
      "outputs": [],
      "source": [
        "# GPU 메모리 캐시 정리\n",
        "gc.collect()\n",
        "torch.cuda.empty_cache()"
      ]
    },
    {
      "cell_type": "markdown",
      "metadata": {
        "id": "MHCUWNp5VJls"
      },
      "source": [
        "### Load Pre-trained Model"
      ]
    },
    {
      "cell_type": "code",
      "execution_count": 17,
      "metadata": {
        "colab": {
          "base_uri": "https://localhost:8080/"
        },
        "collapsed": true,
        "id": "P_5rL6znVH74",
        "outputId": "755acd6d-edef-4160-c3f7-9e7fbb8bcbae"
      },
      "outputs": [
        {
          "data": {
            "text/plain": [
              "BertForSequenceClassification(\n",
              "  (bert): BertModel(\n",
              "    (embeddings): BertEmbeddings(\n",
              "      (word_embeddings): Embedding(8002, 768, padding_idx=1)\n",
              "      (position_embeddings): Embedding(512, 768)\n",
              "      (token_type_embeddings): Embedding(2, 768)\n",
              "      (LayerNorm): LayerNorm((768,), eps=1e-12, elementwise_affine=True)\n",
              "      (dropout): Dropout(p=0.1, inplace=False)\n",
              "    )\n",
              "    (encoder): BertEncoder(\n",
              "      (layer): ModuleList(\n",
              "        (0-11): 12 x BertLayer(\n",
              "          (attention): BertAttention(\n",
              "            (self): BertSdpaSelfAttention(\n",
              "              (query): Linear(in_features=768, out_features=768, bias=True)\n",
              "              (key): Linear(in_features=768, out_features=768, bias=True)\n",
              "              (value): Linear(in_features=768, out_features=768, bias=True)\n",
              "              (dropout): Dropout(p=0.1, inplace=False)\n",
              "            )\n",
              "            (output): BertSelfOutput(\n",
              "              (dense): Linear(in_features=768, out_features=768, bias=True)\n",
              "              (LayerNorm): LayerNorm((768,), eps=1e-12, elementwise_affine=True)\n",
              "              (dropout): Dropout(p=0.1, inplace=False)\n",
              "            )\n",
              "          )\n",
              "          (intermediate): BertIntermediate(\n",
              "            (dense): Linear(in_features=768, out_features=3072, bias=True)\n",
              "            (intermediate_act_fn): GELUActivation()\n",
              "          )\n",
              "          (output): BertOutput(\n",
              "            (dense): Linear(in_features=3072, out_features=768, bias=True)\n",
              "            (LayerNorm): LayerNorm((768,), eps=1e-12, elementwise_affine=True)\n",
              "            (dropout): Dropout(p=0.1, inplace=False)\n",
              "          )\n",
              "        )\n",
              "      )\n",
              "    )\n",
              "    (pooler): BertPooler(\n",
              "      (dense): Linear(in_features=768, out_features=768, bias=True)\n",
              "      (activation): Tanh()\n",
              "    )\n",
              "  )\n",
              "  (dropout): Dropout(p=0.1, inplace=False)\n",
              "  (classifier): Linear(in_features=768, out_features=7, bias=True)\n",
              ")"
            ]
          },
          "execution_count": 17,
          "metadata": {},
          "output_type": "execute_result"
        }
      ],
      "source": [
        "# 기학습 모델의 경로\n",
        "path = \"/content/drive/MyDrive/DeepLearning/sentiment/UICHEOL-HWANG_kobert_20250626-111637\"\n",
        "\n",
        "config = AutoConfig.from_pretrained(\n",
        "    os.path.join(path, \"model\")\n",
        ")\n",
        "\n",
        "model = AutoModelForSequenceClassification.from_pretrained(\n",
        "    os.path.join(path, \"model\"),\n",
        "    config=config,\n",
        "    ignore_mismatched_sizes=True\n",
        ")\n",
        "\n",
        "model.to(device)"
      ]
    },
    {
      "cell_type": "markdown",
      "metadata": {
        "id": "EZP76Gq5cqrz"
      },
      "source": [
        "### Text Vectorize"
      ]
    },
    {
      "cell_type": "code",
      "execution_count": 18,
      "metadata": {
        "colab": {
          "base_uri": "https://localhost:8080/"
        },
        "id": "d-TxlDOYaZC8",
        "outputId": "96fb77e9-c8fd-466a-eb81-ef70bae3c367"
      },
      "outputs": [
        {
          "name": "stderr",
          "output_type": "stream",
          "text": [
            "[Inference - Training Data]: 100%|██████████| 1125/1125 [02:09<00:00,  8.68it/s]\n",
            "[Inference - Validation Data]: 100%|██████████| 375/375 [00:44<00:00,  8.48it/s]\n",
            "[Inference - Test Data]: 100%|██████████| 375/375 [00:44<00:00,  8.41it/s]\n"
          ]
        }
      ],
      "source": [
        "train_vectors = []\n",
        "val_vectors = []\n",
        "test_vectors = []\n",
        "\n",
        "train_labels = []\n",
        "val_labels = []\n",
        "test_labels = []\n",
        "\n",
        "# 모델을 검증/평가/추론 모드로 전환\n",
        "model.eval()\n",
        "\n",
        "with torch.no_grad():\n",
        "\n",
        "    for batch in tqdm(train_loader, desc=f\"[Inference - Training Data]\"):\n",
        "\n",
        "        # 입력을 GPU에 전달\n",
        "        inputs = {\n",
        "            \"input_ids\": batch[\"input_ids\"].to(device),\n",
        "            \"attention_mask\": batch[\"attention_mask\"].to(device),\n",
        "            \"labels\": batch[\"labels\"].to(device)\n",
        "        }\n",
        "\n",
        "        # logit 구하기\n",
        "        outputs = model(**inputs)\n",
        "        logits = outputs.logits\n",
        "\n",
        "        train_labels.extend(inputs[\"labels\"].cpu().numpy())\n",
        "        train_vectors.extend(logits.cpu().numpy())\n",
        "\n",
        "    for batch in tqdm(val_loader, desc=f\"[Inference - Validation Data]\"):\n",
        "\n",
        "        # 입력을 GPU에 전달\n",
        "        inputs = {\n",
        "            \"input_ids\": batch[\"input_ids\"].to(device),\n",
        "            \"attention_mask\": batch[\"attention_mask\"].to(device),\n",
        "            \"labels\": batch[\"labels\"].to(device)\n",
        "        }\n",
        "\n",
        "        # logit 구하기\n",
        "        outputs = model(**inputs)\n",
        "        logits = outputs.logits\n",
        "\n",
        "        val_labels.extend(inputs[\"labels\"].cpu().numpy())\n",
        "        val_vectors.extend(logits.cpu().numpy())\n",
        "\n",
        "    for batch in tqdm(test_loader, desc=f\"[Inference - Test Data]\"):\n",
        "\n",
        "        # 입력을 GPU에 전달\n",
        "        inputs = {\n",
        "            \"input_ids\": batch[\"input_ids\"].to(device),\n",
        "            \"attention_mask\": batch[\"attention_mask\"].to(device),\n",
        "            \"labels\": batch[\"labels\"].to(device)\n",
        "        }\n",
        "\n",
        "        # logit 구하기\n",
        "        outputs = model(**inputs)\n",
        "        logits = outputs.logits\n",
        "\n",
        "        test_labels.extend(inputs[\"labels\"].cpu().numpy())\n",
        "        test_vectors.extend(logits.cpu().numpy())"
      ]
    },
    {
      "cell_type": "code",
      "execution_count": 19,
      "metadata": {
        "colab": {
          "base_uri": "https://localhost:8080/"
        },
        "id": "MMrJDqD016ko",
        "outputId": "bca616b8-4936-4029-97af-f174bb68bc8f"
      },
      "outputs": [
        {
          "name": "stderr",
          "output_type": "stream",
          "text": [
            "/tmp/ipython-input-19-1308973523.py:6: UserWarning: Creating a tensor from a list of numpy.ndarrays is extremely slow. Please consider converting the list to a single numpy.ndarray with numpy.array() before converting to a tensor. (Triggered internally at /pytorch/torch/csrc/utils/tensor_new.cpp:254.)\n",
            "  self.features = torch.tensor(features, dtype=torch.float32)\n"
          ]
        }
      ],
      "source": [
        "class BinaryTargetDataset(Dataset):\n",
        "    \"\"\"\n",
        "    학습에 맞게 데이터를 전처리\n",
        "    \"\"\"\n",
        "    def __init__(self, features, targets):\n",
        "        self.features = torch.tensor(features, dtype=torch.float32)\n",
        "        self.targets = torch.tensor(targets, dtype=torch.long)\n",
        "\n",
        "    def __len__(self):\n",
        "        return len(self.targets)\n",
        "\n",
        "    def __getitem__(self, index):\n",
        "        return {\n",
        "            'input': self.features[index],\n",
        "            'label': self.targets[index]\n",
        "        }\n",
        "\n",
        "train_dataset = BinaryTargetDataset(train_vectors, train_labels)\n",
        "val_dataset = BinaryTargetDataset(val_vectors, val_labels)\n",
        "test_dataset = BinaryTargetDataset(test_vectors, test_labels)\n",
        "\n",
        "train_loader = DataLoader(train_dataset, batch_size=BATCH_SIZE, shuffle=True)\n",
        "val_loader = DataLoader(val_dataset, batch_size=BATCH_SIZE, shuffle=True)\n",
        "test_loader = DataLoader(test_dataset, batch_size=BATCH_SIZE, shuffle=True)"
      ]
    },
    {
      "cell_type": "markdown",
      "metadata": {
        "id": "nbBR-GH-8Ar9"
      },
      "source": [
        "## Model Training"
      ]
    },
    {
      "cell_type": "markdown",
      "metadata": {
        "id": "sIzmH6C38woo"
      },
      "source": [
        "### Model Hyperparams"
      ]
    },
    {
      "cell_type": "code",
      "execution_count": 20,
      "metadata": {
        "id": "vRQfdg9H8A0T"
      },
      "outputs": [],
      "source": [
        "INPUT_SIZE = len(train_vectors[0])\n",
        "NUM_LABELS = 2\n",
        "HIDDEN_SIZE = 64\n",
        "BATCH_SIZE = 16\n",
        "NUM_EPOCHS = 20\n",
        "LEARNING_RATE = 1e-3\n",
        "WARMUP_DECAY_RATE = 0.1 # 학습률 증가 => 감소"
      ]
    },
    {
      "cell_type": "markdown",
      "metadata": {
        "id": "CRX8P3769NTG"
      },
      "source": [
        "### Pre-Training"
      ]
    },
    {
      "cell_type": "code",
      "execution_count": 21,
      "metadata": {
        "id": "Qn6Ri7Pc9Nal"
      },
      "outputs": [],
      "source": [
        "# MLP 모델 정의\n",
        "class MLPClassifier(nn.Module):\n",
        "    def __init__(self, input_size, hidden_size, num_classes):\n",
        "        super(MLPClassifier, self).__init__()\n",
        "        self.fc1 = nn.Linear(input_size, hidden_size)\n",
        "        self.relu = nn.ReLU()\n",
        "        self.fc2 = nn.Linear(hidden_size, num_classes)\n",
        "\n",
        "    def forward(self, x):\n",
        "        x = self.fc1(x)\n",
        "        x = self.relu(x)\n",
        "        x = self.fc2(x)\n",
        "        return x  # 로짓 출력\n",
        "\n",
        "input_size = INPUT_SIZE\n",
        "hidden_size = HIDDEN_SIZE\n",
        "num_classes = NUM_LABELS\n",
        "\n",
        "# 모델 초기화\n",
        "model = MLPClassifier(input_size, hidden_size, num_classes)\n",
        "\n",
        "# 모델을 디바이스로 이동\n",
        "model.to(device)\n",
        "\n",
        "# 손실 함수와 옵티마이저\n",
        "criterion = nn.CrossEntropyLoss()\n",
        "optimizer = AdamW(model.parameters(), lr=LEARNING_RATE)\n",
        "num_training_steps = NUM_EPOCHS * len(train_loader)\n",
        "num_warmup_steps = int(WARMUP_DECAY_RATE * num_training_steps)\n",
        "\n",
        "lr_scheduler = get_scheduler(\n",
        "    \"linear\",\n",
        "    optimizer=optimizer,\n",
        "    num_warmup_steps=num_warmup_steps,\n",
        "    num_training_steps=num_training_steps\n",
        ")"
      ]
    },
    {
      "cell_type": "markdown",
      "metadata": {
        "id": "S0hLk7ZL9FlT"
      },
      "source": [
        "### Model Training"
      ]
    },
    {
      "cell_type": "code",
      "execution_count": 22,
      "metadata": {
        "colab": {
          "base_uri": "https://localhost:8080/"
        },
        "collapsed": true,
        "id": "Ig-YrC4H9kp9",
        "outputId": "7245eaad-7a87-490c-ced4-e317043ee065"
      },
      "outputs": [
        {
          "name": "stderr",
          "output_type": "stream",
          "text": [
            "Epoch 1 [Training]: 100%|██████████| 1125/1125 [00:02<00:00, 532.46it/s]\n"
          ]
        },
        {
          "name": "stdout",
          "output_type": "stream",
          "text": [
            "Epoch 1 Training Loss: 0.5801 | Training Accuracy: 0.6749 | Training Macro F1: 0.6700\n"
          ]
        },
        {
          "name": "stderr",
          "output_type": "stream",
          "text": [
            "Epoch 1 [Validation]: 100%|██████████| 375/375 [00:00<00:00, 1745.10it/s]\n"
          ]
        },
        {
          "name": "stdout",
          "output_type": "stream",
          "text": [
            "Epoch 1 Validation Loss: 0.5022 | Validation Accuracy: 0.7558 | Validation Macro F1: 0.7548\n"
          ]
        },
        {
          "name": "stderr",
          "output_type": "stream",
          "text": [
            "Epoch 2 [Training]: 100%|██████████| 1125/1125 [00:01<00:00, 631.53it/s]\n"
          ]
        },
        {
          "name": "stdout",
          "output_type": "stream",
          "text": [
            "Epoch 2 Training Loss: 0.5007 | Training Accuracy: 0.7546 | Training Macro F1: 0.7536\n"
          ]
        },
        {
          "name": "stderr",
          "output_type": "stream",
          "text": [
            "Epoch 2 [Validation]: 100%|██████████| 375/375 [00:00<00:00, 1741.85it/s]\n"
          ]
        },
        {
          "name": "stdout",
          "output_type": "stream",
          "text": [
            "Epoch 2 Validation Loss: 0.4899 | Validation Accuracy: 0.7632 | Validation Macro F1: 0.7622\n"
          ]
        },
        {
          "name": "stderr",
          "output_type": "stream",
          "text": [
            "Epoch 3 [Training]: 100%|██████████| 1125/1125 [00:01<00:00, 619.25it/s]\n"
          ]
        },
        {
          "name": "stdout",
          "output_type": "stream",
          "text": [
            "Epoch 3 Training Loss: 0.4951 | Training Accuracy: 0.7554 | Training Macro F1: 0.7547\n"
          ]
        },
        {
          "name": "stderr",
          "output_type": "stream",
          "text": [
            "Epoch 3 [Validation]: 100%|██████████| 375/375 [00:00<00:00, 1826.24it/s]\n"
          ]
        },
        {
          "name": "stdout",
          "output_type": "stream",
          "text": [
            "Epoch 3 Validation Loss: 0.4854 | Validation Accuracy: 0.7642 | Validation Macro F1: 0.7626\n"
          ]
        },
        {
          "name": "stderr",
          "output_type": "stream",
          "text": [
            "Epoch 4 [Training]: 100%|██████████| 1125/1125 [00:01<00:00, 632.25it/s]\n"
          ]
        },
        {
          "name": "stdout",
          "output_type": "stream",
          "text": [
            "Epoch 4 Training Loss: 0.4906 | Training Accuracy: 0.7613 | Training Macro F1: 0.7607\n"
          ]
        },
        {
          "name": "stderr",
          "output_type": "stream",
          "text": [
            "Epoch 4 [Validation]: 100%|██████████| 375/375 [00:00<00:00, 1753.14it/s]\n"
          ]
        },
        {
          "name": "stdout",
          "output_type": "stream",
          "text": [
            "Epoch 4 Validation Loss: 0.4857 | Validation Accuracy: 0.7635 | Validation Macro F1: 0.7635\n"
          ]
        },
        {
          "name": "stderr",
          "output_type": "stream",
          "text": [
            "Epoch 5 [Training]: 100%|██████████| 1125/1125 [00:02<00:00, 532.54it/s]\n"
          ]
        },
        {
          "name": "stdout",
          "output_type": "stream",
          "text": [
            "Epoch 5 Training Loss: 0.4891 | Training Accuracy: 0.7594 | Training Macro F1: 0.7589\n"
          ]
        },
        {
          "name": "stderr",
          "output_type": "stream",
          "text": [
            "Epoch 5 [Validation]: 100%|██████████| 375/375 [00:00<00:00, 1273.87it/s]\n"
          ]
        },
        {
          "name": "stdout",
          "output_type": "stream",
          "text": [
            "Epoch 5 Validation Loss: 0.4823 | Validation Accuracy: 0.7700 | Validation Macro F1: 0.7695\n"
          ]
        },
        {
          "name": "stderr",
          "output_type": "stream",
          "text": [
            "Epoch 6 [Training]: 100%|██████████| 1125/1125 [00:02<00:00, 546.53it/s]\n"
          ]
        },
        {
          "name": "stdout",
          "output_type": "stream",
          "text": [
            "Epoch 6 Training Loss: 0.4874 | Training Accuracy: 0.7598 | Training Macro F1: 0.7592\n"
          ]
        },
        {
          "name": "stderr",
          "output_type": "stream",
          "text": [
            "Epoch 6 [Validation]: 100%|██████████| 375/375 [00:00<00:00, 1756.69it/s]\n"
          ]
        },
        {
          "name": "stdout",
          "output_type": "stream",
          "text": [
            "Epoch 6 Validation Loss: 0.4832 | Validation Accuracy: 0.7665 | Validation Macro F1: 0.7665\n"
          ]
        },
        {
          "name": "stderr",
          "output_type": "stream",
          "text": [
            "Epoch 7 [Training]: 100%|██████████| 1125/1125 [00:01<00:00, 614.72it/s]\n"
          ]
        },
        {
          "name": "stdout",
          "output_type": "stream",
          "text": [
            "Epoch 7 Training Loss: 0.4860 | Training Accuracy: 0.7612 | Training Macro F1: 0.7608\n"
          ]
        },
        {
          "name": "stderr",
          "output_type": "stream",
          "text": [
            "Epoch 7 [Validation]: 100%|██████████| 375/375 [00:00<00:00, 1802.73it/s]\n"
          ]
        },
        {
          "name": "stdout",
          "output_type": "stream",
          "text": [
            "Epoch 7 Validation Loss: 0.4798 | Validation Accuracy: 0.7678 | Validation Macro F1: 0.7673\n"
          ]
        },
        {
          "name": "stderr",
          "output_type": "stream",
          "text": [
            "Epoch 8 [Training]: 100%|██████████| 1125/1125 [00:01<00:00, 609.87it/s]\n"
          ]
        },
        {
          "name": "stdout",
          "output_type": "stream",
          "text": [
            "Epoch 8 Training Loss: 0.4848 | Training Accuracy: 0.7631 | Training Macro F1: 0.7625\n"
          ]
        },
        {
          "name": "stderr",
          "output_type": "stream",
          "text": [
            "Epoch 8 [Validation]: 100%|██████████| 375/375 [00:00<00:00, 1801.76it/s]\n"
          ]
        },
        {
          "name": "stdout",
          "output_type": "stream",
          "text": [
            "Epoch 8 Validation Loss: 0.4832 | Validation Accuracy: 0.7667 | Validation Macro F1: 0.7666\n"
          ]
        },
        {
          "name": "stderr",
          "output_type": "stream",
          "text": [
            "Epoch 9 [Training]: 100%|██████████| 1125/1125 [00:01<00:00, 601.46it/s]\n"
          ]
        },
        {
          "name": "stdout",
          "output_type": "stream",
          "text": [
            "Epoch 9 Training Loss: 0.4843 | Training Accuracy: 0.7631 | Training Macro F1: 0.7627\n"
          ]
        },
        {
          "name": "stderr",
          "output_type": "stream",
          "text": [
            "Epoch 9 [Validation]: 100%|██████████| 375/375 [00:00<00:00, 1783.07it/s]\n"
          ]
        },
        {
          "name": "stdout",
          "output_type": "stream",
          "text": [
            "Epoch 9 Validation Loss: 0.4785 | Validation Accuracy: 0.7715 | Validation Macro F1: 0.7708\n"
          ]
        },
        {
          "name": "stderr",
          "output_type": "stream",
          "text": [
            "Epoch 10 [Training]: 100%|██████████| 1125/1125 [00:01<00:00, 618.36it/s]\n"
          ]
        },
        {
          "name": "stdout",
          "output_type": "stream",
          "text": [
            "Epoch 10 Training Loss: 0.4835 | Training Accuracy: 0.7612 | Training Macro F1: 0.7607\n"
          ]
        },
        {
          "name": "stderr",
          "output_type": "stream",
          "text": [
            "Epoch 10 [Validation]: 100%|██████████| 375/375 [00:00<00:00, 1715.49it/s]\n"
          ]
        },
        {
          "name": "stdout",
          "output_type": "stream",
          "text": [
            "Epoch 10 Validation Loss: 0.4810 | Validation Accuracy: 0.7693 | Validation Macro F1: 0.7691\n"
          ]
        },
        {
          "name": "stderr",
          "output_type": "stream",
          "text": [
            "Epoch 11 [Training]: 100%|██████████| 1125/1125 [00:02<00:00, 523.95it/s]\n"
          ]
        },
        {
          "name": "stdout",
          "output_type": "stream",
          "text": [
            "Epoch 11 Training Loss: 0.4831 | Training Accuracy: 0.7641 | Training Macro F1: 0.7636\n"
          ]
        },
        {
          "name": "stderr",
          "output_type": "stream",
          "text": [
            "Epoch 11 [Validation]: 100%|██████████| 375/375 [00:00<00:00, 1294.75it/s]\n"
          ]
        },
        {
          "name": "stdout",
          "output_type": "stream",
          "text": [
            "Epoch 11 Validation Loss: 0.4801 | Validation Accuracy: 0.7697 | Validation Macro F1: 0.7692\n"
          ]
        },
        {
          "name": "stderr",
          "output_type": "stream",
          "text": [
            "Epoch 12 [Training]: 100%|██████████| 1125/1125 [00:02<00:00, 556.37it/s]\n"
          ]
        },
        {
          "name": "stdout",
          "output_type": "stream",
          "text": [
            "Epoch 12 Training Loss: 0.4823 | Training Accuracy: 0.7623 | Training Macro F1: 0.7618\n"
          ]
        },
        {
          "name": "stderr",
          "output_type": "stream",
          "text": [
            "Epoch 12 [Validation]: 100%|██████████| 375/375 [00:00<00:00, 1660.23it/s]\n"
          ]
        },
        {
          "name": "stdout",
          "output_type": "stream",
          "text": [
            "Epoch 12 Validation Loss: 0.4804 | Validation Accuracy: 0.7667 | Validation Macro F1: 0.7659\n"
          ]
        },
        {
          "name": "stderr",
          "output_type": "stream",
          "text": [
            "Epoch 13 [Training]: 100%|██████████| 1125/1125 [00:01<00:00, 627.05it/s]\n"
          ]
        },
        {
          "name": "stdout",
          "output_type": "stream",
          "text": [
            "Epoch 13 Training Loss: 0.4815 | Training Accuracy: 0.7648 | Training Macro F1: 0.7643\n"
          ]
        },
        {
          "name": "stderr",
          "output_type": "stream",
          "text": [
            "Epoch 13 [Validation]: 100%|██████████| 375/375 [00:00<00:00, 1683.06it/s]\n"
          ]
        },
        {
          "name": "stdout",
          "output_type": "stream",
          "text": [
            "Epoch 13 Validation Loss: 0.4789 | Validation Accuracy: 0.7708 | Validation Macro F1: 0.7707\n"
          ]
        },
        {
          "name": "stderr",
          "output_type": "stream",
          "text": [
            "Epoch 14 [Training]: 100%|██████████| 1125/1125 [00:01<00:00, 628.40it/s]\n"
          ]
        },
        {
          "name": "stdout",
          "output_type": "stream",
          "text": [
            "Epoch 14 Training Loss: 0.4809 | Training Accuracy: 0.7636 | Training Macro F1: 0.7631\n"
          ]
        },
        {
          "name": "stderr",
          "output_type": "stream",
          "text": [
            "Epoch 14 [Validation]: 100%|██████████| 375/375 [00:00<00:00, 1651.05it/s]\n"
          ]
        },
        {
          "name": "stdout",
          "output_type": "stream",
          "text": [
            "Epoch 14 Validation Loss: 0.4774 | Validation Accuracy: 0.7715 | Validation Macro F1: 0.7712\n"
          ]
        },
        {
          "name": "stderr",
          "output_type": "stream",
          "text": [
            "Epoch 15 [Training]: 100%|██████████| 1125/1125 [00:01<00:00, 626.90it/s]\n"
          ]
        },
        {
          "name": "stdout",
          "output_type": "stream",
          "text": [
            "Epoch 15 Training Loss: 0.4809 | Training Accuracy: 0.7642 | Training Macro F1: 0.7637\n"
          ]
        },
        {
          "name": "stderr",
          "output_type": "stream",
          "text": [
            "Epoch 15 [Validation]: 100%|██████████| 375/375 [00:00<00:00, 1603.90it/s]\n"
          ]
        },
        {
          "name": "stdout",
          "output_type": "stream",
          "text": [
            "Epoch 15 Validation Loss: 0.4768 | Validation Accuracy: 0.7713 | Validation Macro F1: 0.7710\n"
          ]
        },
        {
          "name": "stderr",
          "output_type": "stream",
          "text": [
            "Epoch 16 [Training]: 100%|██████████| 1125/1125 [00:01<00:00, 630.32it/s]\n"
          ]
        },
        {
          "name": "stdout",
          "output_type": "stream",
          "text": [
            "Epoch 16 Training Loss: 0.4802 | Training Accuracy: 0.7645 | Training Macro F1: 0.7640\n"
          ]
        },
        {
          "name": "stderr",
          "output_type": "stream",
          "text": [
            "Epoch 16 [Validation]: 100%|██████████| 375/375 [00:00<00:00, 1702.25it/s]\n"
          ]
        },
        {
          "name": "stdout",
          "output_type": "stream",
          "text": [
            "Epoch 16 Validation Loss: 0.4768 | Validation Accuracy: 0.7695 | Validation Macro F1: 0.7692\n"
          ]
        },
        {
          "name": "stderr",
          "output_type": "stream",
          "text": [
            "Epoch 17 [Training]: 100%|██████████| 1125/1125 [00:02<00:00, 517.72it/s]\n"
          ]
        },
        {
          "name": "stdout",
          "output_type": "stream",
          "text": [
            "Epoch 17 Training Loss: 0.4797 | Training Accuracy: 0.7644 | Training Macro F1: 0.7639\n"
          ]
        },
        {
          "name": "stderr",
          "output_type": "stream",
          "text": [
            "Epoch 17 [Validation]: 100%|██████████| 375/375 [00:00<00:00, 1274.86it/s]\n"
          ]
        },
        {
          "name": "stdout",
          "output_type": "stream",
          "text": [
            "Epoch 17 Validation Loss: 0.4764 | Validation Accuracy: 0.7692 | Validation Macro F1: 0.7688\n"
          ]
        },
        {
          "name": "stderr",
          "output_type": "stream",
          "text": [
            "Epoch 18 [Training]: 100%|██████████| 1125/1125 [00:02<00:00, 556.96it/s]\n"
          ]
        },
        {
          "name": "stdout",
          "output_type": "stream",
          "text": [
            "Epoch 18 Training Loss: 0.4794 | Training Accuracy: 0.7663 | Training Macro F1: 0.7658\n"
          ]
        },
        {
          "name": "stderr",
          "output_type": "stream",
          "text": [
            "Epoch 18 [Validation]: 100%|██████████| 375/375 [00:00<00:00, 1794.55it/s]\n"
          ]
        },
        {
          "name": "stdout",
          "output_type": "stream",
          "text": [
            "Epoch 18 Validation Loss: 0.4763 | Validation Accuracy: 0.7692 | Validation Macro F1: 0.7688\n"
          ]
        },
        {
          "name": "stderr",
          "output_type": "stream",
          "text": [
            "Epoch 19 [Training]: 100%|██████████| 1125/1125 [00:01<00:00, 619.08it/s]\n"
          ]
        },
        {
          "name": "stdout",
          "output_type": "stream",
          "text": [
            "Epoch 19 Training Loss: 0.4790 | Training Accuracy: 0.7658 | Training Macro F1: 0.7653\n"
          ]
        },
        {
          "name": "stderr",
          "output_type": "stream",
          "text": [
            "Epoch 19 [Validation]: 100%|██████████| 375/375 [00:00<00:00, 1744.79it/s]\n"
          ]
        },
        {
          "name": "stdout",
          "output_type": "stream",
          "text": [
            "Epoch 19 Validation Loss: 0.4763 | Validation Accuracy: 0.7697 | Validation Macro F1: 0.7692\n"
          ]
        },
        {
          "name": "stderr",
          "output_type": "stream",
          "text": [
            "Epoch 20 [Training]: 100%|██████████| 1125/1125 [00:01<00:00, 630.31it/s]\n"
          ]
        },
        {
          "name": "stdout",
          "output_type": "stream",
          "text": [
            "Epoch 20 Training Loss: 0.4787 | Training Accuracy: 0.7654 | Training Macro F1: 0.7649\n"
          ]
        },
        {
          "name": "stderr",
          "output_type": "stream",
          "text": [
            "Epoch 20 [Validation]: 100%|██████████| 375/375 [00:00<00:00, 1753.46it/s]"
          ]
        },
        {
          "name": "stdout",
          "output_type": "stream",
          "text": [
            "Epoch 20 Validation Loss: 0.4763 | Validation Accuracy: 0.7702 | Validation Macro F1: 0.7697\n"
          ]
        },
        {
          "name": "stderr",
          "output_type": "stream",
          "text": [
            "\n"
          ]
        }
      ],
      "source": [
        "# 전체 데이터를 {NUM_EPOCHS}회 순회하며 학습\n",
        "for epoch in range(NUM_EPOCHS):\n",
        "\n",
        "    ### 학습 과정(train)\n",
        "\n",
        "    # 모델을 학습 모드로 전환\n",
        "    model.train()\n",
        "\n",
        "    train_loss = 0\n",
        "    train_labels = []\n",
        "    train_preds = []\n",
        "\n",
        "    # 배치 단위로 학습 수행\n",
        "    for batch in tqdm(train_loader, desc=f\"Epoch {epoch + 1} [Training]\"):\n",
        "\n",
        "        # 1. 입력을 GPU에 전달\n",
        "        inputs = batch['input'].to(device)\n",
        "        labels = batch['label'].to(device)\n",
        "\n",
        "        # 2. gradient 초기화\n",
        "        optimizer.zero_grad()\n",
        "\n",
        "        # 3. forward pass\n",
        "        outputs = model(inputs)\n",
        "\n",
        "        # 4. 예측값 집계\n",
        "        preds = torch.argmax(outputs, dim=1)\n",
        "\n",
        "        # 5. 손실 집계\n",
        "        loss = criterion(outputs, labels)\n",
        "        train_loss += loss.item()\n",
        "        train_labels.extend(labels.cpu().numpy())\n",
        "        train_preds.extend(preds.cpu().numpy())\n",
        "\n",
        "        # 6. 모델 파라미터 갱신(backward pass; back propagation)\n",
        "        loss.backward()\n",
        "        optimizer.step()\n",
        "        lr_scheduler.step()\n",
        "\n",
        "    ### 학습 단계에서의 손실 및 metric 계산\n",
        "    avg_train_loss = train_loss / len(train_loader)\n",
        "    train_accuracy = accuracy_score(train_labels, train_preds)\n",
        "    train_f1 = f1_score(train_labels, train_preds, average='macro')\n",
        "    print(\n",
        "        f\"Epoch {epoch + 1} \"\n",
        "        f\"Training Loss: {avg_train_loss:.4f} | \"\n",
        "        f\"Training Accuracy: {train_accuracy:.4f} | \"\n",
        "        f\"Training Macro F1: {train_f1:.4f}\"\n",
        "    )\n",
        "\n",
        "    ### 검증 과정(validation)\n",
        "\n",
        "    # 모델을 검증/평가/추론 모드로 전환\n",
        "    model.eval()\n",
        "\n",
        "    val_loss = 0\n",
        "    val_labels = []\n",
        "    val_preds = []\n",
        "\n",
        "    with torch.no_grad():       # 검증 과정에서는 gradient 연산을 생략(torch.no_grad())하여 연산량 및 오버헤드를 줄임\n",
        "\n",
        "        # 배치 단위로 검증 수행\n",
        "        for batch in tqdm(val_loader, desc=f\"Epoch {epoch + 1} [Validation]\"):\n",
        "\n",
        "            # 1. 입력을 GPU에 전달\n",
        "            inputs = batch['input'].to(device)\n",
        "            labels = batch['label'].to(device)\n",
        "\n",
        "            # 2. forward pass\n",
        "            outputs = model(inputs)\n",
        "\n",
        "            # 3. 예측값 집계\n",
        "            preds = torch.argmax(outputs, dim=1)\n",
        "\n",
        "            # 4. 손실 집계\n",
        "            loss = criterion(outputs, labels)\n",
        "            val_loss += loss.item()\n",
        "            val_labels.extend(labels.cpu().numpy())\n",
        "            val_preds.extend(preds.cpu().numpy())\n",
        "\n",
        "    ### 검증 단계에서의 손실 및 metric 계산\n",
        "    avg_val_loss = val_loss / len(val_loader)\n",
        "    val_accuracy = accuracy_score(val_labels, val_preds)\n",
        "    val_f1 = f1_score(val_labels, val_preds, average='macro')\n",
        "    print(\n",
        "        f\"Epoch {epoch + 1} \"\n",
        "        f\"Validation Loss: {avg_val_loss:.4f} | \"\n",
        "        f\"Validation Accuracy: {val_accuracy:.4f} | \"\n",
        "        f\"Validation Macro F1: {val_f1:.4f}\"\n",
        "    )\n",
        "\n",
        "# 모델 및 토크나이저 저장\n",
        "\n",
        "## 경로 설정\n",
        "timestamp = time.strftime(\"%Y%m%d-%H%M%S\")\n",
        "save_path = os.path.join(DIRECTORY, \"hate_speech\", f\"my_model_{timestamp}\")\n",
        "model_path = os.path.join(save_path, \"model\")\n",
        "tokenizer_path = os.path.join(save_path, \"tokenizer\")\n",
        "\n",
        "## 모델 저장\n",
        "\n",
        "### 디렉토리 생성\n",
        "os.makedirs(model_path, exist_ok=True)\n",
        "\n",
        "### 모델 저장\n",
        "torch.save(model.state_dict(), os.path.join(model_path, \"pytorch_model.bin\"))\n",
        "\n",
        "## 토크나이저 저장 (KoBertTokenizer는 save_pretrained()를 지원하지 않기에 직접 저장)\n",
        "## 사실 KoBertTokenizer를 그대로 써도 됨...\n",
        "\n",
        "### 디렉토리 생성\n",
        "os.makedirs(tokenizer_path, exist_ok=True)\n",
        "\n",
        "### vocab.txt 저장\n",
        "tokenizer.save_vocabulary(tokenizer_path)\n",
        "\n",
        "### config.json 저장\n",
        "with open(os.path.join(tokenizer_path, \"tokenizer_config.json\"), \"w\", encoding=\"utf-8\") as f:\n",
        "    import json\n",
        "    json.dump({\n",
        "        \"do_lower_case\": False,\n",
        "        \"unk_token\": \"[UNK]\",\n",
        "        \"sep_token\": \"[SEP]\",\n",
        "        \"pad_token\": \"[PAD]\",\n",
        "        \"cls_token\": \"[CLS]\",\n",
        "        \"mask_token\": \"[MASK]\"\n",
        "    }, f, indent=4)"
      ]
    },
    {
      "cell_type": "markdown",
      "metadata": {
        "id": "l975WUh8NxzR"
      },
      "source": [
        "## Evaluation"
      ]
    },
    {
      "cell_type": "code",
      "execution_count": 23,
      "metadata": {
        "id": "SQ1UHvkQ6x17"
      },
      "outputs": [],
      "source": [
        "# Label dictionary\n",
        "LABEL_2_ID = {\n",
        "    0: 0,\n",
        "    1: 1,\n",
        "}\n",
        "ID_2_LABEL = {value: key for key, value in LABEL_2_ID.items()}"
      ]
    },
    {
      "cell_type": "markdown",
      "metadata": {
        "id": "OdyonAMl71Y-"
      },
      "source": [
        "### Load Pre-trained Model"
      ]
    },
    {
      "cell_type": "code",
      "execution_count": 34,
      "metadata": {
        "colab": {
          "base_uri": "https://localhost:8080/"
        },
        "id": "WedTng2271hh",
        "outputId": "49815481-5202-45ae-d36f-1cc8dece4da8"
      },
      "outputs": [
        {
          "data": {
            "text/plain": [
              "MLPClassifier(\n",
              "  (fc1): Linear(in_features=7, out_features=64, bias=True)\n",
              "  (relu): ReLU()\n",
              "  (fc2): Linear(in_features=64, out_features=2, bias=True)\n",
              ")"
            ]
          },
          "execution_count": 34,
          "metadata": {},
          "output_type": "execute_result"
        }
      ],
      "source": [
        "# 기학습 모델의 경로\n",
        "# 모델 파일을 지정\n",
        "path = \"/content/drive/MyDrive/DeepLearning/hate_speech/my_model_20250626-122126/model/pytorch_model.bin\"\n",
        "\n",
        "input_size = INPUT_SIZE\n",
        "hidden_size = HIDDEN_SIZE\n",
        "num_classes = NUM_LABELS\n",
        "\n",
        "model = MLPClassifier(input_size, hidden_size, num_classes)\n",
        "model.load_state_dict(torch.load(path))\n",
        "\n",
        "model.to(device)"
      ]
    },
    {
      "cell_type": "code",
      "execution_count": 32,
      "metadata": {
        "colab": {
          "base_uri": "https://localhost:8080/"
        },
        "id": "OPtESRRTJYtU",
        "outputId": "17db5f76-8581-4b97-e76d-da3c5b734bff"
      },
      "outputs": [
        {
          "data": {
            "text/plain": [
              "DummyClassifier()"
            ]
          },
          "execution_count": 32,
          "metadata": {},
          "output_type": "execute_result"
        }
      ],
      "source": [
        "# baseline model\n",
        "# class DummyClassifier(nn.Module):\n",
        "#     def __init__(self, input_size, num_classes):\n",
        "#         super(DummyClassifier, self).__init__()\n",
        "#         self.input_size = input_size\n",
        "#         self.num_classes = num_classes\n",
        "\n",
        "#     def forward(self, x):\n",
        "#         batch_size = x.size(0)                                              # 입력 텐서의 batch size 확인\n",
        "#         device = x.device\n",
        "#         logits = torch.randn(batch_size, self.num_classes, device=device)   # 무작위 로짓 생성\n",
        "#         return logits\n",
        "\n",
        "# input_size = INPUT_SIZE\n",
        "# num_classes = NUM_LABELS\n",
        "\n",
        "# model = DummyClassifier(input_size, num_classes)\n",
        "\n",
        "# model.to(device)"
      ]
    },
    {
      "cell_type": "markdown",
      "metadata": {
        "id": "Zmcl9zOC71oq"
      },
      "source": [
        "### Evaluation"
      ]
    },
    {
      "cell_type": "code",
      "execution_count": 35,
      "metadata": {
        "colab": {
          "base_uri": "https://localhost:8080/"
        },
        "id": "r1IIKR6A-I1q",
        "outputId": "963e5152-295f-46c9-9b76-58731ce7183c"
      },
      "outputs": [
        {
          "name": "stderr",
          "output_type": "stream",
          "text": [
            "[Test]: 100%|██████████| 375/375 [00:00<00:00, 1588.60it/s]"
          ]
        },
        {
          "name": "stdout",
          "output_type": "stream",
          "text": [
            "Test Loss: 0.4873 | Test Accuracy: 0.7555 | Test Macro F1: 0.7549\n",
            "              precision    recall  f1-score   support\n",
            "\n",
            "           0       0.73      0.81      0.77      2982\n",
            "           1       0.79      0.70      0.74      3018\n",
            "\n",
            "    accuracy                           0.76      6000\n",
            "   macro avg       0.76      0.76      0.75      6000\n",
            "weighted avg       0.76      0.76      0.75      6000\n",
            "\n"
          ]
        },
        {
          "name": "stderr",
          "output_type": "stream",
          "text": [
            "\n"
          ]
        }
      ],
      "source": [
        "model.eval()  # 모델을 검증/평가/추론 모드로 전환\n",
        "\n",
        "# 테스트\n",
        "test_loss = 0.0\n",
        "test_labels = []\n",
        "test_preds = []\n",
        "\n",
        "with torch.no_grad():  # gradient 계산 비활성화\n",
        "    for batch in tqdm(test_loader, desc=\"[Test]\"):\n",
        "\n",
        "        # 입력을 GPU로 전달\n",
        "        inputs = batch['input'].to(device)\n",
        "        labels = batch['label'].to(device)\n",
        "\n",
        "        # forward pass\n",
        "        outputs = model(inputs)\n",
        "\n",
        "        # 예측값 집계\n",
        "        preds = torch.argmax(outputs, dim=1)\n",
        "\n",
        "        # 손실 집계\n",
        "        loss = criterion(outputs, labels)\n",
        "        test_loss += loss.item()\n",
        "        test_labels.extend(labels.cpu().numpy())\n",
        "        test_preds.extend(preds.cpu().numpy())\n",
        "\n",
        "# metric 계산\n",
        "avg_test_loss = test_loss / len(test_loader)\n",
        "test_accuracy = accuracy_score(test_labels, test_preds)\n",
        "test_f1 = f1_score(test_labels, test_preds, average=\"macro\")\n",
        "\n",
        "print(f\"Test Loss: {avg_test_loss:.4f} | \"\n",
        "      f\"Test Accuracy: {test_accuracy:.4f} | \"\n",
        "      f\"Test Macro F1: {test_f1:.4f}\")\n",
        "\n",
        "print(classification_report(test_labels, test_preds))"
      ]
    },
    {
      "cell_type": "markdown",
      "metadata": {
        "id": "H7_VYO5IN0hE"
      },
      "source": [
        "## Inference Test"
      ]
    },
    {
      "cell_type": "code",
      "execution_count": null,
      "metadata": {
        "id": "KfEbf_59BMA7"
      },
      "outputs": [],
      "source": [
        "# 텍스트 클리닝 함수 정의\n",
        "URL_PAT = re.compile(r'https?://\\S+')\n",
        "HTML_PAT = re.compile(r'<[^>]+>')\n",
        "REPEAT_PAT = re.compile(r'(.)\\1{2,}')                       # 3회 이상 연속된 글자(ㅋㅋㅋ, ㅠㅠㅠ 등) → 2회로 축약\n",
        "SPEC_PAT = re.compile(r'[^ㄱ-ㅎ가-힣a-zA-Z0-9\\s\\.\\,\\!\\?]+') # 허용 문자: 한글, 영문, 숫자, 공백, 주요 punctuation\n",
        "MULTI_SP = re.compile(r'\\s+')\n",
        "\n",
        "def clean_text(text):\n",
        "    text = html.unescape(text)                          # &quot; → \"\n",
        "    text = URL_PAT.sub(' URL ', text)                   # URL 토큰화\n",
        "    text = HTML_PAT.sub(' ', text)                      # HTML tag 제거\n",
        "    text = emoji.demojize(text, delimiters=(' ', ' '))  # 😀 → :grinning_face:\n",
        "    text = REPEAT_PAT.sub(r'\\1\\1', text)                # ㅋㅋㅋㅋ → ㅋㅋ\n",
        "    text = SPEC_PAT.sub(' ', text)                      # 특수문자 제거\n",
        "    text = unicodedata.normalize('NFKC', text)          # Unicode 정규화\n",
        "    text = MULTI_SP.sub(' ', text).strip()              # 다중 공백 정규화\n",
        "    return text"
      ]
    },
    {
      "cell_type": "code",
      "execution_count": null,
      "metadata": {
        "id": "xaiwvG2ZD25j"
      },
      "outputs": [],
      "source": [
        "# MLP 모델 정의\n",
        "class MLPClassifier(nn.Module):\n",
        "    def __init__(self, input_size, hidden_size, num_classes):\n",
        "        super(MLPClassifier, self).__init__()\n",
        "        self.fc1 = nn.Linear(input_size, hidden_size)\n",
        "        self.relu = nn.ReLU()\n",
        "        self.fc2 = nn.Linear(hidden_size, num_classes)\n",
        "\n",
        "    def forward(self, x):\n",
        "        x = self.fc1(x)\n",
        "        x = self.relu(x)\n",
        "        x = self.fc2(x)\n",
        "        return x  # 로짓 출력"
      ]
    },
    {
      "cell_type": "code",
      "execution_count": null,
      "metadata": {
        "colab": {
          "base_uri": "https://localhost:8080/"
        },
        "id": "1-ODTw64N8bN",
        "outputId": "41a69699-8402-403f-ecd8-58fd78fc8f98"
      },
      "outputs": [
        {
          "name": "stdout",
          "output_type": "stream",
          "text": [
            "입력 텍스트: 좋은 아침이에요!\n",
            "감정 벡터: [-1.571, -0.331, -1.078, -0.146, 0.735, 4.941, -1.237]\n",
            "혐오 표현 여부 벡터: [0.284, -0.859]\n",
            "혐오 표현이 아닙니다.\n",
            "\n",
            "입력 텍스트: 검둥이들은 다 죽여버려야해\n",
            "감정 벡터: [-0.488, -0.683, 3.154, -0.448, 0.485, -1.693, -0.102]\n",
            "혐오 표현 여부 벡터: [-0.918, 0.915]\n",
            "혐오 표현입니다.\n",
            "\n",
            "입력 텍스트: 불 좀 꺼줄래?\n",
            "감정 벡터: [0.83, 0.569, 0.865, -0.164, 1.361, -2.503, -0.959]\n",
            "혐오 표현 여부 벡터: [-0.125, -0.199]\n",
            "혐오 표현이 아닙니다.\n",
            "\n",
            "입력 텍스트: 야 이 반란군노무 쉐키야\n",
            "감정 벡터: [-1.191, 0.922, 1.423, -1.636, 1.541, -0.552, -0.069]\n",
            "혐오 표현 여부 벡터: [-0.713, 0.967]\n",
            "혐오 표현입니다.\n",
            "\n"
          ]
        }
      ],
      "source": [
        "### Sentiment Analysis\n",
        "\n",
        "# 입력 텍스트\n",
        "text = [\n",
        "    \"좋은 아침이에요!\",             # 혐오 표현 아님\n",
        "    \"검둥이들은 다 죽여버려야해\",   # 혐오 표현\n",
        "    \"불 좀 꺼줄래?\",                # \"신\"\n",
        "    \"야 이 반란군노무 쉐키야\"       # 혐오 표현\n",
        "]\n",
        "\n",
        "# 텍스트 전처리\n",
        "preprocessed_text = [clean_text(t) for t in text]\n",
        "\n",
        "# 토크나이저 정의\n",
        "MODEL_NAME = \"UICHEOL-HWANG/kobert\"\n",
        "tokenizer = AutoTokenizer.from_pretrained(MODEL_NAME, trust_remote_code=True)\n",
        "\n",
        "# 텍스트 토큰화\n",
        "tokenized_text = tokenizer(\n",
        "    preprocessed_text,\n",
        "    padding=\"max_length\",\n",
        "    truncation=True,\n",
        "    max_length=128,\n",
        "    return_tensors=\"pt\"\n",
        ")\n",
        "\n",
        "# 모델 정의 및 초기화\n",
        "path = \"/content/drive/MyDrive/DeepLearning/sentiment/UICHEOL-HWANG_kobert_20250621-093152\"\n",
        "\n",
        "config = AutoConfig.from_pretrained(\n",
        "    os.path.join(path, \"model\")\n",
        ")\n",
        "\n",
        "model = AutoModelForSequenceClassification.from_pretrained(\n",
        "    os.path.join(path, \"model\"),\n",
        "    config=config,\n",
        "    ignore_mismatched_sizes=True\n",
        ")\n",
        "\n",
        "# 모델을 GPU에 전달\n",
        "model.to(device)\n",
        "\n",
        "# 모델을 검증/평가/추론 모드로 전환\n",
        "model.eval()\n",
        "\n",
        "# 추론\n",
        "with torch.no_grad():\n",
        "\n",
        "    # 입력을 GPU에 전달\n",
        "    inputs = {\n",
        "        \"input_ids\": tokenized_text[\"input_ids\"].to(device),\n",
        "        \"attention_mask\": tokenized_text[\"attention_mask\"].to(device)\n",
        "    }\n",
        "\n",
        "    # 추론\n",
        "    outputs = model(**inputs)\n",
        "\n",
        "    # 감정 벡터 반환\n",
        "    logits = outputs.logits\n",
        "\n",
        "### Hate Speech Detection\n",
        "\n",
        "# 모델 정의 및 초기화\n",
        "INPUT_SIZE = logits.size(1)\n",
        "NUM_LABELS = 2\n",
        "HIDDEN_SIZE = 64\n",
        "\n",
        "input_size = INPUT_SIZE\n",
        "hidden_size = HIDDEN_SIZE\n",
        "num_classes = NUM_LABELS\n",
        "path = \"/content/drive/MyDrive/DeepLearning/hate_speech/UICHEOL-HWANG_kobert_20250621-155603/model/pytorch_model.bin\"\n",
        "\n",
        "model = MLPClassifier(input_size, hidden_size, num_classes)\n",
        "model.load_state_dict(torch.load(path))\n",
        "\n",
        "# 모델을 GPU에 전달\n",
        "model.to(device)\n",
        "\n",
        "# 모델을 검증/평가/추론 모드로 전환\n",
        "model.eval()\n",
        "\n",
        "with torch.no_grad():\n",
        "\n",
        "    # 입력을 GPU에 전달\n",
        "    inputs = logits.to(device)\n",
        "\n",
        "    # 추론\n",
        "    outputs = model(inputs)\n",
        "\n",
        "    # 예측값 집계\n",
        "    preds = torch.argmax(outputs, dim=1)\n",
        "\n",
        "for text, logit, output, label in zip(text, logits, outputs, preds):\n",
        "    print(f\"입력 텍스트: {text}\")\n",
        "    print(f\"감정 벡터: {[round(num.item(), 3) for num in logit.cpu().numpy()]}\")\n",
        "    print(f\"혐오 표현 여부 벡터: {[round(num.item(), 3) for num in output.cpu().numpy()]}\")\n",
        "    if label == 1: print(\"혐오 표현입니다.\")\n",
        "    else: print(\"혐오 표현이 아닙니다.\")\n",
        "    print()"
      ]
    },
    {
      "cell_type": "code",
      "execution_count": null,
      "metadata": {
        "colab": {
          "base_uri": "https://localhost:8080/"
        },
        "id": "q3oAaL1UCkeG",
        "outputId": "61c8cf67-e9e4-4b9c-c408-d0777af59752"
      },
      "outputs": [
        {
          "name": "stdout",
          "output_type": "stream",
          "text": [
            "$FINISH\n"
          ]
        }
      ],
      "source": [
        "print(\"$FINISH\")"
      ]
    },
    {
      "cell_type": "markdown",
      "metadata": {
        "id": "gsqd0SClqEq2"
      },
      "source": [
        "# Legacy"
      ]
    },
    {
      "cell_type": "code",
      "execution_count": null,
      "metadata": {
        "colab": {
          "base_uri": "https://localhost:8080/"
        },
        "id": "XAa_8322Tz8b",
        "outputId": "b6493d34-6f8c-40f3-fd56-21fbafc112a3"
      },
      "outputs": [
        {
          "name": "stdout",
          "output_type": "stream",
          "text": [
            "The repository `monologg/kobert` contains custom code which must be executed to correctly load the model. You can inspect the repository content at https://hf.co/monologg/kobert.\n",
            "You can avoid this prompt in future by passing the argument `trust_remote_code=True`.\n",
            "\n",
            "Do you wish to run the custom code? [y/N] y\n",
            "Input: 오늘 너무 행복해!\n",
            "Predicted Label: 기쁨\n",
            "\n",
            "Input: 진짜 짜증나고 화난다.\n",
            "Predicted Label: 분노\n",
            "\n",
            "Input: 이게 무서워서 못하겠어.\n",
            "Predicted Label: 공포\n",
            "\n",
            "Input: 별 감정이 없어요.\n",
            "Predicted Label: 슬픔\n",
            "\n",
            "Input: 충격적인 뉴스였어.\n",
            "Predicted Label: 놀람\n",
            "\n"
          ]
        }
      ],
      "source": [
        "# UICHEOL-HWANG/kobert sample code\n",
        "import torch\n",
        "from transformers import AutoTokenizer, AutoModelForSequenceClassification\n",
        "tokenizer = AutoTokenizer.from_pretrained(\"monologg/kobert\")\n",
        "model = AutoModelForSequenceClassification.from_pretrained(\"UICHEOL-HWANG/kobert\")\n",
        "\n",
        "model.to(device)  # 모델을 디바이스로 이동\n",
        "model.eval()\n",
        "\n",
        "id2label = {\n",
        "    0: \"공포\",   # Fear\n",
        "    1: \"놀람\",   # Surprise\n",
        "    2: \"분노\",   # Anger\n",
        "    3: \"슬픔\",   # Sadness\n",
        "    4: \"중립\",   # Neutral\n",
        "    5: \"행복\",   # Joy\n",
        "    6: \"혐오\"    # Disgust\n",
        "}\n",
        "\n",
        "texts = [\n",
        "    \"오늘 너무 행복해!\",\n",
        "    \"진짜 짜증나고 화난다.\",\n",
        "    \"이게 무서워서 못하겠어.\",\n",
        "    \"별 감정이 없어요.\",\n",
        "    \"충격적인 뉴스였어.\"\n",
        "]\n",
        "\n",
        "\n",
        "def preprocess_and_tokenize(texts, tokenizer, max_length=128):\n",
        "    inputs = tokenizer(\n",
        "        texts,\n",
        "        padding=True,  # 배치 크기에 맞게 패딩\n",
        "        truncation=True,  # 최대 길이 초과 시 자름\n",
        "        max_length=max_length,\n",
        "        return_tensors=\"pt\",  # PyTorch 텐서 반환\n",
        "    )\n",
        "    return inputs\n",
        "\n",
        "inputs = preprocess_and_tokenize(texts, tokenizer)\n",
        "\n",
        "# 입력 데이터를 GPU로 이동\n",
        "inputs = {key: val.to(device) for key, val in inputs.items()}\n",
        "\n",
        "# 4. 인퍼런스 수행\n",
        "with torch.no_grad():\n",
        "    outputs = model(**inputs)\n",
        "    logits = outputs.logits\n",
        "    predictions = torch.argmax(logits, dim=-1).cpu().numpy()\n",
        "\n",
        "\n",
        "# 예측 결과 매핑\n",
        "predicted_labels = [id2label[pred] for pred in predictions]\n",
        "\n",
        "# 6. 결과 출력\n",
        "for text, label in zip(texts, predicted_labels):\n",
        "    print(f\"Input: {text}\")\n",
        "    print(f\"Predicted Label: {label}\\n\")"
      ]
    }
  ],
  "metadata": {
    "accelerator": "GPU",
    "colab": {
      "collapsed_sections": [
        "zl0HOW1cLDzZ",
        "gsqd0SClqEq2"
      ],
      "gpuType": "T4",
      "provenance": []
    },
    "kernelspec": {
      "display_name": "Python 3",
      "name": "python3"
    },
    "language_info": {
      "name": "python"
    },
    "widgets": {
      "application/vnd.jupyter.widget-state+json": {
        "08e06e7a204d4d028dcfc47119eecc26": {
          "model_module": "@jupyter-widgets/controls",
          "model_module_version": "1.5.0",
          "model_name": "HBoxModel",
          "state": {
            "_dom_classes": [],
            "_model_module": "@jupyter-widgets/controls",
            "_model_module_version": "1.5.0",
            "_model_name": "HBoxModel",
            "_view_count": null,
            "_view_module": "@jupyter-widgets/controls",
            "_view_module_version": "1.5.0",
            "_view_name": "HBoxView",
            "box_style": "",
            "children": [
              "IPY_MODEL_fc359db8ac6d49c3809e022253c06f82",
              "IPY_MODEL_e629bbec0721426f82acf1ce0a2fd2c7",
              "IPY_MODEL_5514132ca5b94a4fa1a45e877d6cc8e0"
            ],
            "layout": "IPY_MODEL_84829c0dadf14d78bbac708186563437"
          }
        },
        "096323b734264cacabe44526da3ba55c": {
          "model_module": "@jupyter-widgets/controls",
          "model_module_version": "1.5.0",
          "model_name": "FloatProgressModel",
          "state": {
            "_dom_classes": [],
            "_model_module": "@jupyter-widgets/controls",
            "_model_module_version": "1.5.0",
            "_model_name": "FloatProgressModel",
            "_view_count": null,
            "_view_module": "@jupyter-widgets/controls",
            "_view_module_version": "1.5.0",
            "_view_name": "ProgressView",
            "bar_style": "success",
            "description": "",
            "description_tooltip": null,
            "layout": "IPY_MODEL_4560aff5047548ba819d5c6b89f52391",
            "max": 1,
            "min": 0,
            "orientation": "horizontal",
            "style": "IPY_MODEL_f88ef7dd60a5469f8221f7c2bfc690e1",
            "value": 1
          }
        },
        "09a4b4cbb341462a898fd5bd792c4ff4": {
          "model_module": "@jupyter-widgets/base",
          "model_module_version": "1.2.0",
          "model_name": "LayoutModel",
          "state": {
            "_model_module": "@jupyter-widgets/base",
            "_model_module_version": "1.2.0",
            "_model_name": "LayoutModel",
            "_view_count": null,
            "_view_module": "@jupyter-widgets/base",
            "_view_module_version": "1.2.0",
            "_view_name": "LayoutView",
            "align_content": null,
            "align_items": null,
            "align_self": null,
            "border": null,
            "bottom": null,
            "display": null,
            "flex": null,
            "flex_flow": null,
            "grid_area": null,
            "grid_auto_columns": null,
            "grid_auto_flow": null,
            "grid_auto_rows": null,
            "grid_column": null,
            "grid_gap": null,
            "grid_row": null,
            "grid_template_areas": null,
            "grid_template_columns": null,
            "grid_template_rows": null,
            "height": null,
            "justify_content": null,
            "justify_items": null,
            "left": null,
            "margin": null,
            "max_height": null,
            "max_width": null,
            "min_height": null,
            "min_width": null,
            "object_fit": null,
            "object_position": null,
            "order": null,
            "overflow": null,
            "overflow_x": null,
            "overflow_y": null,
            "padding": null,
            "right": null,
            "top": null,
            "visibility": null,
            "width": null
          }
        },
        "0de9c42a17cb49e9b64d384aff4c82f0": {
          "model_module": "@jupyter-widgets/base",
          "model_module_version": "1.2.0",
          "model_name": "LayoutModel",
          "state": {
            "_model_module": "@jupyter-widgets/base",
            "_model_module_version": "1.2.0",
            "_model_name": "LayoutModel",
            "_view_count": null,
            "_view_module": "@jupyter-widgets/base",
            "_view_module_version": "1.2.0",
            "_view_name": "LayoutView",
            "align_content": null,
            "align_items": null,
            "align_self": null,
            "border": null,
            "bottom": null,
            "display": null,
            "flex": null,
            "flex_flow": null,
            "grid_area": null,
            "grid_auto_columns": null,
            "grid_auto_flow": null,
            "grid_auto_rows": null,
            "grid_column": null,
            "grid_gap": null,
            "grid_row": null,
            "grid_template_areas": null,
            "grid_template_columns": null,
            "grid_template_rows": null,
            "height": null,
            "justify_content": null,
            "justify_items": null,
            "left": null,
            "margin": null,
            "max_height": null,
            "max_width": null,
            "min_height": null,
            "min_width": null,
            "object_fit": null,
            "object_position": null,
            "order": null,
            "overflow": null,
            "overflow_x": null,
            "overflow_y": null,
            "padding": null,
            "right": null,
            "top": null,
            "visibility": null,
            "width": null
          }
        },
        "12940c90a802432dadc28cb4e0ba9515": {
          "model_module": "@jupyter-widgets/base",
          "model_module_version": "1.2.0",
          "model_name": "LayoutModel",
          "state": {
            "_model_module": "@jupyter-widgets/base",
            "_model_module_version": "1.2.0",
            "_model_name": "LayoutModel",
            "_view_count": null,
            "_view_module": "@jupyter-widgets/base",
            "_view_module_version": "1.2.0",
            "_view_name": "LayoutView",
            "align_content": null,
            "align_items": null,
            "align_self": null,
            "border": null,
            "bottom": null,
            "display": null,
            "flex": null,
            "flex_flow": null,
            "grid_area": null,
            "grid_auto_columns": null,
            "grid_auto_flow": null,
            "grid_auto_rows": null,
            "grid_column": null,
            "grid_gap": null,
            "grid_row": null,
            "grid_template_areas": null,
            "grid_template_columns": null,
            "grid_template_rows": null,
            "height": null,
            "justify_content": null,
            "justify_items": null,
            "left": null,
            "margin": null,
            "max_height": null,
            "max_width": null,
            "min_height": null,
            "min_width": null,
            "object_fit": null,
            "object_position": null,
            "order": null,
            "overflow": null,
            "overflow_x": null,
            "overflow_y": null,
            "padding": null,
            "right": null,
            "top": null,
            "visibility": null,
            "width": null
          }
        },
        "1a49a6a80d5a4759956032032da2c141": {
          "model_module": "@jupyter-widgets/controls",
          "model_module_version": "1.5.0",
          "model_name": "DescriptionStyleModel",
          "state": {
            "_model_module": "@jupyter-widgets/controls",
            "_model_module_version": "1.5.0",
            "_model_name": "DescriptionStyleModel",
            "_view_count": null,
            "_view_module": "@jupyter-widgets/base",
            "_view_module_version": "1.2.0",
            "_view_name": "StyleView",
            "description_width": ""
          }
        },
        "34bb088ff3e14b6b98de001ecb990121": {
          "model_module": "@jupyter-widgets/base",
          "model_module_version": "1.2.0",
          "model_name": "LayoutModel",
          "state": {
            "_model_module": "@jupyter-widgets/base",
            "_model_module_version": "1.2.0",
            "_model_name": "LayoutModel",
            "_view_count": null,
            "_view_module": "@jupyter-widgets/base",
            "_view_module_version": "1.2.0",
            "_view_name": "LayoutView",
            "align_content": null,
            "align_items": null,
            "align_self": null,
            "border": null,
            "bottom": null,
            "display": null,
            "flex": null,
            "flex_flow": null,
            "grid_area": null,
            "grid_auto_columns": null,
            "grid_auto_flow": null,
            "grid_auto_rows": null,
            "grid_column": null,
            "grid_gap": null,
            "grid_row": null,
            "grid_template_areas": null,
            "grid_template_columns": null,
            "grid_template_rows": null,
            "height": null,
            "justify_content": null,
            "justify_items": null,
            "left": null,
            "margin": null,
            "max_height": null,
            "max_width": null,
            "min_height": null,
            "min_width": null,
            "object_fit": null,
            "object_position": null,
            "order": null,
            "overflow": null,
            "overflow_x": null,
            "overflow_y": null,
            "padding": null,
            "right": null,
            "top": null,
            "visibility": null,
            "width": null
          }
        },
        "3c03f815d7574a7f8ccc7dfc20a45e60": {
          "model_module": "@jupyter-widgets/controls",
          "model_module_version": "1.5.0",
          "model_name": "DescriptionStyleModel",
          "state": {
            "_model_module": "@jupyter-widgets/controls",
            "_model_module_version": "1.5.0",
            "_model_name": "DescriptionStyleModel",
            "_view_count": null,
            "_view_module": "@jupyter-widgets/base",
            "_view_module_version": "1.2.0",
            "_view_name": "StyleView",
            "description_width": ""
          }
        },
        "3ddd31ce9d22467cb384e11e3f4b867f": {
          "model_module": "@jupyter-widgets/base",
          "model_module_version": "1.2.0",
          "model_name": "LayoutModel",
          "state": {
            "_model_module": "@jupyter-widgets/base",
            "_model_module_version": "1.2.0",
            "_model_name": "LayoutModel",
            "_view_count": null,
            "_view_module": "@jupyter-widgets/base",
            "_view_module_version": "1.2.0",
            "_view_name": "LayoutView",
            "align_content": null,
            "align_items": null,
            "align_self": null,
            "border": null,
            "bottom": null,
            "display": null,
            "flex": null,
            "flex_flow": null,
            "grid_area": null,
            "grid_auto_columns": null,
            "grid_auto_flow": null,
            "grid_auto_rows": null,
            "grid_column": null,
            "grid_gap": null,
            "grid_row": null,
            "grid_template_areas": null,
            "grid_template_columns": null,
            "grid_template_rows": null,
            "height": null,
            "justify_content": null,
            "justify_items": null,
            "left": null,
            "margin": null,
            "max_height": null,
            "max_width": null,
            "min_height": null,
            "min_width": null,
            "object_fit": null,
            "object_position": null,
            "order": null,
            "overflow": null,
            "overflow_x": null,
            "overflow_y": null,
            "padding": null,
            "right": null,
            "top": null,
            "visibility": null,
            "width": null
          }
        },
        "4560aff5047548ba819d5c6b89f52391": {
          "model_module": "@jupyter-widgets/base",
          "model_module_version": "1.2.0",
          "model_name": "LayoutModel",
          "state": {
            "_model_module": "@jupyter-widgets/base",
            "_model_module_version": "1.2.0",
            "_model_name": "LayoutModel",
            "_view_count": null,
            "_view_module": "@jupyter-widgets/base",
            "_view_module_version": "1.2.0",
            "_view_name": "LayoutView",
            "align_content": null,
            "align_items": null,
            "align_self": null,
            "border": null,
            "bottom": null,
            "display": null,
            "flex": null,
            "flex_flow": null,
            "grid_area": null,
            "grid_auto_columns": null,
            "grid_auto_flow": null,
            "grid_auto_rows": null,
            "grid_column": null,
            "grid_gap": null,
            "grid_row": null,
            "grid_template_areas": null,
            "grid_template_columns": null,
            "grid_template_rows": null,
            "height": null,
            "justify_content": null,
            "justify_items": null,
            "left": null,
            "margin": null,
            "max_height": null,
            "max_width": null,
            "min_height": null,
            "min_width": null,
            "object_fit": null,
            "object_position": null,
            "order": null,
            "overflow": null,
            "overflow_x": null,
            "overflow_y": null,
            "padding": null,
            "right": null,
            "top": null,
            "visibility": null,
            "width": "20px"
          }
        },
        "457149bd07514cb5923c0b17aa382bac": {
          "model_module": "@jupyter-widgets/base",
          "model_module_version": "1.2.0",
          "model_name": "LayoutModel",
          "state": {
            "_model_module": "@jupyter-widgets/base",
            "_model_module_version": "1.2.0",
            "_model_name": "LayoutModel",
            "_view_count": null,
            "_view_module": "@jupyter-widgets/base",
            "_view_module_version": "1.2.0",
            "_view_name": "LayoutView",
            "align_content": null,
            "align_items": null,
            "align_self": null,
            "border": null,
            "bottom": null,
            "display": null,
            "flex": null,
            "flex_flow": null,
            "grid_area": null,
            "grid_auto_columns": null,
            "grid_auto_flow": null,
            "grid_auto_rows": null,
            "grid_column": null,
            "grid_gap": null,
            "grid_row": null,
            "grid_template_areas": null,
            "grid_template_columns": null,
            "grid_template_rows": null,
            "height": null,
            "justify_content": null,
            "justify_items": null,
            "left": null,
            "margin": null,
            "max_height": null,
            "max_width": null,
            "min_height": null,
            "min_width": null,
            "object_fit": null,
            "object_position": null,
            "order": null,
            "overflow": null,
            "overflow_x": null,
            "overflow_y": null,
            "padding": null,
            "right": null,
            "top": null,
            "visibility": null,
            "width": null
          }
        },
        "48d99dcd29bd45499d3fc63c90b30398": {
          "model_module": "@jupyter-widgets/controls",
          "model_module_version": "1.5.0",
          "model_name": "ProgressStyleModel",
          "state": {
            "_model_module": "@jupyter-widgets/controls",
            "_model_module_version": "1.5.0",
            "_model_name": "ProgressStyleModel",
            "_view_count": null,
            "_view_module": "@jupyter-widgets/base",
            "_view_module_version": "1.2.0",
            "_view_name": "StyleView",
            "bar_color": null,
            "description_width": ""
          }
        },
        "4a4b47f8d1964925ba2e3be5bf814a23": {
          "model_module": "@jupyter-widgets/controls",
          "model_module_version": "1.5.0",
          "model_name": "DescriptionStyleModel",
          "state": {
            "_model_module": "@jupyter-widgets/controls",
            "_model_module_version": "1.5.0",
            "_model_name": "DescriptionStyleModel",
            "_view_count": null,
            "_view_module": "@jupyter-widgets/base",
            "_view_module_version": "1.2.0",
            "_view_name": "StyleView",
            "description_width": ""
          }
        },
        "4ec63e40c8114c6b895eb9b47d3fa86a": {
          "model_module": "@jupyter-widgets/controls",
          "model_module_version": "1.5.0",
          "model_name": "HTMLModel",
          "state": {
            "_dom_classes": [],
            "_model_module": "@jupyter-widgets/controls",
            "_model_module_version": "1.5.0",
            "_model_name": "HTMLModel",
            "_view_count": null,
            "_view_module": "@jupyter-widgets/controls",
            "_view_module_version": "1.5.0",
            "_view_name": "HTMLView",
            "description": "",
            "description_tooltip": null,
            "layout": "IPY_MODEL_7661a1712e3a4e35bd0bc30b09f310da",
            "placeholder": "​",
            "style": "IPY_MODEL_a62c38874ae94d829651be54184b1365",
            "value": " 1.32k/? [00:00&lt;00:00, 82.6kB/s]"
          }
        },
        "5514132ca5b94a4fa1a45e877d6cc8e0": {
          "model_module": "@jupyter-widgets/controls",
          "model_module_version": "1.5.0",
          "model_name": "HTMLModel",
          "state": {
            "_dom_classes": [],
            "_model_module": "@jupyter-widgets/controls",
            "_model_module_version": "1.5.0",
            "_model_name": "HTMLModel",
            "_view_count": null,
            "_view_module": "@jupyter-widgets/controls",
            "_view_module_version": "1.5.0",
            "_view_name": "HTMLView",
            "description": "",
            "description_tooltip": null,
            "layout": "IPY_MODEL_b9e0ee9672394224befb632cd9635ebe",
            "placeholder": "​",
            "style": "IPY_MODEL_e1b6ecdbf4cc4e2ea43c4b0539eac920",
            "value": " 10.9k/? [00:00&lt;00:00, 770kB/s]"
          }
        },
        "56ccb94613b1471aa99bcb5effe76aaf": {
          "model_module": "@jupyter-widgets/controls",
          "model_module_version": "1.5.0",
          "model_name": "HBoxModel",
          "state": {
            "_dom_classes": [],
            "_model_module": "@jupyter-widgets/controls",
            "_model_module_version": "1.5.0",
            "_model_name": "HBoxModel",
            "_view_count": null,
            "_view_module": "@jupyter-widgets/controls",
            "_view_module_version": "1.5.0",
            "_view_name": "HBoxView",
            "box_style": "",
            "children": [
              "IPY_MODEL_e7aebcf398624c2cadc83b9b3c1c3994",
              "IPY_MODEL_adbd24dfe76f4f17a4bc75a10072af73",
              "IPY_MODEL_b67c187a1fd54159a559fa536e15ab46"
            ],
            "layout": "IPY_MODEL_6692edf55d0e43078eec3a0455d118c5"
          }
        },
        "58d8ab3acea04428b4bfcbd6a695b6c9": {
          "model_module": "@jupyter-widgets/base",
          "model_module_version": "1.2.0",
          "model_name": "LayoutModel",
          "state": {
            "_model_module": "@jupyter-widgets/base",
            "_model_module_version": "1.2.0",
            "_model_name": "LayoutModel",
            "_view_count": null,
            "_view_module": "@jupyter-widgets/base",
            "_view_module_version": "1.2.0",
            "_view_name": "LayoutView",
            "align_content": null,
            "align_items": null,
            "align_self": null,
            "border": null,
            "bottom": null,
            "display": null,
            "flex": null,
            "flex_flow": null,
            "grid_area": null,
            "grid_auto_columns": null,
            "grid_auto_flow": null,
            "grid_auto_rows": null,
            "grid_column": null,
            "grid_gap": null,
            "grid_row": null,
            "grid_template_areas": null,
            "grid_template_columns": null,
            "grid_template_rows": null,
            "height": null,
            "justify_content": null,
            "justify_items": null,
            "left": null,
            "margin": null,
            "max_height": null,
            "max_width": null,
            "min_height": null,
            "min_width": null,
            "object_fit": null,
            "object_position": null,
            "order": null,
            "overflow": null,
            "overflow_x": null,
            "overflow_y": null,
            "padding": null,
            "right": null,
            "top": null,
            "visibility": null,
            "width": null
          }
        },
        "6692edf55d0e43078eec3a0455d118c5": {
          "model_module": "@jupyter-widgets/base",
          "model_module_version": "1.2.0",
          "model_name": "LayoutModel",
          "state": {
            "_model_module": "@jupyter-widgets/base",
            "_model_module_version": "1.2.0",
            "_model_name": "LayoutModel",
            "_view_count": null,
            "_view_module": "@jupyter-widgets/base",
            "_view_module_version": "1.2.0",
            "_view_name": "LayoutView",
            "align_content": null,
            "align_items": null,
            "align_self": null,
            "border": null,
            "bottom": null,
            "display": null,
            "flex": null,
            "flex_flow": null,
            "grid_area": null,
            "grid_auto_columns": null,
            "grid_auto_flow": null,
            "grid_auto_rows": null,
            "grid_column": null,
            "grid_gap": null,
            "grid_row": null,
            "grid_template_areas": null,
            "grid_template_columns": null,
            "grid_template_rows": null,
            "height": null,
            "justify_content": null,
            "justify_items": null,
            "left": null,
            "margin": null,
            "max_height": null,
            "max_width": null,
            "min_height": null,
            "min_width": null,
            "object_fit": null,
            "object_position": null,
            "order": null,
            "overflow": null,
            "overflow_x": null,
            "overflow_y": null,
            "padding": null,
            "right": null,
            "top": null,
            "visibility": null,
            "width": null
          }
        },
        "71d351e3c7c242b2830af84201db74df": {
          "model_module": "@jupyter-widgets/controls",
          "model_module_version": "1.5.0",
          "model_name": "ProgressStyleModel",
          "state": {
            "_model_module": "@jupyter-widgets/controls",
            "_model_module_version": "1.5.0",
            "_model_name": "ProgressStyleModel",
            "_view_count": null,
            "_view_module": "@jupyter-widgets/base",
            "_view_module_version": "1.2.0",
            "_view_name": "StyleView",
            "bar_color": null,
            "description_width": ""
          }
        },
        "7661a1712e3a4e35bd0bc30b09f310da": {
          "model_module": "@jupyter-widgets/base",
          "model_module_version": "1.2.0",
          "model_name": "LayoutModel",
          "state": {
            "_model_module": "@jupyter-widgets/base",
            "_model_module_version": "1.2.0",
            "_model_name": "LayoutModel",
            "_view_count": null,
            "_view_module": "@jupyter-widgets/base",
            "_view_module_version": "1.2.0",
            "_view_name": "LayoutView",
            "align_content": null,
            "align_items": null,
            "align_self": null,
            "border": null,
            "bottom": null,
            "display": null,
            "flex": null,
            "flex_flow": null,
            "grid_area": null,
            "grid_auto_columns": null,
            "grid_auto_flow": null,
            "grid_auto_rows": null,
            "grid_column": null,
            "grid_gap": null,
            "grid_row": null,
            "grid_template_areas": null,
            "grid_template_columns": null,
            "grid_template_rows": null,
            "height": null,
            "justify_content": null,
            "justify_items": null,
            "left": null,
            "margin": null,
            "max_height": null,
            "max_width": null,
            "min_height": null,
            "min_width": null,
            "object_fit": null,
            "object_position": null,
            "order": null,
            "overflow": null,
            "overflow_x": null,
            "overflow_y": null,
            "padding": null,
            "right": null,
            "top": null,
            "visibility": null,
            "width": null
          }
        },
        "77323b6fd5494bc59de7ba082d62d302": {
          "model_module": "@jupyter-widgets/base",
          "model_module_version": "1.2.0",
          "model_name": "LayoutModel",
          "state": {
            "_model_module": "@jupyter-widgets/base",
            "_model_module_version": "1.2.0",
            "_model_name": "LayoutModel",
            "_view_count": null,
            "_view_module": "@jupyter-widgets/base",
            "_view_module_version": "1.2.0",
            "_view_name": "LayoutView",
            "align_content": null,
            "align_items": null,
            "align_self": null,
            "border": null,
            "bottom": null,
            "display": null,
            "flex": null,
            "flex_flow": null,
            "grid_area": null,
            "grid_auto_columns": null,
            "grid_auto_flow": null,
            "grid_auto_rows": null,
            "grid_column": null,
            "grid_gap": null,
            "grid_row": null,
            "grid_template_areas": null,
            "grid_template_columns": null,
            "grid_template_rows": null,
            "height": null,
            "justify_content": null,
            "justify_items": null,
            "left": null,
            "margin": null,
            "max_height": null,
            "max_width": null,
            "min_height": null,
            "min_width": null,
            "object_fit": null,
            "object_position": null,
            "order": null,
            "overflow": null,
            "overflow_x": null,
            "overflow_y": null,
            "padding": null,
            "right": null,
            "top": null,
            "visibility": null,
            "width": null
          }
        },
        "7952cd7fffb8488cabb449053e7b3d2c": {
          "model_module": "@jupyter-widgets/base",
          "model_module_version": "1.2.0",
          "model_name": "LayoutModel",
          "state": {
            "_model_module": "@jupyter-widgets/base",
            "_model_module_version": "1.2.0",
            "_model_name": "LayoutModel",
            "_view_count": null,
            "_view_module": "@jupyter-widgets/base",
            "_view_module_version": "1.2.0",
            "_view_name": "LayoutView",
            "align_content": null,
            "align_items": null,
            "align_self": null,
            "border": null,
            "bottom": null,
            "display": null,
            "flex": null,
            "flex_flow": null,
            "grid_area": null,
            "grid_auto_columns": null,
            "grid_auto_flow": null,
            "grid_auto_rows": null,
            "grid_column": null,
            "grid_gap": null,
            "grid_row": null,
            "grid_template_areas": null,
            "grid_template_columns": null,
            "grid_template_rows": null,
            "height": null,
            "justify_content": null,
            "justify_items": null,
            "left": null,
            "margin": null,
            "max_height": null,
            "max_width": null,
            "min_height": null,
            "min_width": null,
            "object_fit": null,
            "object_position": null,
            "order": null,
            "overflow": null,
            "overflow_x": null,
            "overflow_y": null,
            "padding": null,
            "right": null,
            "top": null,
            "visibility": null,
            "width": null
          }
        },
        "7b7a164b694a4724b6fc82739158de64": {
          "model_module": "@jupyter-widgets/controls",
          "model_module_version": "1.5.0",
          "model_name": "FloatProgressModel",
          "state": {
            "_dom_classes": [],
            "_model_module": "@jupyter-widgets/controls",
            "_model_module_version": "1.5.0",
            "_model_name": "FloatProgressModel",
            "_view_count": null,
            "_view_module": "@jupyter-widgets/controls",
            "_view_module_version": "1.5.0",
            "_view_name": "ProgressView",
            "bar_style": "success",
            "description": "",
            "description_tooltip": null,
            "layout": "IPY_MODEL_0de9c42a17cb49e9b64d384aff4c82f0",
            "max": 695,
            "min": 0,
            "orientation": "horizontal",
            "style": "IPY_MODEL_48d99dcd29bd45499d3fc63c90b30398",
            "value": 695
          }
        },
        "821b142bb8f54467b02e23d2fad235b9": {
          "model_module": "@jupyter-widgets/controls",
          "model_module_version": "1.5.0",
          "model_name": "ProgressStyleModel",
          "state": {
            "_model_module": "@jupyter-widgets/controls",
            "_model_module_version": "1.5.0",
            "_model_name": "ProgressStyleModel",
            "_view_count": null,
            "_view_module": "@jupyter-widgets/base",
            "_view_module_version": "1.2.0",
            "_view_name": "StyleView",
            "bar_color": null,
            "description_width": ""
          }
        },
        "84829c0dadf14d78bbac708186563437": {
          "model_module": "@jupyter-widgets/base",
          "model_module_version": "1.2.0",
          "model_name": "LayoutModel",
          "state": {
            "_model_module": "@jupyter-widgets/base",
            "_model_module_version": "1.2.0",
            "_model_name": "LayoutModel",
            "_view_count": null,
            "_view_module": "@jupyter-widgets/base",
            "_view_module_version": "1.2.0",
            "_view_name": "LayoutView",
            "align_content": null,
            "align_items": null,
            "align_self": null,
            "border": null,
            "bottom": null,
            "display": null,
            "flex": null,
            "flex_flow": null,
            "grid_area": null,
            "grid_auto_columns": null,
            "grid_auto_flow": null,
            "grid_auto_rows": null,
            "grid_column": null,
            "grid_gap": null,
            "grid_row": null,
            "grid_template_areas": null,
            "grid_template_columns": null,
            "grid_template_rows": null,
            "height": null,
            "justify_content": null,
            "justify_items": null,
            "left": null,
            "margin": null,
            "max_height": null,
            "max_width": null,
            "min_height": null,
            "min_width": null,
            "object_fit": null,
            "object_position": null,
            "order": null,
            "overflow": null,
            "overflow_x": null,
            "overflow_y": null,
            "padding": null,
            "right": null,
            "top": null,
            "visibility": null,
            "width": null
          }
        },
        "849e0d0550cd4445a597d35e4982b750": {
          "model_module": "@jupyter-widgets/controls",
          "model_module_version": "1.5.0",
          "model_name": "DescriptionStyleModel",
          "state": {
            "_model_module": "@jupyter-widgets/controls",
            "_model_module_version": "1.5.0",
            "_model_name": "DescriptionStyleModel",
            "_view_count": null,
            "_view_module": "@jupyter-widgets/base",
            "_view_module_version": "1.2.0",
            "_view_name": "StyleView",
            "description_width": ""
          }
        },
        "8da396d2125e406c81735ee77e7813ac": {
          "model_module": "@jupyter-widgets/controls",
          "model_module_version": "1.5.0",
          "model_name": "DescriptionStyleModel",
          "state": {
            "_model_module": "@jupyter-widgets/controls",
            "_model_module_version": "1.5.0",
            "_model_name": "DescriptionStyleModel",
            "_view_count": null,
            "_view_module": "@jupyter-widgets/base",
            "_view_module_version": "1.2.0",
            "_view_name": "StyleView",
            "description_width": ""
          }
        },
        "948a9293d16e411a9efe47e7e4b6891d": {
          "model_module": "@jupyter-widgets/controls",
          "model_module_version": "1.5.0",
          "model_name": "HBoxModel",
          "state": {
            "_dom_classes": [],
            "_model_module": "@jupyter-widgets/controls",
            "_model_module_version": "1.5.0",
            "_model_name": "HBoxModel",
            "_view_count": null,
            "_view_module": "@jupyter-widgets/controls",
            "_view_module_version": "1.5.0",
            "_view_name": "HBoxView",
            "box_style": "",
            "children": [
              "IPY_MODEL_d21132c7373c4bf097cc2aff61fa7261",
              "IPY_MODEL_096323b734264cacabe44526da3ba55c",
              "IPY_MODEL_4ec63e40c8114c6b895eb9b47d3fa86a"
            ],
            "layout": "IPY_MODEL_12940c90a802432dadc28cb4e0ba9515"
          }
        },
        "96e30a5517b3430ab66fb9d60fb9aeb7": {
          "model_module": "@jupyter-widgets/controls",
          "model_module_version": "1.5.0",
          "model_name": "DescriptionStyleModel",
          "state": {
            "_model_module": "@jupyter-widgets/controls",
            "_model_module_version": "1.5.0",
            "_model_name": "DescriptionStyleModel",
            "_view_count": null,
            "_view_module": "@jupyter-widgets/base",
            "_view_module_version": "1.2.0",
            "_view_name": "StyleView",
            "description_width": ""
          }
        },
        "9eae616e7adf46cd9c25e2c585ebe32b": {
          "model_module": "@jupyter-widgets/base",
          "model_module_version": "1.2.0",
          "model_name": "LayoutModel",
          "state": {
            "_model_module": "@jupyter-widgets/base",
            "_model_module_version": "1.2.0",
            "_model_name": "LayoutModel",
            "_view_count": null,
            "_view_module": "@jupyter-widgets/base",
            "_view_module_version": "1.2.0",
            "_view_name": "LayoutView",
            "align_content": null,
            "align_items": null,
            "align_self": null,
            "border": null,
            "bottom": null,
            "display": null,
            "flex": null,
            "flex_flow": null,
            "grid_area": null,
            "grid_auto_columns": null,
            "grid_auto_flow": null,
            "grid_auto_rows": null,
            "grid_column": null,
            "grid_gap": null,
            "grid_row": null,
            "grid_template_areas": null,
            "grid_template_columns": null,
            "grid_template_rows": null,
            "height": null,
            "justify_content": null,
            "justify_items": null,
            "left": null,
            "margin": null,
            "max_height": null,
            "max_width": null,
            "min_height": null,
            "min_width": null,
            "object_fit": null,
            "object_position": null,
            "order": null,
            "overflow": null,
            "overflow_x": null,
            "overflow_y": null,
            "padding": null,
            "right": null,
            "top": null,
            "visibility": null,
            "width": "20px"
          }
        },
        "a327f46bda5d4a7da3e4ef05e4a26a03": {
          "model_module": "@jupyter-widgets/base",
          "model_module_version": "1.2.0",
          "model_name": "LayoutModel",
          "state": {
            "_model_module": "@jupyter-widgets/base",
            "_model_module_version": "1.2.0",
            "_model_name": "LayoutModel",
            "_view_count": null,
            "_view_module": "@jupyter-widgets/base",
            "_view_module_version": "1.2.0",
            "_view_name": "LayoutView",
            "align_content": null,
            "align_items": null,
            "align_self": null,
            "border": null,
            "bottom": null,
            "display": null,
            "flex": null,
            "flex_flow": null,
            "grid_area": null,
            "grid_auto_columns": null,
            "grid_auto_flow": null,
            "grid_auto_rows": null,
            "grid_column": null,
            "grid_gap": null,
            "grid_row": null,
            "grid_template_areas": null,
            "grid_template_columns": null,
            "grid_template_rows": null,
            "height": null,
            "justify_content": null,
            "justify_items": null,
            "left": null,
            "margin": null,
            "max_height": null,
            "max_width": null,
            "min_height": null,
            "min_width": null,
            "object_fit": null,
            "object_position": null,
            "order": null,
            "overflow": null,
            "overflow_x": null,
            "overflow_y": null,
            "padding": null,
            "right": null,
            "top": null,
            "visibility": null,
            "width": null
          }
        },
        "a3f42c7b39e942e6886a1df4d4468b9f": {
          "model_module": "@jupyter-widgets/controls",
          "model_module_version": "1.5.0",
          "model_name": "HTMLModel",
          "state": {
            "_dom_classes": [],
            "_model_module": "@jupyter-widgets/controls",
            "_model_module_version": "1.5.0",
            "_model_name": "HTMLModel",
            "_view_count": null,
            "_view_module": "@jupyter-widgets/controls",
            "_view_module_version": "1.5.0",
            "_view_name": "HTMLView",
            "description": "",
            "description_tooltip": null,
            "layout": "IPY_MODEL_34bb088ff3e14b6b98de001ecb990121",
            "placeholder": "​",
            "style": "IPY_MODEL_b549809e16e1434e806906cb68b1ec43",
            "value": " 695/695 [00:00&lt;00:00, 69.5kB/s]"
          }
        },
        "a62c38874ae94d829651be54184b1365": {
          "model_module": "@jupyter-widgets/controls",
          "model_module_version": "1.5.0",
          "model_name": "DescriptionStyleModel",
          "state": {
            "_model_module": "@jupyter-widgets/controls",
            "_model_module_version": "1.5.0",
            "_model_name": "DescriptionStyleModel",
            "_view_count": null,
            "_view_module": "@jupyter-widgets/base",
            "_view_module_version": "1.2.0",
            "_view_name": "StyleView",
            "description_width": ""
          }
        },
        "a8fce39c8cb242f5a845d44d20783776": {
          "model_module": "@jupyter-widgets/controls",
          "model_module_version": "1.5.0",
          "model_name": "ProgressStyleModel",
          "state": {
            "_model_module": "@jupyter-widgets/controls",
            "_model_module_version": "1.5.0",
            "_model_name": "ProgressStyleModel",
            "_view_count": null,
            "_view_module": "@jupyter-widgets/base",
            "_view_module_version": "1.2.0",
            "_view_name": "StyleView",
            "bar_color": null,
            "description_width": ""
          }
        },
        "adbd24dfe76f4f17a4bc75a10072af73": {
          "model_module": "@jupyter-widgets/controls",
          "model_module_version": "1.5.0",
          "model_name": "FloatProgressModel",
          "state": {
            "_dom_classes": [],
            "_model_module": "@jupyter-widgets/controls",
            "_model_module_version": "1.5.0",
            "_model_name": "FloatProgressModel",
            "_view_count": null,
            "_view_module": "@jupyter-widgets/controls",
            "_view_module_version": "1.5.0",
            "_view_name": "ProgressView",
            "bar_style": "success",
            "description": "",
            "description_tooltip": null,
            "layout": "IPY_MODEL_457149bd07514cb5923c0b17aa382bac",
            "max": 371391,
            "min": 0,
            "orientation": "horizontal",
            "style": "IPY_MODEL_71d351e3c7c242b2830af84201db74df",
            "value": 371391
          }
        },
        "b3d1e9c6ff784b4b818117d2900a2aa9": {
          "model_module": "@jupyter-widgets/base",
          "model_module_version": "1.2.0",
          "model_name": "LayoutModel",
          "state": {
            "_model_module": "@jupyter-widgets/base",
            "_model_module_version": "1.2.0",
            "_model_name": "LayoutModel",
            "_view_count": null,
            "_view_module": "@jupyter-widgets/base",
            "_view_module_version": "1.2.0",
            "_view_name": "LayoutView",
            "align_content": null,
            "align_items": null,
            "align_self": null,
            "border": null,
            "bottom": null,
            "display": null,
            "flex": null,
            "flex_flow": null,
            "grid_area": null,
            "grid_auto_columns": null,
            "grid_auto_flow": null,
            "grid_auto_rows": null,
            "grid_column": null,
            "grid_gap": null,
            "grid_row": null,
            "grid_template_areas": null,
            "grid_template_columns": null,
            "grid_template_rows": null,
            "height": null,
            "justify_content": null,
            "justify_items": null,
            "left": null,
            "margin": null,
            "max_height": null,
            "max_width": null,
            "min_height": null,
            "min_width": null,
            "object_fit": null,
            "object_position": null,
            "order": null,
            "overflow": null,
            "overflow_x": null,
            "overflow_y": null,
            "padding": null,
            "right": null,
            "top": null,
            "visibility": null,
            "width": null
          }
        },
        "b549809e16e1434e806906cb68b1ec43": {
          "model_module": "@jupyter-widgets/controls",
          "model_module_version": "1.5.0",
          "model_name": "DescriptionStyleModel",
          "state": {
            "_model_module": "@jupyter-widgets/controls",
            "_model_module_version": "1.5.0",
            "_model_name": "DescriptionStyleModel",
            "_view_count": null,
            "_view_module": "@jupyter-widgets/base",
            "_view_module_version": "1.2.0",
            "_view_name": "StyleView",
            "description_width": ""
          }
        },
        "b67c187a1fd54159a559fa536e15ab46": {
          "model_module": "@jupyter-widgets/controls",
          "model_module_version": "1.5.0",
          "model_name": "HTMLModel",
          "state": {
            "_dom_classes": [],
            "_model_module": "@jupyter-widgets/controls",
            "_model_module_version": "1.5.0",
            "_model_name": "HTMLModel",
            "_view_count": null,
            "_view_module": "@jupyter-widgets/controls",
            "_view_module_version": "1.5.0",
            "_view_name": "HTMLView",
            "description": "",
            "description_tooltip": null,
            "layout": "IPY_MODEL_58d8ab3acea04428b4bfcbd6a695b6c9",
            "placeholder": "​",
            "style": "IPY_MODEL_3c03f815d7574a7f8ccc7dfc20a45e60",
            "value": " 371k/371k [00:00&lt;00:00, 5.49MB/s]"
          }
        },
        "b9e0ee9672394224befb632cd9635ebe": {
          "model_module": "@jupyter-widgets/base",
          "model_module_version": "1.2.0",
          "model_name": "LayoutModel",
          "state": {
            "_model_module": "@jupyter-widgets/base",
            "_model_module_version": "1.2.0",
            "_model_name": "LayoutModel",
            "_view_count": null,
            "_view_module": "@jupyter-widgets/base",
            "_view_module_version": "1.2.0",
            "_view_name": "LayoutView",
            "align_content": null,
            "align_items": null,
            "align_self": null,
            "border": null,
            "bottom": null,
            "display": null,
            "flex": null,
            "flex_flow": null,
            "grid_area": null,
            "grid_auto_columns": null,
            "grid_auto_flow": null,
            "grid_auto_rows": null,
            "grid_column": null,
            "grid_gap": null,
            "grid_row": null,
            "grid_template_areas": null,
            "grid_template_columns": null,
            "grid_template_rows": null,
            "height": null,
            "justify_content": null,
            "justify_items": null,
            "left": null,
            "margin": null,
            "max_height": null,
            "max_width": null,
            "min_height": null,
            "min_width": null,
            "object_fit": null,
            "object_position": null,
            "order": null,
            "overflow": null,
            "overflow_x": null,
            "overflow_y": null,
            "padding": null,
            "right": null,
            "top": null,
            "visibility": null,
            "width": null
          }
        },
        "bb708e0105ff4047a3971b95b633efdb": {
          "model_module": "@jupyter-widgets/controls",
          "model_module_version": "1.5.0",
          "model_name": "HTMLModel",
          "state": {
            "_dom_classes": [],
            "_model_module": "@jupyter-widgets/controls",
            "_model_module_version": "1.5.0",
            "_model_name": "HTMLModel",
            "_view_count": null,
            "_view_module": "@jupyter-widgets/controls",
            "_view_module_version": "1.5.0",
            "_view_name": "HTMLView",
            "description": "",
            "description_tooltip": null,
            "layout": "IPY_MODEL_3ddd31ce9d22467cb384e11e3f4b867f",
            "placeholder": "​",
            "style": "IPY_MODEL_96e30a5517b3430ab66fb9d60fb9aeb7",
            "value": "vocab.txt: "
          }
        },
        "bc0697571e674452aee0826189f4e3d2": {
          "model_module": "@jupyter-widgets/controls",
          "model_module_version": "1.5.0",
          "model_name": "DescriptionStyleModel",
          "state": {
            "_model_module": "@jupyter-widgets/controls",
            "_model_module_version": "1.5.0",
            "_model_name": "DescriptionStyleModel",
            "_view_count": null,
            "_view_module": "@jupyter-widgets/base",
            "_view_module_version": "1.2.0",
            "_view_name": "StyleView",
            "description_width": ""
          }
        },
        "ca84b5d94f254b51b3463865978b7866": {
          "model_module": "@jupyter-widgets/base",
          "model_module_version": "1.2.0",
          "model_name": "LayoutModel",
          "state": {
            "_model_module": "@jupyter-widgets/base",
            "_model_module_version": "1.2.0",
            "_model_name": "LayoutModel",
            "_view_count": null,
            "_view_module": "@jupyter-widgets/base",
            "_view_module_version": "1.2.0",
            "_view_name": "LayoutView",
            "align_content": null,
            "align_items": null,
            "align_self": null,
            "border": null,
            "bottom": null,
            "display": null,
            "flex": null,
            "flex_flow": null,
            "grid_area": null,
            "grid_auto_columns": null,
            "grid_auto_flow": null,
            "grid_auto_rows": null,
            "grid_column": null,
            "grid_gap": null,
            "grid_row": null,
            "grid_template_areas": null,
            "grid_template_columns": null,
            "grid_template_rows": null,
            "height": null,
            "justify_content": null,
            "justify_items": null,
            "left": null,
            "margin": null,
            "max_height": null,
            "max_width": null,
            "min_height": null,
            "min_width": null,
            "object_fit": null,
            "object_position": null,
            "order": null,
            "overflow": null,
            "overflow_x": null,
            "overflow_y": null,
            "padding": null,
            "right": null,
            "top": null,
            "visibility": null,
            "width": null
          }
        },
        "d21132c7373c4bf097cc2aff61fa7261": {
          "model_module": "@jupyter-widgets/controls",
          "model_module_version": "1.5.0",
          "model_name": "HTMLModel",
          "state": {
            "_dom_classes": [],
            "_model_module": "@jupyter-widgets/controls",
            "_model_module_version": "1.5.0",
            "_model_name": "HTMLModel",
            "_view_count": null,
            "_view_module": "@jupyter-widgets/controls",
            "_view_module_version": "1.5.0",
            "_view_name": "HTMLView",
            "description": "",
            "description_tooltip": null,
            "layout": "IPY_MODEL_77323b6fd5494bc59de7ba082d62d302",
            "placeholder": "​",
            "style": "IPY_MODEL_bc0697571e674452aee0826189f4e3d2",
            "value": "tokenizer_config.json: "
          }
        },
        "d9e7ef98d5994d1cb979ff0c48780a87": {
          "model_module": "@jupyter-widgets/controls",
          "model_module_version": "1.5.0",
          "model_name": "HBoxModel",
          "state": {
            "_dom_classes": [],
            "_model_module": "@jupyter-widgets/controls",
            "_model_module_version": "1.5.0",
            "_model_name": "HBoxModel",
            "_view_count": null,
            "_view_module": "@jupyter-widgets/controls",
            "_view_module_version": "1.5.0",
            "_view_name": "HBoxView",
            "box_style": "",
            "children": [
              "IPY_MODEL_ddc09a24274d4c30869d7be3767163c3",
              "IPY_MODEL_7b7a164b694a4724b6fc82739158de64",
              "IPY_MODEL_a3f42c7b39e942e6886a1df4d4468b9f"
            ],
            "layout": "IPY_MODEL_df6bc3b0776b47de8a5c28e0ae06664e"
          }
        },
        "ddc09a24274d4c30869d7be3767163c3": {
          "model_module": "@jupyter-widgets/controls",
          "model_module_version": "1.5.0",
          "model_name": "HTMLModel",
          "state": {
            "_dom_classes": [],
            "_model_module": "@jupyter-widgets/controls",
            "_model_module_version": "1.5.0",
            "_model_name": "HTMLModel",
            "_view_count": null,
            "_view_module": "@jupyter-widgets/controls",
            "_view_module_version": "1.5.0",
            "_view_name": "HTMLView",
            "description": "",
            "description_tooltip": null,
            "layout": "IPY_MODEL_09a4b4cbb341462a898fd5bd792c4ff4",
            "placeholder": "​",
            "style": "IPY_MODEL_8da396d2125e406c81735ee77e7813ac",
            "value": "special_tokens_map.json: 100%"
          }
        },
        "df6bc3b0776b47de8a5c28e0ae06664e": {
          "model_module": "@jupyter-widgets/base",
          "model_module_version": "1.2.0",
          "model_name": "LayoutModel",
          "state": {
            "_model_module": "@jupyter-widgets/base",
            "_model_module_version": "1.2.0",
            "_model_name": "LayoutModel",
            "_view_count": null,
            "_view_module": "@jupyter-widgets/base",
            "_view_module_version": "1.2.0",
            "_view_name": "LayoutView",
            "align_content": null,
            "align_items": null,
            "align_self": null,
            "border": null,
            "bottom": null,
            "display": null,
            "flex": null,
            "flex_flow": null,
            "grid_area": null,
            "grid_auto_columns": null,
            "grid_auto_flow": null,
            "grid_auto_rows": null,
            "grid_column": null,
            "grid_gap": null,
            "grid_row": null,
            "grid_template_areas": null,
            "grid_template_columns": null,
            "grid_template_rows": null,
            "height": null,
            "justify_content": null,
            "justify_items": null,
            "left": null,
            "margin": null,
            "max_height": null,
            "max_width": null,
            "min_height": null,
            "min_width": null,
            "object_fit": null,
            "object_position": null,
            "order": null,
            "overflow": null,
            "overflow_x": null,
            "overflow_y": null,
            "padding": null,
            "right": null,
            "top": null,
            "visibility": null,
            "width": null
          }
        },
        "e1b6ecdbf4cc4e2ea43c4b0539eac920": {
          "model_module": "@jupyter-widgets/controls",
          "model_module_version": "1.5.0",
          "model_name": "DescriptionStyleModel",
          "state": {
            "_model_module": "@jupyter-widgets/controls",
            "_model_module_version": "1.5.0",
            "_model_name": "DescriptionStyleModel",
            "_view_count": null,
            "_view_module": "@jupyter-widgets/base",
            "_view_module_version": "1.2.0",
            "_view_name": "StyleView",
            "description_width": ""
          }
        },
        "e629bbec0721426f82acf1ce0a2fd2c7": {
          "model_module": "@jupyter-widgets/controls",
          "model_module_version": "1.5.0",
          "model_name": "FloatProgressModel",
          "state": {
            "_dom_classes": [],
            "_model_module": "@jupyter-widgets/controls",
            "_model_module_version": "1.5.0",
            "_model_name": "FloatProgressModel",
            "_view_count": null,
            "_view_module": "@jupyter-widgets/controls",
            "_view_module_version": "1.5.0",
            "_view_name": "ProgressView",
            "bar_style": "success",
            "description": "",
            "description_tooltip": null,
            "layout": "IPY_MODEL_f51442c36e8142d3a417cf6be0afbdf5",
            "max": 1,
            "min": 0,
            "orientation": "horizontal",
            "style": "IPY_MODEL_821b142bb8f54467b02e23d2fad235b9",
            "value": 1
          }
        },
        "e70d09576fe94361a6f3fa48829ce9ba": {
          "model_module": "@jupyter-widgets/controls",
          "model_module_version": "1.5.0",
          "model_name": "HBoxModel",
          "state": {
            "_dom_classes": [],
            "_model_module": "@jupyter-widgets/controls",
            "_model_module_version": "1.5.0",
            "_model_name": "HBoxModel",
            "_view_count": null,
            "_view_module": "@jupyter-widgets/controls",
            "_view_module_version": "1.5.0",
            "_view_name": "HBoxView",
            "box_style": "",
            "children": [
              "IPY_MODEL_bb708e0105ff4047a3971b95b633efdb",
              "IPY_MODEL_f6bde9d98979490ba8e6cad1e36cbb37",
              "IPY_MODEL_fde7d5a82b1b4b1fb27dab0c83270e60"
            ],
            "layout": "IPY_MODEL_a327f46bda5d4a7da3e4ef05e4a26a03"
          }
        },
        "e7aebcf398624c2cadc83b9b3c1c3994": {
          "model_module": "@jupyter-widgets/controls",
          "model_module_version": "1.5.0",
          "model_name": "HTMLModel",
          "state": {
            "_dom_classes": [],
            "_model_module": "@jupyter-widgets/controls",
            "_model_module_version": "1.5.0",
            "_model_name": "HTMLModel",
            "_view_count": null,
            "_view_module": "@jupyter-widgets/controls",
            "_view_module_version": "1.5.0",
            "_view_name": "HTMLView",
            "description": "",
            "description_tooltip": null,
            "layout": "IPY_MODEL_ca84b5d94f254b51b3463865978b7866",
            "placeholder": "​",
            "style": "IPY_MODEL_849e0d0550cd4445a597d35e4982b750",
            "value": "tokenizer_78b3253a26.model: 100%"
          }
        },
        "f51442c36e8142d3a417cf6be0afbdf5": {
          "model_module": "@jupyter-widgets/base",
          "model_module_version": "1.2.0",
          "model_name": "LayoutModel",
          "state": {
            "_model_module": "@jupyter-widgets/base",
            "_model_module_version": "1.2.0",
            "_model_name": "LayoutModel",
            "_view_count": null,
            "_view_module": "@jupyter-widgets/base",
            "_view_module_version": "1.2.0",
            "_view_name": "LayoutView",
            "align_content": null,
            "align_items": null,
            "align_self": null,
            "border": null,
            "bottom": null,
            "display": null,
            "flex": null,
            "flex_flow": null,
            "grid_area": null,
            "grid_auto_columns": null,
            "grid_auto_flow": null,
            "grid_auto_rows": null,
            "grid_column": null,
            "grid_gap": null,
            "grid_row": null,
            "grid_template_areas": null,
            "grid_template_columns": null,
            "grid_template_rows": null,
            "height": null,
            "justify_content": null,
            "justify_items": null,
            "left": null,
            "margin": null,
            "max_height": null,
            "max_width": null,
            "min_height": null,
            "min_width": null,
            "object_fit": null,
            "object_position": null,
            "order": null,
            "overflow": null,
            "overflow_x": null,
            "overflow_y": null,
            "padding": null,
            "right": null,
            "top": null,
            "visibility": null,
            "width": "20px"
          }
        },
        "f6bde9d98979490ba8e6cad1e36cbb37": {
          "model_module": "@jupyter-widgets/controls",
          "model_module_version": "1.5.0",
          "model_name": "FloatProgressModel",
          "state": {
            "_dom_classes": [],
            "_model_module": "@jupyter-widgets/controls",
            "_model_module_version": "1.5.0",
            "_model_name": "FloatProgressModel",
            "_view_count": null,
            "_view_module": "@jupyter-widgets/controls",
            "_view_module_version": "1.5.0",
            "_view_name": "ProgressView",
            "bar_style": "success",
            "description": "",
            "description_tooltip": null,
            "layout": "IPY_MODEL_9eae616e7adf46cd9c25e2c585ebe32b",
            "max": 1,
            "min": 0,
            "orientation": "horizontal",
            "style": "IPY_MODEL_a8fce39c8cb242f5a845d44d20783776",
            "value": 1
          }
        },
        "f88ef7dd60a5469f8221f7c2bfc690e1": {
          "model_module": "@jupyter-widgets/controls",
          "model_module_version": "1.5.0",
          "model_name": "ProgressStyleModel",
          "state": {
            "_model_module": "@jupyter-widgets/controls",
            "_model_module_version": "1.5.0",
            "_model_name": "ProgressStyleModel",
            "_view_count": null,
            "_view_module": "@jupyter-widgets/base",
            "_view_module_version": "1.2.0",
            "_view_name": "StyleView",
            "bar_color": null,
            "description_width": ""
          }
        },
        "fc359db8ac6d49c3809e022253c06f82": {
          "model_module": "@jupyter-widgets/controls",
          "model_module_version": "1.5.0",
          "model_name": "HTMLModel",
          "state": {
            "_dom_classes": [],
            "_model_module": "@jupyter-widgets/controls",
            "_model_module_version": "1.5.0",
            "_model_name": "HTMLModel",
            "_view_count": null,
            "_view_module": "@jupyter-widgets/controls",
            "_view_module_version": "1.5.0",
            "_view_name": "HTMLView",
            "description": "",
            "description_tooltip": null,
            "layout": "IPY_MODEL_7952cd7fffb8488cabb449053e7b3d2c",
            "placeholder": "​",
            "style": "IPY_MODEL_1a49a6a80d5a4759956032032da2c141",
            "value": "tokenization_kobert.py: "
          }
        },
        "fde7d5a82b1b4b1fb27dab0c83270e60": {
          "model_module": "@jupyter-widgets/controls",
          "model_module_version": "1.5.0",
          "model_name": "HTMLModel",
          "state": {
            "_dom_classes": [],
            "_model_module": "@jupyter-widgets/controls",
            "_model_module_version": "1.5.0",
            "_model_name": "HTMLModel",
            "_view_count": null,
            "_view_module": "@jupyter-widgets/controls",
            "_view_module_version": "1.5.0",
            "_view_name": "HTMLView",
            "description": "",
            "description_tooltip": null,
            "layout": "IPY_MODEL_b3d1e9c6ff784b4b818117d2900a2aa9",
            "placeholder": "​",
            "style": "IPY_MODEL_4a4b47f8d1964925ba2e3be5bf814a23",
            "value": " 69.8k/? [00:00&lt;00:00, 3.98MB/s]"
          }
        }
      }
    }
  },
  "nbformat": 4,
  "nbformat_minor": 0
}
